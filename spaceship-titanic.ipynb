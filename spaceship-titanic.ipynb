{
 "cells": [
  {
   "cell_type": "code",
   "execution_count": 1,
   "id": "34cefd97",
   "metadata": {
    "_cell_guid": "b1076dfc-b9ad-4769-8c92-a6c4dae69d19",
    "_uuid": "8f2839f25d086af736a60e9eeb907d3b93b6e0e5",
    "execution": {
     "iopub.execute_input": "2022-09-17T07:20:09.180904Z",
     "iopub.status.busy": "2022-09-17T07:20:09.179933Z",
     "iopub.status.idle": "2022-09-17T07:20:09.195919Z",
     "shell.execute_reply": "2022-09-17T07:20:09.194692Z"
    },
    "papermill": {
     "duration": 0.030606,
     "end_time": "2022-09-17T07:20:09.199681",
     "exception": false,
     "start_time": "2022-09-17T07:20:09.169075",
     "status": "completed"
    },
    "tags": []
   },
   "outputs": [
    {
     "name": "stdout",
     "output_type": "stream",
     "text": [
      "/kaggle/input/spaceship-titanic/sample_submission.csv\n",
      "/kaggle/input/spaceship-titanic/train.csv\n",
      "/kaggle/input/spaceship-titanic/test.csv\n"
     ]
    }
   ],
   "source": [
    "# This Python 3 environment comes with many helpful analytics libraries installed\n",
    "# It is defined by the kaggle/python Docker image: https://github.com/kaggle/docker-python\n",
    "# For example, here's several helpful packages to load\n",
    "\n",
    "import numpy as np # linear algebra\n",
    "import pandas as pd # data processing, CSV file I/O (e.g. pd.read_csv)\n",
    "\n",
    "# Input data files are available in the read-only \"../input/\" directory\n",
    "# For example, running this (by clicking run or pressing Shift+Enter) will list all files under the input directory\n",
    "\n",
    "import os\n",
    "for dirname, _, filenames in os.walk('/kaggle/input'):\n",
    "    for filename in filenames:\n",
    "        print(os.path.join(dirname, filename))\n",
    "\n",
    "# You can write up to 20GB to the current directory (/kaggle/working/) that gets preserved as output when you create a version using \"Save & Run All\" \n",
    "# You can also write temporary files to /kaggle/temp/, but they won't be saved outside of the current session"
   ]
  },
  {
   "cell_type": "code",
   "execution_count": 2,
   "id": "292aa3d1",
   "metadata": {
    "execution": {
     "iopub.execute_input": "2022-09-17T07:20:09.214845Z",
     "iopub.status.busy": "2022-09-17T07:20:09.214116Z",
     "iopub.status.idle": "2022-09-17T07:20:10.606560Z",
     "shell.execute_reply": "2022-09-17T07:20:10.605373Z"
    },
    "papermill": {
     "duration": 1.403028,
     "end_time": "2022-09-17T07:20:10.609297",
     "exception": false,
     "start_time": "2022-09-17T07:20:09.206269",
     "status": "completed"
    },
    "tags": []
   },
   "outputs": [],
   "source": [
    "import matplotlib.pyplot as plt\n",
    "import seaborn as sns\n",
    "from sklearn.feature_selection import SelectKBest\n",
    "from sklearn.utils import resample\n",
    "from sklearn.feature_selection import chi2\n",
    "from sklearn.preprocessing import MinMaxScaler\n",
    "from sklearn.model_selection import train_test_split\n",
    "from sklearn import metrics\n",
    "from sklearn.linear_model import LogisticRegression\n",
    "from sklearn.ensemble import RandomForestClassifier\n",
    "from sklearn.neighbors import KNeighborsClassifier\n",
    "from sklearn.tree import DecisionTreeClassifier\n",
    "from sklearn.ensemble import GradientBoostingClassifier\n",
    "from sklearn.metrics import confusion_matrix, accuracy_score, roc_curve, classification_report\n",
    "\n",
    "%matplotlib inline\n",
    "from sklearn import metrics\n"
   ]
  },
  {
   "cell_type": "markdown",
   "id": "dde13286",
   "metadata": {
    "papermill": {
     "duration": 0.005659,
     "end_time": "2022-09-17T07:20:10.621085",
     "exception": false,
     "start_time": "2022-09-17T07:20:10.615426",
     "status": "completed"
    },
    "tags": []
   },
   "source": [
    "# Reading Dataset"
   ]
  },
  {
   "cell_type": "code",
   "execution_count": 3,
   "id": "4f97b788",
   "metadata": {
    "execution": {
     "iopub.execute_input": "2022-09-17T07:20:10.634522Z",
     "iopub.status.busy": "2022-09-17T07:20:10.634114Z",
     "iopub.status.idle": "2022-09-17T07:20:10.691409Z",
     "shell.execute_reply": "2022-09-17T07:20:10.690297Z"
    },
    "papermill": {
     "duration": 0.06687,
     "end_time": "2022-09-17T07:20:10.693929",
     "exception": false,
     "start_time": "2022-09-17T07:20:10.627059",
     "status": "completed"
    },
    "tags": []
   },
   "outputs": [],
   "source": [
    "df=pd.read_csv(\"/kaggle/input/spaceship-titanic/train.csv\")"
   ]
  },
  {
   "cell_type": "code",
   "execution_count": 4,
   "id": "c2d2f9a6",
   "metadata": {
    "execution": {
     "iopub.execute_input": "2022-09-17T07:20:10.708377Z",
     "iopub.status.busy": "2022-09-17T07:20:10.707797Z",
     "iopub.status.idle": "2022-09-17T07:20:10.738079Z",
     "shell.execute_reply": "2022-09-17T07:20:10.736808Z"
    },
    "papermill": {
     "duration": 0.040647,
     "end_time": "2022-09-17T07:20:10.740787",
     "exception": false,
     "start_time": "2022-09-17T07:20:10.700140",
     "status": "completed"
    },
    "tags": []
   },
   "outputs": [
    {
     "data": {
      "text/html": [
       "<div>\n",
       "<style scoped>\n",
       "    .dataframe tbody tr th:only-of-type {\n",
       "        vertical-align: middle;\n",
       "    }\n",
       "\n",
       "    .dataframe tbody tr th {\n",
       "        vertical-align: top;\n",
       "    }\n",
       "\n",
       "    .dataframe thead th {\n",
       "        text-align: right;\n",
       "    }\n",
       "</style>\n",
       "<table border=\"1\" class=\"dataframe\">\n",
       "  <thead>\n",
       "    <tr style=\"text-align: right;\">\n",
       "      <th></th>\n",
       "      <th>PassengerId</th>\n",
       "      <th>HomePlanet</th>\n",
       "      <th>CryoSleep</th>\n",
       "      <th>Cabin</th>\n",
       "      <th>Destination</th>\n",
       "      <th>Age</th>\n",
       "      <th>VIP</th>\n",
       "      <th>RoomService</th>\n",
       "      <th>FoodCourt</th>\n",
       "      <th>ShoppingMall</th>\n",
       "      <th>Spa</th>\n",
       "      <th>VRDeck</th>\n",
       "      <th>Name</th>\n",
       "      <th>Transported</th>\n",
       "    </tr>\n",
       "  </thead>\n",
       "  <tbody>\n",
       "    <tr>\n",
       "      <th>0</th>\n",
       "      <td>0001_01</td>\n",
       "      <td>Europa</td>\n",
       "      <td>False</td>\n",
       "      <td>B/0/P</td>\n",
       "      <td>TRAPPIST-1e</td>\n",
       "      <td>39.0</td>\n",
       "      <td>False</td>\n",
       "      <td>0.0</td>\n",
       "      <td>0.0</td>\n",
       "      <td>0.0</td>\n",
       "      <td>0.0</td>\n",
       "      <td>0.0</td>\n",
       "      <td>Maham Ofracculy</td>\n",
       "      <td>False</td>\n",
       "    </tr>\n",
       "    <tr>\n",
       "      <th>1</th>\n",
       "      <td>0002_01</td>\n",
       "      <td>Earth</td>\n",
       "      <td>False</td>\n",
       "      <td>F/0/S</td>\n",
       "      <td>TRAPPIST-1e</td>\n",
       "      <td>24.0</td>\n",
       "      <td>False</td>\n",
       "      <td>109.0</td>\n",
       "      <td>9.0</td>\n",
       "      <td>25.0</td>\n",
       "      <td>549.0</td>\n",
       "      <td>44.0</td>\n",
       "      <td>Juanna Vines</td>\n",
       "      <td>True</td>\n",
       "    </tr>\n",
       "    <tr>\n",
       "      <th>2</th>\n",
       "      <td>0003_01</td>\n",
       "      <td>Europa</td>\n",
       "      <td>False</td>\n",
       "      <td>A/0/S</td>\n",
       "      <td>TRAPPIST-1e</td>\n",
       "      <td>58.0</td>\n",
       "      <td>True</td>\n",
       "      <td>43.0</td>\n",
       "      <td>3576.0</td>\n",
       "      <td>0.0</td>\n",
       "      <td>6715.0</td>\n",
       "      <td>49.0</td>\n",
       "      <td>Altark Susent</td>\n",
       "      <td>False</td>\n",
       "    </tr>\n",
       "    <tr>\n",
       "      <th>3</th>\n",
       "      <td>0003_02</td>\n",
       "      <td>Europa</td>\n",
       "      <td>False</td>\n",
       "      <td>A/0/S</td>\n",
       "      <td>TRAPPIST-1e</td>\n",
       "      <td>33.0</td>\n",
       "      <td>False</td>\n",
       "      <td>0.0</td>\n",
       "      <td>1283.0</td>\n",
       "      <td>371.0</td>\n",
       "      <td>3329.0</td>\n",
       "      <td>193.0</td>\n",
       "      <td>Solam Susent</td>\n",
       "      <td>False</td>\n",
       "    </tr>\n",
       "    <tr>\n",
       "      <th>4</th>\n",
       "      <td>0004_01</td>\n",
       "      <td>Earth</td>\n",
       "      <td>False</td>\n",
       "      <td>F/1/S</td>\n",
       "      <td>TRAPPIST-1e</td>\n",
       "      <td>16.0</td>\n",
       "      <td>False</td>\n",
       "      <td>303.0</td>\n",
       "      <td>70.0</td>\n",
       "      <td>151.0</td>\n",
       "      <td>565.0</td>\n",
       "      <td>2.0</td>\n",
       "      <td>Willy Santantines</td>\n",
       "      <td>True</td>\n",
       "    </tr>\n",
       "  </tbody>\n",
       "</table>\n",
       "</div>"
      ],
      "text/plain": [
       "  PassengerId HomePlanet CryoSleep  Cabin  Destination   Age    VIP  \\\n",
       "0     0001_01     Europa     False  B/0/P  TRAPPIST-1e  39.0  False   \n",
       "1     0002_01      Earth     False  F/0/S  TRAPPIST-1e  24.0  False   \n",
       "2     0003_01     Europa     False  A/0/S  TRAPPIST-1e  58.0   True   \n",
       "3     0003_02     Europa     False  A/0/S  TRAPPIST-1e  33.0  False   \n",
       "4     0004_01      Earth     False  F/1/S  TRAPPIST-1e  16.0  False   \n",
       "\n",
       "   RoomService  FoodCourt  ShoppingMall     Spa  VRDeck               Name  \\\n",
       "0          0.0        0.0           0.0     0.0     0.0    Maham Ofracculy   \n",
       "1        109.0        9.0          25.0   549.0    44.0       Juanna Vines   \n",
       "2         43.0     3576.0           0.0  6715.0    49.0      Altark Susent   \n",
       "3          0.0     1283.0         371.0  3329.0   193.0       Solam Susent   \n",
       "4        303.0       70.0         151.0   565.0     2.0  Willy Santantines   \n",
       "\n",
       "   Transported  \n",
       "0        False  \n",
       "1         True  \n",
       "2        False  \n",
       "3        False  \n",
       "4         True  "
      ]
     },
     "execution_count": 4,
     "metadata": {},
     "output_type": "execute_result"
    }
   ],
   "source": [
    "df.head(5)"
   ]
  },
  {
   "cell_type": "code",
   "execution_count": 5,
   "id": "68129bd6",
   "metadata": {
    "execution": {
     "iopub.execute_input": "2022-09-17T07:20:10.755639Z",
     "iopub.status.busy": "2022-09-17T07:20:10.754610Z",
     "iopub.status.idle": "2022-09-17T07:20:10.761915Z",
     "shell.execute_reply": "2022-09-17T07:20:10.760677Z"
    },
    "papermill": {
     "duration": 0.017129,
     "end_time": "2022-09-17T07:20:10.764307",
     "exception": false,
     "start_time": "2022-09-17T07:20:10.747178",
     "status": "completed"
    },
    "tags": []
   },
   "outputs": [
    {
     "data": {
      "text/plain": [
       "(8693, 14)"
      ]
     },
     "execution_count": 5,
     "metadata": {},
     "output_type": "execute_result"
    }
   ],
   "source": [
    "df.shape"
   ]
  },
  {
   "cell_type": "code",
   "execution_count": 6,
   "id": "5a27494b",
   "metadata": {
    "execution": {
     "iopub.execute_input": "2022-09-17T07:20:10.779269Z",
     "iopub.status.busy": "2022-09-17T07:20:10.778299Z",
     "iopub.status.idle": "2022-09-17T07:20:10.805457Z",
     "shell.execute_reply": "2022-09-17T07:20:10.804325Z"
    },
    "papermill": {
     "duration": 0.037766,
     "end_time": "2022-09-17T07:20:10.808472",
     "exception": false,
     "start_time": "2022-09-17T07:20:10.770706",
     "status": "completed"
    },
    "tags": []
   },
   "outputs": [
    {
     "name": "stdout",
     "output_type": "stream",
     "text": [
      "<class 'pandas.core.frame.DataFrame'>\n",
      "RangeIndex: 8693 entries, 0 to 8692\n",
      "Data columns (total 14 columns):\n",
      " #   Column        Non-Null Count  Dtype  \n",
      "---  ------        --------------  -----  \n",
      " 0   PassengerId   8693 non-null   object \n",
      " 1   HomePlanet    8492 non-null   object \n",
      " 2   CryoSleep     8476 non-null   object \n",
      " 3   Cabin         8494 non-null   object \n",
      " 4   Destination   8511 non-null   object \n",
      " 5   Age           8514 non-null   float64\n",
      " 6   VIP           8490 non-null   object \n",
      " 7   RoomService   8512 non-null   float64\n",
      " 8   FoodCourt     8510 non-null   float64\n",
      " 9   ShoppingMall  8485 non-null   float64\n",
      " 10  Spa           8510 non-null   float64\n",
      " 11  VRDeck        8505 non-null   float64\n",
      " 12  Name          8493 non-null   object \n",
      " 13  Transported   8693 non-null   bool   \n",
      "dtypes: bool(1), float64(6), object(7)\n",
      "memory usage: 891.5+ KB\n"
     ]
    }
   ],
   "source": [
    "df.info()"
   ]
  },
  {
   "cell_type": "markdown",
   "id": "de8557d3",
   "metadata": {
    "papermill": {
     "duration": 0.006254,
     "end_time": "2022-09-17T07:20:10.821317",
     "exception": false,
     "start_time": "2022-09-17T07:20:10.815063",
     "status": "completed"
    },
    "tags": []
   },
   "source": [
    "# Data Inspecting and Cleaning "
   ]
  },
  {
   "cell_type": "code",
   "execution_count": 7,
   "id": "eff891a9",
   "metadata": {
    "execution": {
     "iopub.execute_input": "2022-09-17T07:20:10.836458Z",
     "iopub.status.busy": "2022-09-17T07:20:10.835683Z",
     "iopub.status.idle": "2022-09-17T07:20:10.847133Z",
     "shell.execute_reply": "2022-09-17T07:20:10.846341Z"
    },
    "papermill": {
     "duration": 0.021489,
     "end_time": "2022-09-17T07:20:10.849284",
     "exception": false,
     "start_time": "2022-09-17T07:20:10.827795",
     "status": "completed"
    },
    "tags": []
   },
   "outputs": [
    {
     "data": {
      "text/plain": [
       "PassengerId       0\n",
       "HomePlanet      201\n",
       "CryoSleep       217\n",
       "Cabin           199\n",
       "Destination     182\n",
       "Age             179\n",
       "VIP             203\n",
       "RoomService     181\n",
       "FoodCourt       183\n",
       "ShoppingMall    208\n",
       "Spa             183\n",
       "VRDeck          188\n",
       "Name            200\n",
       "Transported       0\n",
       "dtype: int64"
      ]
     },
     "execution_count": 7,
     "metadata": {},
     "output_type": "execute_result"
    }
   ],
   "source": [
    "df.isnull().sum()"
   ]
  },
  {
   "cell_type": "code",
   "execution_count": 8,
   "id": "bdfff41b",
   "metadata": {
    "execution": {
     "iopub.execute_input": "2022-09-17T07:20:10.864924Z",
     "iopub.status.busy": "2022-09-17T07:20:10.863762Z",
     "iopub.status.idle": "2022-09-17T07:20:10.901647Z",
     "shell.execute_reply": "2022-09-17T07:20:10.900490Z"
    },
    "papermill": {
     "duration": 0.048271,
     "end_time": "2022-09-17T07:20:10.904206",
     "exception": false,
     "start_time": "2022-09-17T07:20:10.855935",
     "status": "completed"
    },
    "tags": []
   },
   "outputs": [],
   "source": [
    "cols = ['Age','RoomService', 'FoodCourt','ShoppingMall','Spa','VRDeck']\n",
    "df[cols]=df[cols].fillna(df.mode().iloc[0])"
   ]
  },
  {
   "cell_type": "code",
   "execution_count": 9,
   "id": "d02c1acd",
   "metadata": {
    "execution": {
     "iopub.execute_input": "2022-09-17T07:20:10.918637Z",
     "iopub.status.busy": "2022-09-17T07:20:10.918194Z",
     "iopub.status.idle": "2022-09-17T07:20:10.930865Z",
     "shell.execute_reply": "2022-09-17T07:20:10.929983Z"
    },
    "papermill": {
     "duration": 0.022921,
     "end_time": "2022-09-17T07:20:10.933551",
     "exception": false,
     "start_time": "2022-09-17T07:20:10.910630",
     "status": "completed"
    },
    "tags": []
   },
   "outputs": [],
   "source": [
    "df.dropna(inplace=True)"
   ]
  },
  {
   "cell_type": "code",
   "execution_count": 10,
   "id": "518251a6",
   "metadata": {
    "execution": {
     "iopub.execute_input": "2022-09-17T07:20:10.949533Z",
     "iopub.status.busy": "2022-09-17T07:20:10.949027Z",
     "iopub.status.idle": "2022-09-17T07:20:10.967116Z",
     "shell.execute_reply": "2022-09-17T07:20:10.965377Z"
    },
    "papermill": {
     "duration": 0.028601,
     "end_time": "2022-09-17T07:20:10.969782",
     "exception": false,
     "start_time": "2022-09-17T07:20:10.941181",
     "status": "completed"
    },
    "tags": []
   },
   "outputs": [
    {
     "data": {
      "text/plain": [
       "PassengerId     0\n",
       "HomePlanet      0\n",
       "CryoSleep       0\n",
       "Cabin           0\n",
       "Destination     0\n",
       "Age             0\n",
       "VIP             0\n",
       "RoomService     0\n",
       "FoodCourt       0\n",
       "ShoppingMall    0\n",
       "Spa             0\n",
       "VRDeck          0\n",
       "Name            0\n",
       "Transported     0\n",
       "dtype: int64"
      ]
     },
     "execution_count": 10,
     "metadata": {},
     "output_type": "execute_result"
    }
   ],
   "source": [
    "df.isnull().sum()"
   ]
  },
  {
   "cell_type": "code",
   "execution_count": 11,
   "id": "dc33cd2b",
   "metadata": {
    "execution": {
     "iopub.execute_input": "2022-09-17T07:20:10.987353Z",
     "iopub.status.busy": "2022-09-17T07:20:10.986521Z",
     "iopub.status.idle": "2022-09-17T07:20:10.994377Z",
     "shell.execute_reply": "2022-09-17T07:20:10.993181Z"
    },
    "papermill": {
     "duration": 0.020847,
     "end_time": "2022-09-17T07:20:10.997574",
     "exception": false,
     "start_time": "2022-09-17T07:20:10.976727",
     "status": "completed"
    },
    "tags": []
   },
   "outputs": [
    {
     "data": {
      "text/plain": [
       "(7559, 14)"
      ]
     },
     "execution_count": 11,
     "metadata": {},
     "output_type": "execute_result"
    }
   ],
   "source": [
    "df.shape"
   ]
  },
  {
   "cell_type": "markdown",
   "id": "65d7a2cb",
   "metadata": {
    "papermill": {
     "duration": 0.006454,
     "end_time": "2022-09-17T07:20:11.013565",
     "exception": false,
     "start_time": "2022-09-17T07:20:11.007111",
     "status": "completed"
    },
    "tags": []
   },
   "source": [
    "## split mixed value into column"
   ]
  },
  {
   "cell_type": "code",
   "execution_count": 12,
   "id": "6009f4b5",
   "metadata": {
    "execution": {
     "iopub.execute_input": "2022-09-17T07:20:11.029647Z",
     "iopub.status.busy": "2022-09-17T07:20:11.028642Z",
     "iopub.status.idle": "2022-09-17T07:20:11.094509Z",
     "shell.execute_reply": "2022-09-17T07:20:11.093378Z"
    },
    "papermill": {
     "duration": 0.077038,
     "end_time": "2022-09-17T07:20:11.097268",
     "exception": false,
     "start_time": "2022-09-17T07:20:11.020230",
     "status": "completed"
    },
    "tags": []
   },
   "outputs": [],
   "source": [
    "df[[\"Cabin_deck\",\"Cabin_no.\",\"Cabin_side\"]]=df[\"Cabin\"].str.split(\"/\",expand=True)\n",
    "df.drop(columns=[\"Cabin\"],inplace=True)\n",
    "\n",
    "df[[\"firstname\",\"last_name\"]]=df[\"Name\"].str.split(\" \",expand=True)\n",
    "df.drop(columns=[\"Name\"],inplace=True)\n",
    "\n",
    "df[[\"Passenger_group\",\"Passennger_no._in_group\"]]=df[\"PassengerId\"].str.split(\"_\",expand=True)"
   ]
  },
  {
   "cell_type": "markdown",
   "id": "cf4df526",
   "metadata": {
    "papermill": {
     "duration": 0.006349,
     "end_time": "2022-09-17T07:20:11.110480",
     "exception": false,
     "start_time": "2022-09-17T07:20:11.104131",
     "status": "completed"
    },
    "tags": []
   },
   "source": [
    "## Outliers"
   ]
  },
  {
   "cell_type": "code",
   "execution_count": 13,
   "id": "734de53a",
   "metadata": {
    "execution": {
     "iopub.execute_input": "2022-09-17T07:20:11.125361Z",
     "iopub.status.busy": "2022-09-17T07:20:11.124934Z",
     "iopub.status.idle": "2022-09-17T07:20:11.170241Z",
     "shell.execute_reply": "2022-09-17T07:20:11.168954Z"
    },
    "papermill": {
     "duration": 0.055862,
     "end_time": "2022-09-17T07:20:11.172952",
     "exception": false,
     "start_time": "2022-09-17T07:20:11.117090",
     "status": "completed"
    },
    "tags": []
   },
   "outputs": [
    {
     "data": {
      "text/html": [
       "<div>\n",
       "<style scoped>\n",
       "    .dataframe tbody tr th:only-of-type {\n",
       "        vertical-align: middle;\n",
       "    }\n",
       "\n",
       "    .dataframe tbody tr th {\n",
       "        vertical-align: top;\n",
       "    }\n",
       "\n",
       "    .dataframe thead th {\n",
       "        text-align: right;\n",
       "    }\n",
       "</style>\n",
       "<table border=\"1\" class=\"dataframe\">\n",
       "  <thead>\n",
       "    <tr style=\"text-align: right;\">\n",
       "      <th></th>\n",
       "      <th>RoomService</th>\n",
       "      <th>FoodCourt</th>\n",
       "      <th>ShoppingMall</th>\n",
       "      <th>Spa</th>\n",
       "      <th>VRDeck</th>\n",
       "    </tr>\n",
       "  </thead>\n",
       "  <tbody>\n",
       "    <tr>\n",
       "      <th>0</th>\n",
       "      <td>0.0</td>\n",
       "      <td>0.0</td>\n",
       "      <td>0.0</td>\n",
       "      <td>0.0</td>\n",
       "      <td>0.0</td>\n",
       "    </tr>\n",
       "    <tr>\n",
       "      <th>1</th>\n",
       "      <td>109.0</td>\n",
       "      <td>9.0</td>\n",
       "      <td>25.0</td>\n",
       "      <td>549.0</td>\n",
       "      <td>44.0</td>\n",
       "    </tr>\n",
       "    <tr>\n",
       "      <th>2</th>\n",
       "      <td>43.0</td>\n",
       "      <td>3576.0</td>\n",
       "      <td>0.0</td>\n",
       "      <td>6715.0</td>\n",
       "      <td>49.0</td>\n",
       "    </tr>\n",
       "    <tr>\n",
       "      <th>3</th>\n",
       "      <td>0.0</td>\n",
       "      <td>1283.0</td>\n",
       "      <td>371.0</td>\n",
       "      <td>3329.0</td>\n",
       "      <td>193.0</td>\n",
       "    </tr>\n",
       "    <tr>\n",
       "      <th>4</th>\n",
       "      <td>303.0</td>\n",
       "      <td>70.0</td>\n",
       "      <td>151.0</td>\n",
       "      <td>565.0</td>\n",
       "      <td>2.0</td>\n",
       "    </tr>\n",
       "    <tr>\n",
       "      <th>...</th>\n",
       "      <td>...</td>\n",
       "      <td>...</td>\n",
       "      <td>...</td>\n",
       "      <td>...</td>\n",
       "      <td>...</td>\n",
       "    </tr>\n",
       "    <tr>\n",
       "      <th>8688</th>\n",
       "      <td>0.0</td>\n",
       "      <td>6819.0</td>\n",
       "      <td>0.0</td>\n",
       "      <td>1643.0</td>\n",
       "      <td>74.0</td>\n",
       "    </tr>\n",
       "    <tr>\n",
       "      <th>8689</th>\n",
       "      <td>0.0</td>\n",
       "      <td>0.0</td>\n",
       "      <td>0.0</td>\n",
       "      <td>0.0</td>\n",
       "      <td>0.0</td>\n",
       "    </tr>\n",
       "    <tr>\n",
       "      <th>8690</th>\n",
       "      <td>0.0</td>\n",
       "      <td>0.0</td>\n",
       "      <td>1872.0</td>\n",
       "      <td>1.0</td>\n",
       "      <td>0.0</td>\n",
       "    </tr>\n",
       "    <tr>\n",
       "      <th>8691</th>\n",
       "      <td>0.0</td>\n",
       "      <td>1049.0</td>\n",
       "      <td>0.0</td>\n",
       "      <td>353.0</td>\n",
       "      <td>3235.0</td>\n",
       "    </tr>\n",
       "    <tr>\n",
       "      <th>8692</th>\n",
       "      <td>126.0</td>\n",
       "      <td>4688.0</td>\n",
       "      <td>0.0</td>\n",
       "      <td>0.0</td>\n",
       "      <td>12.0</td>\n",
       "    </tr>\n",
       "  </tbody>\n",
       "</table>\n",
       "<p>7559 rows × 5 columns</p>\n",
       "</div>"
      ],
      "text/plain": [
       "      RoomService  FoodCourt  ShoppingMall     Spa  VRDeck\n",
       "0             0.0        0.0           0.0     0.0     0.0\n",
       "1           109.0        9.0          25.0   549.0    44.0\n",
       "2            43.0     3576.0           0.0  6715.0    49.0\n",
       "3             0.0     1283.0         371.0  3329.0   193.0\n",
       "4           303.0       70.0         151.0   565.0     2.0\n",
       "...           ...        ...           ...     ...     ...\n",
       "8688          0.0     6819.0           0.0  1643.0    74.0\n",
       "8689          0.0        0.0           0.0     0.0     0.0\n",
       "8690          0.0        0.0        1872.0     1.0     0.0\n",
       "8691          0.0     1049.0           0.0   353.0  3235.0\n",
       "8692        126.0     4688.0           0.0     0.0    12.0\n",
       "\n",
       "[7559 rows x 5 columns]"
      ]
     },
     "execution_count": 13,
     "metadata": {},
     "output_type": "execute_result"
    }
   ],
   "source": [
    "num_features=df.describe().columns.tolist()\n",
    "df_num=df[num_features]\n",
    "df_num=df_num.drop([\"Age\"],axis=1)\n",
    "df_num"
   ]
  },
  {
   "cell_type": "code",
   "execution_count": 14,
   "id": "a090e299",
   "metadata": {
    "execution": {
     "iopub.execute_input": "2022-09-17T07:20:11.188695Z",
     "iopub.status.busy": "2022-09-17T07:20:11.188262Z",
     "iopub.status.idle": "2022-09-17T07:20:11.217400Z",
     "shell.execute_reply": "2022-09-17T07:20:11.216541Z"
    },
    "papermill": {
     "duration": 0.039715,
     "end_time": "2022-09-17T07:20:11.219766",
     "exception": false,
     "start_time": "2022-09-17T07:20:11.180051",
     "status": "completed"
    },
    "tags": []
   },
   "outputs": [
    {
     "data": {
      "text/html": [
       "<div>\n",
       "<style scoped>\n",
       "    .dataframe tbody tr th:only-of-type {\n",
       "        vertical-align: middle;\n",
       "    }\n",
       "\n",
       "    .dataframe tbody tr th {\n",
       "        vertical-align: top;\n",
       "    }\n",
       "\n",
       "    .dataframe thead th {\n",
       "        text-align: right;\n",
       "    }\n",
       "</style>\n",
       "<table border=\"1\" class=\"dataframe\">\n",
       "  <thead>\n",
       "    <tr style=\"text-align: right;\">\n",
       "      <th></th>\n",
       "      <th>RoomService</th>\n",
       "      <th>FoodCourt</th>\n",
       "      <th>ShoppingMall</th>\n",
       "      <th>Spa</th>\n",
       "      <th>VRDeck</th>\n",
       "    </tr>\n",
       "  </thead>\n",
       "  <tbody>\n",
       "    <tr>\n",
       "      <th>count</th>\n",
       "      <td>7559.000000</td>\n",
       "      <td>7559.000000</td>\n",
       "      <td>7559.000000</td>\n",
       "      <td>7559.000000</td>\n",
       "      <td>7559.000000</td>\n",
       "    </tr>\n",
       "    <tr>\n",
       "      <th>mean</th>\n",
       "      <td>216.605106</td>\n",
       "      <td>455.189972</td>\n",
       "      <td>172.829607</td>\n",
       "      <td>302.181109</td>\n",
       "      <td>298.372536</td>\n",
       "    </tr>\n",
       "    <tr>\n",
       "      <th>std</th>\n",
       "      <td>632.390329</td>\n",
       "      <td>1627.898926</td>\n",
       "      <td>562.125006</td>\n",
       "      <td>1118.241466</td>\n",
       "      <td>1117.819667</td>\n",
       "    </tr>\n",
       "    <tr>\n",
       "      <th>min</th>\n",
       "      <td>0.000000</td>\n",
       "      <td>0.000000</td>\n",
       "      <td>0.000000</td>\n",
       "      <td>0.000000</td>\n",
       "      <td>0.000000</td>\n",
       "    </tr>\n",
       "    <tr>\n",
       "      <th>25%</th>\n",
       "      <td>0.000000</td>\n",
       "      <td>0.000000</td>\n",
       "      <td>0.000000</td>\n",
       "      <td>0.000000</td>\n",
       "      <td>0.000000</td>\n",
       "    </tr>\n",
       "    <tr>\n",
       "      <th>50%</th>\n",
       "      <td>0.000000</td>\n",
       "      <td>0.000000</td>\n",
       "      <td>0.000000</td>\n",
       "      <td>0.000000</td>\n",
       "      <td>0.000000</td>\n",
       "    </tr>\n",
       "    <tr>\n",
       "      <th>75%</th>\n",
       "      <td>41.500000</td>\n",
       "      <td>63.000000</td>\n",
       "      <td>23.000000</td>\n",
       "      <td>54.000000</td>\n",
       "      <td>41.000000</td>\n",
       "    </tr>\n",
       "    <tr>\n",
       "      <th>max</th>\n",
       "      <td>9920.000000</td>\n",
       "      <td>29813.000000</td>\n",
       "      <td>12253.000000</td>\n",
       "      <td>22408.000000</td>\n",
       "      <td>20336.000000</td>\n",
       "    </tr>\n",
       "  </tbody>\n",
       "</table>\n",
       "</div>"
      ],
      "text/plain": [
       "       RoomService     FoodCourt  ShoppingMall           Spa        VRDeck\n",
       "count  7559.000000   7559.000000   7559.000000   7559.000000   7559.000000\n",
       "mean    216.605106    455.189972    172.829607    302.181109    298.372536\n",
       "std     632.390329   1627.898926    562.125006   1118.241466   1117.819667\n",
       "min       0.000000      0.000000      0.000000      0.000000      0.000000\n",
       "25%       0.000000      0.000000      0.000000      0.000000      0.000000\n",
       "50%       0.000000      0.000000      0.000000      0.000000      0.000000\n",
       "75%      41.500000     63.000000     23.000000     54.000000     41.000000\n",
       "max    9920.000000  29813.000000  12253.000000  22408.000000  20336.000000"
      ]
     },
     "execution_count": 14,
     "metadata": {},
     "output_type": "execute_result"
    }
   ],
   "source": [
    "df_num.describe()"
   ]
  },
  {
   "cell_type": "code",
   "execution_count": 15,
   "id": "b2dd10a4",
   "metadata": {
    "execution": {
     "iopub.execute_input": "2022-09-17T07:20:11.237113Z",
     "iopub.status.busy": "2022-09-17T07:20:11.236477Z",
     "iopub.status.idle": "2022-09-17T07:20:11.245320Z",
     "shell.execute_reply": "2022-09-17T07:20:11.244481Z"
    },
    "papermill": {
     "duration": 0.020197,
     "end_time": "2022-09-17T07:20:11.247689",
     "exception": false,
     "start_time": "2022-09-17T07:20:11.227492",
     "status": "completed"
    },
    "tags": []
   },
   "outputs": [
    {
     "data": {
      "text/plain": [
       "RoomService     0.0\n",
       "FoodCourt       0.0\n",
       "ShoppingMall    0.0\n",
       "Spa             0.0\n",
       "VRDeck          0.0\n",
       "dtype: float64"
      ]
     },
     "execution_count": 15,
     "metadata": {},
     "output_type": "execute_result"
    }
   ],
   "source": [
    "df_num.median()"
   ]
  },
  {
   "cell_type": "code",
   "execution_count": 16,
   "id": "a3fe2d17",
   "metadata": {
    "execution": {
     "iopub.execute_input": "2022-09-17T07:20:11.265034Z",
     "iopub.status.busy": "2022-09-17T07:20:11.264429Z",
     "iopub.status.idle": "2022-09-17T07:20:11.612805Z",
     "shell.execute_reply": "2022-09-17T07:20:11.611693Z"
    },
    "papermill": {
     "duration": 0.359668,
     "end_time": "2022-09-17T07:20:11.615216",
     "exception": false,
     "start_time": "2022-09-17T07:20:11.255548",
     "status": "completed"
    },
    "tags": []
   },
   "outputs": [
    {
     "data": {
      "image/png": "[encoded data removed]",
      "text/plain": [
       "<Figure size 1440x720 with 1 Axes>"
      ]
     },
     "metadata": {},
     "output_type": "display_data"
    }
   ],
   "source": [
    "plt.figure(figsize=(20,10), facecolor='w')\n",
    "sns.boxplot(data=df_num)\n",
    "plt.show()"
   ]
  },
  {
   "cell_type": "code",
   "execution_count": 17,
   "id": "d4b59d56",
   "metadata": {
    "execution": {
     "iopub.execute_input": "2022-09-17T07:20:11.632516Z",
     "iopub.status.busy": "2022-09-17T07:20:11.632093Z",
     "iopub.status.idle": "2022-09-17T07:20:11.645443Z",
     "shell.execute_reply": "2022-09-17T07:20:11.644361Z"
    },
    "papermill": {
     "duration": 0.025155,
     "end_time": "2022-09-17T07:20:11.648338",
     "exception": false,
     "start_time": "2022-09-17T07:20:11.623183",
     "status": "completed"
    },
    "tags": []
   },
   "outputs": [
    {
     "name": "stdout",
     "output_type": "stream",
     "text": [
      "<class 'pandas.core.frame.DataFrame'>\n",
      "Int64Index: 7559 entries, 0 to 8692\n",
      "Data columns (total 5 columns):\n",
      " #   Column        Non-Null Count  Dtype  \n",
      "---  ------        --------------  -----  \n",
      " 0   RoomService   7559 non-null   float64\n",
      " 1   FoodCourt     7559 non-null   float64\n",
      " 2   ShoppingMall  7559 non-null   float64\n",
      " 3   Spa           7559 non-null   float64\n",
      " 4   VRDeck        7559 non-null   float64\n",
      "dtypes: float64(5)\n",
      "memory usage: 354.3 KB\n"
     ]
    }
   ],
   "source": [
    "df_num.info()"
   ]
  },
  {
   "cell_type": "markdown",
   "id": "5227ddbf",
   "metadata": {
    "papermill": {
     "duration": 0.007686,
     "end_time": "2022-09-17T07:20:11.663948",
     "exception": false,
     "start_time": "2022-09-17T07:20:11.656262",
     "status": "completed"
    },
    "tags": []
   },
   "source": [
    "# Feature Selection"
   ]
  },
  {
   "cell_type": "markdown",
   "id": "fcb9a4f4",
   "metadata": {
    "papermill": {
     "duration": 0.007767,
     "end_time": "2022-09-17T07:20:11.680328",
     "exception": false,
     "start_time": "2022-09-17T07:20:11.672561",
     "status": "completed"
    },
    "tags": []
   },
   "source": [
    "**Encode categorical featuers**"
   ]
  },
  {
   "cell_type": "markdown",
   "id": "231f01c8",
   "metadata": {
    "papermill": {
     "duration": 0.007837,
     "end_time": "2022-09-17T07:20:11.696128",
     "exception": false,
     "start_time": "2022-09-17T07:20:11.688291",
     "status": "completed"
    },
    "tags": []
   },
   "source": []
  },
  {
   "cell_type": "code",
   "execution_count": null,
   "id": "877905bc",
   "metadata": {
    "papermill": {
     "duration": 0.007535,
     "end_time": "2022-09-17T07:20:11.711528",
     "exception": false,
     "start_time": "2022-09-17T07:20:11.703993",
     "status": "completed"
    },
    "tags": []
   },
   "outputs": [],
   "source": []
  }
 ],
 "metadata": {
  "kernelspec": {
   "display_name": "Python 3",
   "language": "python",
   "name": "python3"
  },
  "language_info": {
   "codemirror_mode": {
    "name": "ipython",
    "version": 3
   },
   "file_extension": ".py",
   "mimetype": "text/x-python",
   "name": "python",
   "nbconvert_exporter": "python",
   "pygments_lexer": "ipython3",
   "version": "3.7.12"
  },
  "papermill": {
   "default_parameters": {},
   "duration": 12.379645,
   "end_time": "2022-09-17T07:20:12.541795",
   "environment_variables": {},
   "exception": null,
   "input_path": "__notebook__.ipynb",
   "output_path": "__notebook__.ipynb",
   "parameters": {},
   "start_time": "2022-09-17T07:20:00.162150",
   "version": "2.3.4"
  }
 },
 "nbformat": 4,
 "nbformat_minor": 5
}

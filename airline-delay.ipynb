{
 "cells": [
  {
   "cell_type": "code",
   "execution_count": 1,
   "id": "933a538d",
   "metadata": {
    "_cell_guid": "b1076dfc-b9ad-4769-8c92-a6c4dae69d19",
    "_uuid": "8f2839f25d086af736a60e9eeb907d3b93b6e0e5",
    "execution": {
     "iopub.execute_input": "2022-06-24T06:38:35.490394Z",
     "iopub.status.busy": "2022-06-24T06:38:35.489777Z",
     "iopub.status.idle": "2022-06-24T06:38:35.512990Z",
     "shell.execute_reply": "2022-06-24T06:38:35.512135Z"
    },
    "papermill": {
     "duration": 0.038044,
     "end_time": "2022-06-24T06:38:35.515736",
     "exception": false,
     "start_time": "2022-06-24T06:38:35.477692",
     "status": "completed"
    },
    "tags": []
   },
   "outputs": [
    {
     "name": "stdout",
     "output_type": "stream",
     "text": [
      "/kaggle/input/airlines-dataset-to-predict-a-delay/Airlines.csv\n"
     ]
    }
   ],
   "source": [
    "# This Python 3 environment comes with many helpful analytics libraries installed\n",
    "# It is defined by the kaggle/python Docker image: https://github.com/kaggle/docker-python\n",
    "# For example, here's several helpful packages to load\n",
    "\n",
    "import numpy as np # linear algebra\n",
    "import pandas as pd # data processing, CSV file I/O (e.g. pd.read_csv)\n",
    "\n",
    "# Input data files are available in the read-only \"../input/\" directory\n",
    "# For example, running this (by clicking run or pressing Shift+Enter) will list all files under the input directory\n",
    "\n",
    "import os\n",
    "for dirname, _, filenames in os.walk('/kaggle/input'):\n",
    "    for filename in filenames:\n",
    "        print(os.path.join(dirname, filename))\n",
    "\n",
    "# You can write up to 20GB to the current directory (/kaggle/working/) that gets preserved as output when you create a version using \"Save & Run All\" \n",
    "# You can also write temporary files to /kaggle/temp/, but they won't be saved outside of the current session"
   ]
  },
  {
   "cell_type": "markdown",
   "id": "e042d034",
   "metadata": {
    "papermill": {
     "duration": 0.008517,
     "end_time": "2022-06-24T06:38:35.533256",
     "exception": false,
     "start_time": "2022-06-24T06:38:35.524739",
     "status": "completed"
    },
    "tags": []
   },
   "source": [
    "# **Reading Dataset**"
   ]
  },
  {
   "cell_type": "code",
   "execution_count": null,
   "id": "c99628b1",
   "metadata": {
    "papermill": {
     "duration": 0.007999,
     "end_time": "2022-06-24T06:38:35.549830",
     "exception": false,
     "start_time": "2022-06-24T06:38:35.541831",
     "status": "completed"
    },
    "tags": []
   },
   "outputs": [],
   "source": []
  },
  {
   "cell_type": "code",
   "execution_count": 2,
   "id": "5d2838a6",
   "metadata": {
    "execution": {
     "iopub.execute_input": "2022-06-24T06:38:35.568491Z",
     "iopub.status.busy": "2022-06-24T06:38:35.567920Z",
     "iopub.status.idle": "2022-06-24T06:38:36.217069Z",
     "shell.execute_reply": "2022-06-24T06:38:36.216077Z"
    },
    "papermill": {
     "duration": 0.661273,
     "end_time": "2022-06-24T06:38:36.219519",
     "exception": false,
     "start_time": "2022-06-24T06:38:35.558246",
     "status": "completed"
    },
    "tags": []
   },
   "outputs": [
    {
     "data": {
      "text/plain": [
       "(539383, 9)"
      ]
     },
     "execution_count": 2,
     "metadata": {},
     "output_type": "execute_result"
    }
   ],
   "source": [
    "#Reading data\n",
    "data=pd.read_csv('/kaggle/input/airlines-dataset-to-predict-a-delay/Airlines.csv')\n",
    "data.shape"
   ]
  },
  {
   "cell_type": "code",
   "execution_count": 3,
   "id": "6df3868a",
   "metadata": {
    "execution": {
     "iopub.execute_input": "2022-06-24T06:38:36.238684Z",
     "iopub.status.busy": "2022-06-24T06:38:36.238278Z",
     "iopub.status.idle": "2022-06-24T06:38:36.257736Z",
     "shell.execute_reply": "2022-06-24T06:38:36.256634Z"
    },
    "papermill": {
     "duration": 0.032085,
     "end_time": "2022-06-24T06:38:36.260306",
     "exception": false,
     "start_time": "2022-06-24T06:38:36.228221",
     "status": "completed"
    },
    "tags": []
   },
   "outputs": [
    {
     "data": {
      "text/html": [
       "<div>\n",
       "<style scoped>\n",
       "    .dataframe tbody tr th:only-of-type {\n",
       "        vertical-align: middle;\n",
       "    }\n",
       "\n",
       "    .dataframe tbody tr th {\n",
       "        vertical-align: top;\n",
       "    }\n",
       "\n",
       "    .dataframe thead th {\n",
       "        text-align: right;\n",
       "    }\n",
       "</style>\n",
       "<table border=\"1\" class=\"dataframe\">\n",
       "  <thead>\n",
       "    <tr style=\"text-align: right;\">\n",
       "      <th></th>\n",
       "      <th>id</th>\n",
       "      <th>Airline</th>\n",
       "      <th>Flight</th>\n",
       "      <th>AirportFrom</th>\n",
       "      <th>AirportTo</th>\n",
       "      <th>DayOfWeek</th>\n",
       "      <th>Time</th>\n",
       "      <th>Length</th>\n",
       "      <th>Delay</th>\n",
       "    </tr>\n",
       "  </thead>\n",
       "  <tbody>\n",
       "    <tr>\n",
       "      <th>0</th>\n",
       "      <td>1</td>\n",
       "      <td>CO</td>\n",
       "      <td>269</td>\n",
       "      <td>SFO</td>\n",
       "      <td>IAH</td>\n",
       "      <td>3</td>\n",
       "      <td>15</td>\n",
       "      <td>205</td>\n",
       "      <td>1</td>\n",
       "    </tr>\n",
       "    <tr>\n",
       "      <th>1</th>\n",
       "      <td>2</td>\n",
       "      <td>US</td>\n",
       "      <td>1558</td>\n",
       "      <td>PHX</td>\n",
       "      <td>CLT</td>\n",
       "      <td>3</td>\n",
       "      <td>15</td>\n",
       "      <td>222</td>\n",
       "      <td>1</td>\n",
       "    </tr>\n",
       "    <tr>\n",
       "      <th>2</th>\n",
       "      <td>3</td>\n",
       "      <td>AA</td>\n",
       "      <td>2400</td>\n",
       "      <td>LAX</td>\n",
       "      <td>DFW</td>\n",
       "      <td>3</td>\n",
       "      <td>20</td>\n",
       "      <td>165</td>\n",
       "      <td>1</td>\n",
       "    </tr>\n",
       "    <tr>\n",
       "      <th>3</th>\n",
       "      <td>4</td>\n",
       "      <td>AA</td>\n",
       "      <td>2466</td>\n",
       "      <td>SFO</td>\n",
       "      <td>DFW</td>\n",
       "      <td>3</td>\n",
       "      <td>20</td>\n",
       "      <td>195</td>\n",
       "      <td>1</td>\n",
       "    </tr>\n",
       "    <tr>\n",
       "      <th>4</th>\n",
       "      <td>5</td>\n",
       "      <td>AS</td>\n",
       "      <td>108</td>\n",
       "      <td>ANC</td>\n",
       "      <td>SEA</td>\n",
       "      <td>3</td>\n",
       "      <td>30</td>\n",
       "      <td>202</td>\n",
       "      <td>0</td>\n",
       "    </tr>\n",
       "  </tbody>\n",
       "</table>\n",
       "</div>"
      ],
      "text/plain": [
       "   id Airline  Flight AirportFrom AirportTo  DayOfWeek  Time  Length  Delay\n",
       "0   1      CO     269         SFO       IAH          3    15     205      1\n",
       "1   2      US    1558         PHX       CLT          3    15     222      1\n",
       "2   3      AA    2400         LAX       DFW          3    20     165      1\n",
       "3   4      AA    2466         SFO       DFW          3    20     195      1\n",
       "4   5      AS     108         ANC       SEA          3    30     202      0"
      ]
     },
     "execution_count": 3,
     "metadata": {},
     "output_type": "execute_result"
    }
   ],
   "source": [
    "#First 5 Row displayed\n",
    "data.head()"
   ]
  },
  {
   "cell_type": "code",
   "execution_count": 4,
   "id": "b8ed93a9",
   "metadata": {
    "execution": {
     "iopub.execute_input": "2022-06-24T06:38:36.280266Z",
     "iopub.status.busy": "2022-06-24T06:38:36.279902Z",
     "iopub.status.idle": "2022-06-24T06:38:36.483740Z",
     "shell.execute_reply": "2022-06-24T06:38:36.482828Z"
    },
    "papermill": {
     "duration": 0.218817,
     "end_time": "2022-06-24T06:38:36.488213",
     "exception": false,
     "start_time": "2022-06-24T06:38:36.269396",
     "status": "completed"
    },
    "tags": []
   },
   "outputs": [
    {
     "name": "stdout",
     "output_type": "stream",
     "text": [
      "<class 'pandas.core.frame.DataFrame'>\n",
      "RangeIndex: 539383 entries, 0 to 539382\n",
      "Data columns (total 9 columns):\n",
      " #   Column       Non-Null Count   Dtype \n",
      "---  ------       --------------   ----- \n",
      " 0   id           539383 non-null  int64 \n",
      " 1   Airline      539383 non-null  object\n",
      " 2   Flight       539383 non-null  int64 \n",
      " 3   AirportFrom  539383 non-null  object\n",
      " 4   AirportTo    539383 non-null  object\n",
      " 5   DayOfWeek    539383 non-null  int64 \n",
      " 6   Time         539383 non-null  int64 \n",
      " 7   Length       539383 non-null  int64 \n",
      " 8   Delay        539383 non-null  int64 \n",
      "dtypes: int64(6), object(3)\n",
      "memory usage: 37.0+ MB\n"
     ]
    }
   ],
   "source": [
    "data.info()"
   ]
  },
  {
   "cell_type": "markdown",
   "id": "3c6b0fe5",
   "metadata": {
    "papermill": {
     "duration": 0.009,
     "end_time": "2022-06-24T06:38:36.507200",
     "exception": false,
     "start_time": "2022-06-24T06:38:36.498200",
     "status": "completed"
    },
    "tags": []
   },
   "source": [
    "# **Data Inspecting and Cleaning**"
   ]
  },
  {
   "cell_type": "code",
   "execution_count": 5,
   "id": "b034b8b0",
   "metadata": {
    "execution": {
     "iopub.execute_input": "2022-06-24T06:38:36.527275Z",
     "iopub.status.busy": "2022-06-24T06:38:36.526583Z",
     "iopub.status.idle": "2022-06-24T06:38:36.712017Z",
     "shell.execute_reply": "2022-06-24T06:38:36.711010Z"
    },
    "papermill": {
     "duration": 0.198034,
     "end_time": "2022-06-24T06:38:36.714263",
     "exception": false,
     "start_time": "2022-06-24T06:38:36.516229",
     "status": "completed"
    },
    "tags": []
   },
   "outputs": [
    {
     "data": {
      "text/plain": [
       "id             0\n",
       "Airline        0\n",
       "Flight         0\n",
       "AirportFrom    0\n",
       "AirportTo      0\n",
       "DayOfWeek      0\n",
       "Time           0\n",
       "Length         0\n",
       "Delay          0\n",
       "dtype: int64"
      ]
     },
     "execution_count": 5,
     "metadata": {},
     "output_type": "execute_result"
    }
   ],
   "source": [
    "data.isnull().sum()"
   ]
  },
  {
   "cell_type": "markdown",
   "id": "7721f5cc",
   "metadata": {
    "papermill": {
     "duration": 0.008972,
     "end_time": "2022-06-24T06:38:36.732514",
     "exception": false,
     "start_time": "2022-06-24T06:38:36.723542",
     "status": "completed"
    },
    "tags": []
   },
   "source": [
    "No null values found"
   ]
  },
  {
   "cell_type": "code",
   "execution_count": 6,
   "id": "fc3cef61",
   "metadata": {
    "execution": {
     "iopub.execute_input": "2022-06-24T06:38:36.752848Z",
     "iopub.status.busy": "2022-06-24T06:38:36.752247Z",
     "iopub.status.idle": "2022-06-24T06:38:37.088347Z",
     "shell.execute_reply": "2022-06-24T06:38:37.087275Z"
    },
    "papermill": {
     "duration": 0.349027,
     "end_time": "2022-06-24T06:38:37.090782",
     "exception": false,
     "start_time": "2022-06-24T06:38:36.741755",
     "status": "completed"
    },
    "tags": []
   },
   "outputs": [
    {
     "data": {
      "text/plain": [
       "0"
      ]
     },
     "execution_count": 6,
     "metadata": {},
     "output_type": "execute_result"
    }
   ],
   "source": [
    "data.duplicated().sum()"
   ]
  },
  {
   "cell_type": "markdown",
   "id": "41dfada9",
   "metadata": {
    "papermill": {
     "duration": 0.008967,
     "end_time": "2022-06-24T06:38:37.109490",
     "exception": false,
     "start_time": "2022-06-24T06:38:37.100523",
     "status": "completed"
    },
    "tags": []
   },
   "source": [
    "NO dublicate value found"
   ]
  },
  {
   "cell_type": "markdown",
   "id": "3f7d8d60",
   "metadata": {
    "papermill": {
     "duration": 0.009347,
     "end_time": "2022-06-24T06:38:37.128413",
     "exception": false,
     "start_time": "2022-06-24T06:38:37.119066",
     "status": "completed"
    },
    "tags": []
   },
   "source": [
    "**Outlier Detection**"
   ]
  },
  {
   "cell_type": "code",
   "execution_count": 7,
   "id": "6c86e08f",
   "metadata": {
    "execution": {
     "iopub.execute_input": "2022-06-24T06:38:37.149153Z",
     "iopub.status.busy": "2022-06-24T06:38:37.148780Z",
     "iopub.status.idle": "2022-06-24T06:38:39.180175Z",
     "shell.execute_reply": "2022-06-24T06:38:39.179360Z"
    },
    "papermill": {
     "duration": 2.044404,
     "end_time": "2022-06-24T06:38:39.182318",
     "exception": false,
     "start_time": "2022-06-24T06:38:37.137914",
     "status": "completed"
    },
    "tags": []
   },
   "outputs": [
    {
     "data": {
      "image/png": "[encoded data removed]",
      "text/plain": [
       "<Figure size 1440x720 with 1 Axes>"
      ]
     },
     "metadata": {},
     "output_type": "display_data"
    }
   ],
   "source": [
    "import matplotlib.pyplot as plt\n",
    "import seaborn as sns\n",
    "plt.figure(figsize=(20,10),facecolor='w')\n",
    "sns.boxplot(data=data)\n",
    "plt.show()"
   ]
  },
  {
   "cell_type": "markdown",
   "id": "ee9d9fb7",
   "metadata": {
    "papermill": {
     "duration": 0.009383,
     "end_time": "2022-06-24T06:38:39.201510",
     "exception": false,
     "start_time": "2022-06-24T06:38:39.192127",
     "status": "completed"
    },
    "tags": []
   },
   "source": []
  },
  {
   "cell_type": "markdown",
   "id": "c0d0b85e",
   "metadata": {
    "papermill": {
     "duration": 0.009419,
     "end_time": "2022-06-24T06:38:39.220470",
     "exception": false,
     "start_time": "2022-06-24T06:38:39.211051",
     "status": "completed"
    },
    "tags": []
   },
   "source": [
    "NO outlier found, first colum is id so it does not matter "
   ]
  },
  {
   "cell_type": "markdown",
   "id": "f5d20fd2",
   "metadata": {
    "papermill": {
     "duration": 0.009306,
     "end_time": "2022-06-24T06:38:39.239277",
     "exception": false,
     "start_time": "2022-06-24T06:38:39.229971",
     "status": "completed"
    },
    "tags": []
   },
   "source": [
    "# **Exploratory Data Analysis**"
   ]
  },
  {
   "cell_type": "code",
   "execution_count": 8,
   "id": "bc3ea797",
   "metadata": {
    "execution": {
     "iopub.execute_input": "2022-06-24T06:38:39.260723Z",
     "iopub.status.busy": "2022-06-24T06:38:39.259695Z",
     "iopub.status.idle": "2022-06-24T06:38:39.371441Z",
     "shell.execute_reply": "2022-06-24T06:38:39.370379Z"
    },
    "papermill": {
     "duration": 0.124909,
     "end_time": "2022-06-24T06:38:39.373856",
     "exception": false,
     "start_time": "2022-06-24T06:38:39.248947",
     "status": "completed"
    },
    "tags": []
   },
   "outputs": [
    {
     "data": {
      "text/html": [
       "<div>\n",
       "<style scoped>\n",
       "    .dataframe tbody tr th:only-of-type {\n",
       "        vertical-align: middle;\n",
       "    }\n",
       "\n",
       "    .dataframe tbody tr th {\n",
       "        vertical-align: top;\n",
       "    }\n",
       "\n",
       "    .dataframe thead th {\n",
       "        text-align: right;\n",
       "    }\n",
       "</style>\n",
       "<table border=\"1\" class=\"dataframe\">\n",
       "  <thead>\n",
       "    <tr style=\"text-align: right;\">\n",
       "      <th></th>\n",
       "      <th>id</th>\n",
       "      <th>Flight</th>\n",
       "      <th>DayOfWeek</th>\n",
       "      <th>Time</th>\n",
       "      <th>Length</th>\n",
       "      <th>Delay</th>\n",
       "    </tr>\n",
       "  </thead>\n",
       "  <tbody>\n",
       "    <tr>\n",
       "      <th>count</th>\n",
       "      <td>539383.000000</td>\n",
       "      <td>539383.000000</td>\n",
       "      <td>539383.000000</td>\n",
       "      <td>539383.000000</td>\n",
       "      <td>539383.000000</td>\n",
       "      <td>539383.000000</td>\n",
       "    </tr>\n",
       "    <tr>\n",
       "      <th>mean</th>\n",
       "      <td>269692.000000</td>\n",
       "      <td>2427.928630</td>\n",
       "      <td>3.929668</td>\n",
       "      <td>802.728963</td>\n",
       "      <td>132.202007</td>\n",
       "      <td>0.445442</td>\n",
       "    </tr>\n",
       "    <tr>\n",
       "      <th>std</th>\n",
       "      <td>155706.604461</td>\n",
       "      <td>2067.429837</td>\n",
       "      <td>1.914664</td>\n",
       "      <td>278.045911</td>\n",
       "      <td>70.117016</td>\n",
       "      <td>0.497015</td>\n",
       "    </tr>\n",
       "    <tr>\n",
       "      <th>min</th>\n",
       "      <td>1.000000</td>\n",
       "      <td>1.000000</td>\n",
       "      <td>1.000000</td>\n",
       "      <td>10.000000</td>\n",
       "      <td>0.000000</td>\n",
       "      <td>0.000000</td>\n",
       "    </tr>\n",
       "    <tr>\n",
       "      <th>25%</th>\n",
       "      <td>134846.500000</td>\n",
       "      <td>712.000000</td>\n",
       "      <td>2.000000</td>\n",
       "      <td>565.000000</td>\n",
       "      <td>81.000000</td>\n",
       "      <td>0.000000</td>\n",
       "    </tr>\n",
       "    <tr>\n",
       "      <th>50%</th>\n",
       "      <td>269692.000000</td>\n",
       "      <td>1809.000000</td>\n",
       "      <td>4.000000</td>\n",
       "      <td>795.000000</td>\n",
       "      <td>115.000000</td>\n",
       "      <td>0.000000</td>\n",
       "    </tr>\n",
       "    <tr>\n",
       "      <th>75%</th>\n",
       "      <td>404537.500000</td>\n",
       "      <td>3745.000000</td>\n",
       "      <td>5.000000</td>\n",
       "      <td>1035.000000</td>\n",
       "      <td>162.000000</td>\n",
       "      <td>1.000000</td>\n",
       "    </tr>\n",
       "    <tr>\n",
       "      <th>max</th>\n",
       "      <td>539383.000000</td>\n",
       "      <td>7814.000000</td>\n",
       "      <td>7.000000</td>\n",
       "      <td>1439.000000</td>\n",
       "      <td>655.000000</td>\n",
       "      <td>1.000000</td>\n",
       "    </tr>\n",
       "  </tbody>\n",
       "</table>\n",
       "</div>"
      ],
      "text/plain": [
       "                  id         Flight      DayOfWeek           Time  \\\n",
       "count  539383.000000  539383.000000  539383.000000  539383.000000   \n",
       "mean   269692.000000    2427.928630       3.929668     802.728963   \n",
       "std    155706.604461    2067.429837       1.914664     278.045911   \n",
       "min         1.000000       1.000000       1.000000      10.000000   \n",
       "25%    134846.500000     712.000000       2.000000     565.000000   \n",
       "50%    269692.000000    1809.000000       4.000000     795.000000   \n",
       "75%    404537.500000    3745.000000       5.000000    1035.000000   \n",
       "max    539383.000000    7814.000000       7.000000    1439.000000   \n",
       "\n",
       "              Length          Delay  \n",
       "count  539383.000000  539383.000000  \n",
       "mean      132.202007       0.445442  \n",
       "std        70.117016       0.497015  \n",
       "min         0.000000       0.000000  \n",
       "25%        81.000000       0.000000  \n",
       "50%       115.000000       0.000000  \n",
       "75%       162.000000       1.000000  \n",
       "max       655.000000       1.000000  "
      ]
     },
     "execution_count": 8,
     "metadata": {},
     "output_type": "execute_result"
    }
   ],
   "source": [
    "data.describe()"
   ]
  },
  {
   "cell_type": "markdown",
   "id": "da1b1b97",
   "metadata": {
    "papermill": {
     "duration": 0.009726,
     "end_time": "2022-06-24T06:38:39.393618",
     "exception": false,
     "start_time": "2022-06-24T06:38:39.383892",
     "status": "completed"
    },
    "tags": []
   },
   "source": [
    "An overall Statistical Information is shown\n",
    "* It is clearly evident that none of the data is missing in columns.\n",
    "* It also shows the mean, standard deviation and other statistical metrices of the dataset \n",
    "* It also shows the categorical data of the dataset since they were already converted into discrete numerical values"
   ]
  },
  {
   "cell_type": "code",
   "execution_count": 9,
   "id": "52ae2e6c",
   "metadata": {
    "execution": {
     "iopub.execute_input": "2022-06-24T06:38:39.415700Z",
     "iopub.status.busy": "2022-06-24T06:38:39.415268Z",
     "iopub.status.idle": "2022-06-24T06:38:39.908139Z",
     "shell.execute_reply": "2022-06-24T06:38:39.907022Z"
    },
    "papermill": {
     "duration": 0.506607,
     "end_time": "2022-06-24T06:38:39.910488",
     "exception": false,
     "start_time": "2022-06-24T06:38:39.403881",
     "status": "completed"
    },
    "tags": []
   },
   "outputs": [
    {
     "data": {
      "text/html": [
       "<div>\n",
       "<style scoped>\n",
       "    .dataframe tbody tr th:only-of-type {\n",
       "        vertical-align: middle;\n",
       "    }\n",
       "\n",
       "    .dataframe tbody tr th {\n",
       "        vertical-align: top;\n",
       "    }\n",
       "\n",
       "    .dataframe thead th {\n",
       "        text-align: right;\n",
       "    }\n",
       "</style>\n",
       "<table border=\"1\" class=\"dataframe\">\n",
       "  <thead>\n",
       "    <tr style=\"text-align: right;\">\n",
       "      <th></th>\n",
       "      <th>id</th>\n",
       "      <th>Flight</th>\n",
       "      <th>DayOfWeek</th>\n",
       "      <th>Time</th>\n",
       "      <th>Length</th>\n",
       "      <th>Delay</th>\n",
       "    </tr>\n",
       "  </thead>\n",
       "  <tbody>\n",
       "    <tr>\n",
       "      <th>id</th>\n",
       "      <td>1.000000</td>\n",
       "      <td>-0.006156</td>\n",
       "      <td>-0.055474</td>\n",
       "      <td>0.029156</td>\n",
       "      <td>0.020781</td>\n",
       "      <td>0.139762</td>\n",
       "    </tr>\n",
       "    <tr>\n",
       "      <th>Flight</th>\n",
       "      <td>-0.006156</td>\n",
       "      <td>1.000000</td>\n",
       "      <td>0.000416</td>\n",
       "      <td>-0.005750</td>\n",
       "      <td>-0.341481</td>\n",
       "      <td>-0.046175</td>\n",
       "    </tr>\n",
       "    <tr>\n",
       "      <th>DayOfWeek</th>\n",
       "      <td>-0.055474</td>\n",
       "      <td>0.000416</td>\n",
       "      <td>1.000000</td>\n",
       "      <td>0.001273</td>\n",
       "      <td>0.013397</td>\n",
       "      <td>-0.026199</td>\n",
       "    </tr>\n",
       "    <tr>\n",
       "      <th>Time</th>\n",
       "      <td>0.029156</td>\n",
       "      <td>-0.005750</td>\n",
       "      <td>0.001273</td>\n",
       "      <td>1.000000</td>\n",
       "      <td>-0.020612</td>\n",
       "      <td>0.150454</td>\n",
       "    </tr>\n",
       "    <tr>\n",
       "      <th>Length</th>\n",
       "      <td>0.020781</td>\n",
       "      <td>-0.341481</td>\n",
       "      <td>0.013397</td>\n",
       "      <td>-0.020612</td>\n",
       "      <td>1.000000</td>\n",
       "      <td>0.040489</td>\n",
       "    </tr>\n",
       "    <tr>\n",
       "      <th>Delay</th>\n",
       "      <td>0.139762</td>\n",
       "      <td>-0.046175</td>\n",
       "      <td>-0.026199</td>\n",
       "      <td>0.150454</td>\n",
       "      <td>0.040489</td>\n",
       "      <td>1.000000</td>\n",
       "    </tr>\n",
       "  </tbody>\n",
       "</table>\n",
       "</div>"
      ],
      "text/plain": [
       "                 id    Flight  DayOfWeek      Time    Length     Delay\n",
       "id         1.000000 -0.006156  -0.055474  0.029156  0.020781  0.139762\n",
       "Flight    -0.006156  1.000000   0.000416 -0.005750 -0.341481 -0.046175\n",
       "DayOfWeek -0.055474  0.000416   1.000000  0.001273  0.013397 -0.026199\n",
       "Time       0.029156 -0.005750   0.001273  1.000000 -0.020612  0.150454\n",
       "Length     0.020781 -0.341481   0.013397 -0.020612  1.000000  0.040489\n",
       "Delay      0.139762 -0.046175  -0.026199  0.150454  0.040489  1.000000"
      ]
     },
     "execution_count": 9,
     "metadata": {},
     "output_type": "execute_result"
    },
    {
     "data": {
      "image/png": "[encoded data removed]",
      "text/plain": [
       "<Figure size 1440x720 with 2 Axes>"
      ]
     },
     "metadata": {},
     "output_type": "display_data"
    }
   ],
   "source": [
    "#Checking relationship between variables\n",
    "cor=data.corr()\n",
    "plt.figure(figsize=(20,10),facecolor='w')\n",
    "sns.heatmap(cor,xticklabels=cor.columns,yticklabels=cor.columns,annot=True)\n",
    "plt.title(\"Correlation among all the Variables of the Dataset\", size=20)\n",
    "cor"
   ]
  },
  {
   "cell_type": "markdown",
   "id": "d5fda2b5",
   "metadata": {
    "papermill": {
     "duration": 0.010514,
     "end_time": "2022-06-24T06:38:39.931986",
     "exception": false,
     "start_time": "2022-06-24T06:38:39.921472",
     "status": "completed"
    },
    "tags": []
   },
   "source": [
    "## **Data visualization**"
   ]
  },
  {
   "cell_type": "markdown",
   "id": "c97fa699",
   "metadata": {
    "papermill": {
     "duration": 0.010535,
     "end_time": "2022-06-24T06:38:39.953273",
     "exception": false,
     "start_time": "2022-06-24T06:38:39.942738",
     "status": "completed"
    },
    "tags": []
   },
   "source": [
    "**Univariate Analysis**"
   ]
  },
  {
   "cell_type": "code",
   "execution_count": 10,
   "id": "b298ba27",
   "metadata": {
    "execution": {
     "iopub.execute_input": "2022-06-24T06:38:39.977051Z",
     "iopub.status.busy": "2022-06-24T06:38:39.976647Z",
     "iopub.status.idle": "2022-06-24T06:38:39.991693Z",
     "shell.execute_reply": "2022-06-24T06:38:39.990566Z"
    },
    "papermill": {
     "duration": 0.029293,
     "end_time": "2022-06-24T06:38:39.993880",
     "exception": false,
     "start_time": "2022-06-24T06:38:39.964587",
     "status": "completed"
    },
    "tags": []
   },
   "outputs": [
    {
     "data": {
      "text/html": [
       "<div>\n",
       "<style scoped>\n",
       "    .dataframe tbody tr th:only-of-type {\n",
       "        vertical-align: middle;\n",
       "    }\n",
       "\n",
       "    .dataframe tbody tr th {\n",
       "        vertical-align: top;\n",
       "    }\n",
       "\n",
       "    .dataframe thead th {\n",
       "        text-align: right;\n",
       "    }\n",
       "</style>\n",
       "<table border=\"1\" class=\"dataframe\">\n",
       "  <thead>\n",
       "    <tr style=\"text-align: right;\">\n",
       "      <th></th>\n",
       "      <th>id</th>\n",
       "      <th>Airline</th>\n",
       "      <th>Flight</th>\n",
       "      <th>AirportFrom</th>\n",
       "      <th>AirportTo</th>\n",
       "      <th>DayOfWeek</th>\n",
       "      <th>Time</th>\n",
       "      <th>Length</th>\n",
       "      <th>Delay</th>\n",
       "    </tr>\n",
       "  </thead>\n",
       "  <tbody>\n",
       "    <tr>\n",
       "      <th>0</th>\n",
       "      <td>1</td>\n",
       "      <td>CO</td>\n",
       "      <td>269</td>\n",
       "      <td>SFO</td>\n",
       "      <td>IAH</td>\n",
       "      <td>3</td>\n",
       "      <td>15</td>\n",
       "      <td>205</td>\n",
       "      <td>1</td>\n",
       "    </tr>\n",
       "    <tr>\n",
       "      <th>1</th>\n",
       "      <td>2</td>\n",
       "      <td>US</td>\n",
       "      <td>1558</td>\n",
       "      <td>PHX</td>\n",
       "      <td>CLT</td>\n",
       "      <td>3</td>\n",
       "      <td>15</td>\n",
       "      <td>222</td>\n",
       "      <td>1</td>\n",
       "    </tr>\n",
       "    <tr>\n",
       "      <th>2</th>\n",
       "      <td>3</td>\n",
       "      <td>AA</td>\n",
       "      <td>2400</td>\n",
       "      <td>LAX</td>\n",
       "      <td>DFW</td>\n",
       "      <td>3</td>\n",
       "      <td>20</td>\n",
       "      <td>165</td>\n",
       "      <td>1</td>\n",
       "    </tr>\n",
       "    <tr>\n",
       "      <th>3</th>\n",
       "      <td>4</td>\n",
       "      <td>AA</td>\n",
       "      <td>2466</td>\n",
       "      <td>SFO</td>\n",
       "      <td>DFW</td>\n",
       "      <td>3</td>\n",
       "      <td>20</td>\n",
       "      <td>195</td>\n",
       "      <td>1</td>\n",
       "    </tr>\n",
       "    <tr>\n",
       "      <th>4</th>\n",
       "      <td>5</td>\n",
       "      <td>AS</td>\n",
       "      <td>108</td>\n",
       "      <td>ANC</td>\n",
       "      <td>SEA</td>\n",
       "      <td>3</td>\n",
       "      <td>30</td>\n",
       "      <td>202</td>\n",
       "      <td>0</td>\n",
       "    </tr>\n",
       "  </tbody>\n",
       "</table>\n",
       "</div>"
      ],
      "text/plain": [
       "   id Airline  Flight AirportFrom AirportTo  DayOfWeek  Time  Length  Delay\n",
       "0   1      CO     269         SFO       IAH          3    15     205      1\n",
       "1   2      US    1558         PHX       CLT          3    15     222      1\n",
       "2   3      AA    2400         LAX       DFW          3    20     165      1\n",
       "3   4      AA    2466         SFO       DFW          3    20     195      1\n",
       "4   5      AS     108         ANC       SEA          3    30     202      0"
      ]
     },
     "execution_count": 10,
     "metadata": {},
     "output_type": "execute_result"
    }
   ],
   "source": [
    "data.head()"
   ]
  },
  {
   "cell_type": "code",
   "execution_count": null,
   "id": "c541ea67",
   "metadata": {
    "papermill": {
     "duration": 0.010731,
     "end_time": "2022-06-24T06:38:40.015792",
     "exception": false,
     "start_time": "2022-06-24T06:38:40.005061",
     "status": "completed"
    },
    "tags": []
   },
   "outputs": [],
   "source": []
  },
  {
   "cell_type": "code",
   "execution_count": 11,
   "id": "ebd2d197",
   "metadata": {
    "execution": {
     "iopub.execute_input": "2022-06-24T06:38:40.040006Z",
     "iopub.status.busy": "2022-06-24T06:38:40.039272Z",
     "iopub.status.idle": "2022-06-24T06:38:40.043781Z",
     "shell.execute_reply": "2022-06-24T06:38:40.042951Z"
    },
    "papermill": {
     "duration": 0.019199,
     "end_time": "2022-06-24T06:38:40.045924",
     "exception": false,
     "start_time": "2022-06-24T06:38:40.026725",
     "status": "completed"
    },
    "tags": []
   },
   "outputs": [],
   "source": [
    "features=['Airline','Flight','AirportFrom','AirportTo','DayOfWeek','Time']"
   ]
  },
  {
   "cell_type": "markdown",
   "id": "c3ad24b0",
   "metadata": {
    "papermill": {
     "duration": 0.010856,
     "end_time": "2022-06-24T06:38:40.068061",
     "exception": false,
     "start_time": "2022-06-24T06:38:40.057205",
     "status": "completed"
    },
    "tags": []
   },
   "source": []
  },
  {
   "cell_type": "code",
   "execution_count": 12,
   "id": "1d198c4f",
   "metadata": {
    "execution": {
     "iopub.execute_input": "2022-06-24T06:38:40.093170Z",
     "iopub.status.busy": "2022-06-24T06:38:40.092157Z",
     "iopub.status.idle": "2022-06-24T06:38:40.105085Z",
     "shell.execute_reply": "2022-06-24T06:38:40.104165Z"
    },
    "papermill": {
     "duration": 0.028023,
     "end_time": "2022-06-24T06:38:40.107187",
     "exception": false,
     "start_time": "2022-06-24T06:38:40.079164",
     "status": "completed"
    },
    "tags": []
   },
   "outputs": [
    {
     "data": {
      "text/html": [
       "<div>\n",
       "<style scoped>\n",
       "    .dataframe tbody tr th:only-of-type {\n",
       "        vertical-align: middle;\n",
       "    }\n",
       "\n",
       "    .dataframe tbody tr th {\n",
       "        vertical-align: top;\n",
       "    }\n",
       "\n",
       "    .dataframe thead th {\n",
       "        text-align: right;\n",
       "    }\n",
       "</style>\n",
       "<table border=\"1\" class=\"dataframe\">\n",
       "  <thead>\n",
       "    <tr style=\"text-align: right;\">\n",
       "      <th></th>\n",
       "      <th>id</th>\n",
       "      <th>Airline</th>\n",
       "      <th>Flight</th>\n",
       "      <th>AirportFrom</th>\n",
       "      <th>AirportTo</th>\n",
       "      <th>DayOfWeek</th>\n",
       "      <th>Time</th>\n",
       "      <th>Length</th>\n",
       "      <th>Delay</th>\n",
       "    </tr>\n",
       "  </thead>\n",
       "  <tbody>\n",
       "    <tr>\n",
       "      <th>0</th>\n",
       "      <td>1</td>\n",
       "      <td>CO</td>\n",
       "      <td>269</td>\n",
       "      <td>SFO</td>\n",
       "      <td>IAH</td>\n",
       "      <td>3</td>\n",
       "      <td>15</td>\n",
       "      <td>205</td>\n",
       "      <td>1</td>\n",
       "    </tr>\n",
       "    <tr>\n",
       "      <th>1</th>\n",
       "      <td>2</td>\n",
       "      <td>US</td>\n",
       "      <td>1558</td>\n",
       "      <td>PHX</td>\n",
       "      <td>CLT</td>\n",
       "      <td>3</td>\n",
       "      <td>15</td>\n",
       "      <td>222</td>\n",
       "      <td>1</td>\n",
       "    </tr>\n",
       "    <tr>\n",
       "      <th>2</th>\n",
       "      <td>3</td>\n",
       "      <td>AA</td>\n",
       "      <td>2400</td>\n",
       "      <td>LAX</td>\n",
       "      <td>DFW</td>\n",
       "      <td>3</td>\n",
       "      <td>20</td>\n",
       "      <td>165</td>\n",
       "      <td>1</td>\n",
       "    </tr>\n",
       "    <tr>\n",
       "      <th>3</th>\n",
       "      <td>4</td>\n",
       "      <td>AA</td>\n",
       "      <td>2466</td>\n",
       "      <td>SFO</td>\n",
       "      <td>DFW</td>\n",
       "      <td>3</td>\n",
       "      <td>20</td>\n",
       "      <td>195</td>\n",
       "      <td>1</td>\n",
       "    </tr>\n",
       "    <tr>\n",
       "      <th>4</th>\n",
       "      <td>5</td>\n",
       "      <td>AS</td>\n",
       "      <td>108</td>\n",
       "      <td>ANC</td>\n",
       "      <td>SEA</td>\n",
       "      <td>3</td>\n",
       "      <td>30</td>\n",
       "      <td>202</td>\n",
       "      <td>0</td>\n",
       "    </tr>\n",
       "  </tbody>\n",
       "</table>\n",
       "</div>"
      ],
      "text/plain": [
       "   id Airline  Flight AirportFrom AirportTo  DayOfWeek  Time  Length  Delay\n",
       "0   1      CO     269         SFO       IAH          3    15     205      1\n",
       "1   2      US    1558         PHX       CLT          3    15     222      1\n",
       "2   3      AA    2400         LAX       DFW          3    20     165      1\n",
       "3   4      AA    2466         SFO       DFW          3    20     195      1\n",
       "4   5      AS     108         ANC       SEA          3    30     202      0"
      ]
     },
     "execution_count": 12,
     "metadata": {},
     "output_type": "execute_result"
    }
   ],
   "source": [
    "data.head()"
   ]
  },
  {
   "cell_type": "markdown",
   "id": "980cebd3",
   "metadata": {
    "papermill": {
     "duration": 0.011065,
     "end_time": "2022-06-24T06:38:40.129588",
     "exception": false,
     "start_time": "2022-06-24T06:38:40.118523",
     "status": "completed"
    },
    "tags": []
   },
   "source": [
    "# **Resampling imbalanced dataset by oversampling positive cases**"
   ]
  },
  {
   "cell_type": "code",
   "execution_count": 13,
   "id": "ac64b721",
   "metadata": {
    "execution": {
     "iopub.execute_input": "2022-06-24T06:38:40.153871Z",
     "iopub.status.busy": "2022-06-24T06:38:40.153069Z",
     "iopub.status.idle": "2022-06-24T06:38:40.198726Z",
     "shell.execute_reply": "2022-06-24T06:38:40.197797Z"
    },
    "papermill": {
     "duration": 0.060652,
     "end_time": "2022-06-24T06:38:40.201349",
     "exception": false,
     "start_time": "2022-06-24T06:38:40.140697",
     "status": "completed"
    },
    "tags": []
   },
   "outputs": [],
   "source": [
    "target1=data[data['Delay']==1]\n",
    "target0=data[data['Delay']==0]"
   ]
  },
  {
   "cell_type": "code",
   "execution_count": 14,
   "id": "4f09a714",
   "metadata": {
    "execution": {
     "iopub.execute_input": "2022-06-24T06:38:40.225967Z",
     "iopub.status.busy": "2022-06-24T06:38:40.225239Z",
     "iopub.status.idle": "2022-06-24T06:38:40.464318Z",
     "shell.execute_reply": "2022-06-24T06:38:40.463238Z"
    },
    "papermill": {
     "duration": 0.254223,
     "end_time": "2022-06-24T06:38:40.466813",
     "exception": false,
     "start_time": "2022-06-24T06:38:40.212590",
     "status": "completed"
    },
    "tags": []
   },
   "outputs": [
    {
     "data": {
      "text/plain": [
       "0    299119\n",
       "1    299119\n",
       "Name: Delay, dtype: int64"
      ]
     },
     "execution_count": 14,
     "metadata": {},
     "output_type": "execute_result"
    }
   ],
   "source": [
    "from sklearn.utils import resample\n",
    "target1=resample(target1,replace=True,n_samples=len(target0),random_state=40)\n",
    "target=pd.concat([target0,target1])\n",
    "target['Delay'].value_counts()"
   ]
  },
  {
   "cell_type": "code",
   "execution_count": 15,
   "id": "ddb57f85",
   "metadata": {
    "execution": {
     "iopub.execute_input": "2022-06-24T06:38:40.492535Z",
     "iopub.status.busy": "2022-06-24T06:38:40.491866Z",
     "iopub.status.idle": "2022-06-24T06:38:40.497752Z",
     "shell.execute_reply": "2022-06-24T06:38:40.496971Z"
    },
    "papermill": {
     "duration": 0.021704,
     "end_time": "2022-06-24T06:38:40.499844",
     "exception": false,
     "start_time": "2022-06-24T06:38:40.478140",
     "status": "completed"
    },
    "tags": []
   },
   "outputs": [
    {
     "data": {
      "text/plain": [
       "(598238, 9)"
      ]
     },
     "execution_count": 15,
     "metadata": {},
     "output_type": "execute_result"
    }
   ],
   "source": [
    "data=target\n",
    "np.shape(data)"
   ]
  },
  {
   "cell_type": "code",
   "execution_count": 16,
   "id": "ee526a02",
   "metadata": {
    "execution": {
     "iopub.execute_input": "2022-06-24T06:38:40.526065Z",
     "iopub.status.busy": "2022-06-24T06:38:40.525375Z",
     "iopub.status.idle": "2022-06-24T06:38:40.554875Z",
     "shell.execute_reply": "2022-06-24T06:38:40.553475Z"
    },
    "papermill": {
     "duration": 0.045512,
     "end_time": "2022-06-24T06:38:40.557461",
     "exception": false,
     "start_time": "2022-06-24T06:38:40.511949",
     "status": "completed"
    },
    "tags": []
   },
   "outputs": [
    {
     "name": "stdout",
     "output_type": "stream",
     "text": [
      "X -  (598238, 8) \n",
      "y -  (598238,)\n"
     ]
    }
   ],
   "source": [
    "X=data.iloc[:,0:8]\n",
    "y=data.iloc[:,-1]\n",
    "print(\"X - \", X.shape, \"\\ny - \", y.shape)"
   ]
  },
  {
   "cell_type": "code",
   "execution_count": null,
   "id": "fee881c7",
   "metadata": {
    "papermill": {
     "duration": 0.011641,
     "end_time": "2022-06-24T06:38:40.580667",
     "exception": false,
     "start_time": "2022-06-24T06:38:40.569026",
     "status": "completed"
    },
    "tags": []
   },
   "outputs": [],
   "source": []
  },
  {
   "cell_type": "code",
   "execution_count": 17,
   "id": "bd05f2b4",
   "metadata": {
    "execution": {
     "iopub.execute_input": "2022-06-24T06:38:40.607449Z",
     "iopub.status.busy": "2022-06-24T06:38:40.606430Z",
     "iopub.status.idle": "2022-06-24T06:38:40.938299Z",
     "shell.execute_reply": "2022-06-24T06:38:40.937167Z"
    },
    "papermill": {
     "duration": 0.34825,
     "end_time": "2022-06-24T06:38:40.941217",
     "exception": false,
     "start_time": "2022-06-24T06:38:40.592967",
     "status": "completed"
    },
    "tags": []
   },
   "outputs": [],
   "source": [
    "from sklearn.model_selection import train_test_split\n",
    "X=data.drop(['Delay'], axis=1) #features \n",
    "\n",
    "y=data['Delay'] #label or target variable\n",
    "train_x, test_x, train_y, test_y = train_test_split(X, y, test_size=0.4, random_state=1)"
   ]
  },
  {
   "cell_type": "code",
   "execution_count": 18,
   "id": "87e6fcd9",
   "metadata": {
    "execution": {
     "iopub.execute_input": "2022-06-24T06:38:40.966582Z",
     "iopub.status.busy": "2022-06-24T06:38:40.965892Z",
     "iopub.status.idle": "2022-06-24T06:38:41.177089Z",
     "shell.execute_reply": "2022-06-24T06:38:41.175937Z"
    },
    "papermill": {
     "duration": 0.227019,
     "end_time": "2022-06-24T06:38:41.179735",
     "exception": false,
     "start_time": "2022-06-24T06:38:40.952716",
     "status": "completed"
    },
    "tags": []
   },
   "outputs": [],
   "source": [
    "from sklearn.linear_model import LogisticRegression\n",
    "from sklearn.ensemble import RandomForestClassifier\n",
    "from sklearn.neighbors import KNeighborsClassifier\n",
    "from sklearn.tree import DecisionTreeClassifier"
   ]
  },
  {
   "cell_type": "code",
   "execution_count": null,
   "id": "24e78ee8",
   "metadata": {
    "papermill": {
     "duration": 0.011271,
     "end_time": "2022-06-24T06:38:41.202868",
     "exception": false,
     "start_time": "2022-06-24T06:38:41.191597",
     "status": "completed"
    },
    "tags": []
   },
   "outputs": [],
   "source": []
  },
  {
   "cell_type": "code",
   "execution_count": null,
   "id": "5fa8dd47",
   "metadata": {
    "papermill": {
     "duration": 0.011132,
     "end_time": "2022-06-24T06:38:41.225362",
     "exception": false,
     "start_time": "2022-06-24T06:38:41.214230",
     "status": "completed"
    },
    "tags": []
   },
   "outputs": [],
   "source": []
  }
 ],
 "metadata": {
  "kernelspec": {
   "display_name": "Python 3",
   "language": "python",
   "name": "python3"
  },
  "language_info": {
   "codemirror_mode": {
    "name": "ipython",
    "version": 3
   },
   "file_extension": ".py",
   "mimetype": "text/x-python",
   "name": "python",
   "nbconvert_exporter": "python",
   "pygments_lexer": "ipython3",
   "version": "3.7.12"
  },
  "papermill": {
   "default_parameters": {},
   "duration": 16.74875,
   "end_time": "2022-06-24T06:38:41.957976",
   "environment_variables": {},
   "exception": null,
   "input_path": "__notebook__.ipynb",
   "output_path": "__notebook__.ipynb",
   "parameters": {},
   "start_time": "2022-06-24T06:38:25.209226",
   "version": "2.3.4"
  }
 },
 "nbformat": 4,
 "nbformat_minor": 5
}

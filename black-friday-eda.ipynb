{
 "cells": [
  {
   "cell_type": "code",
   "execution_count": 1,
   "id": "e3345b10",
   "metadata": {
    "execution": {
     "iopub.execute_input": "2022-09-23T09:16:55.364844Z",
     "iopub.status.busy": "2022-09-23T09:16:55.364418Z",
     "iopub.status.idle": "2022-09-23T09:16:56.665336Z",
     "shell.execute_reply": "2022-09-23T09:16:56.664436Z"
    },
    "papermill": {
     "duration": 1.320327,
     "end_time": "2022-09-23T09:16:56.668334",
     "exception": false,
     "start_time": "2022-09-23T09:16:55.348007",
     "status": "completed"
    },
    "tags": []
   },
   "outputs": [],
   "source": [
    "import pandas as pd\n",
    "import numpy as np\n",
    "import seaborn as sns\n",
    "import matplotlib.pyplot as plt\n",
    "from sklearn.preprocessing import MinMaxScaler\n",
    "%matplotlib inline\n"
   ]
  },
  {
   "cell_type": "markdown",
   "id": "a2217dc5",
   "metadata": {
    "papermill": {
     "duration": 0.015375,
     "end_time": "2022-09-23T09:16:56.697180",
     "exception": false,
     "start_time": "2022-09-23T09:16:56.681805",
     "status": "completed"
    },
    "tags": []
   },
   "source": [
    "# Problem Statement "
   ]
  },
  {
   "cell_type": "markdown",
   "id": "3d5d3bbb",
   "metadata": {
    "papermill": {
     "duration": 0.013699,
     "end_time": "2022-09-23T09:16:56.724694",
     "exception": false,
     "start_time": "2022-09-23T09:16:56.710995",
     "status": "completed"
    },
    "tags": []
   },
   "source": [
    "A retail company “ABC Private Limited” wants to understand the customer purchase behaviour (specifically, purchase amount) against various products of different categories. They have shared purchase summary of various customers for selected high volume products from last month. The data set also contains customer demographics (age, gender, marital status, city_type, stay_in_current_city), product details (product_id and product category) and Total purchase_amount from last month.\n",
    "\n",
    "Now, they want to build a model to predict the purchase amount of customer against various products which will help them to create personalized offer for customers against different products."
   ]
  },
  {
   "cell_type": "code",
   "execution_count": 2,
   "id": "d41d980d",
   "metadata": {
    "execution": {
     "iopub.execute_input": "2022-09-23T09:16:56.754096Z",
     "iopub.status.busy": "2022-09-23T09:16:56.752912Z",
     "iopub.status.idle": "2022-09-23T09:16:58.203913Z",
     "shell.execute_reply": "2022-09-23T09:16:58.202784Z"
    },
    "papermill": {
     "duration": 1.468531,
     "end_time": "2022-09-23T09:16:58.206604",
     "exception": false,
     "start_time": "2022-09-23T09:16:56.738073",
     "status": "completed"
    },
    "tags": []
   },
   "outputs": [],
   "source": [
    "df_trian=pd.read_csv('../input/black-friday/test.csv')\n",
    "df_test=pd.read_csv(\"../input/black-friday/train.csv\")"
   ]
  },
  {
   "cell_type": "code",
   "execution_count": 3,
   "id": "590cc5e2",
   "metadata": {
    "execution": {
     "iopub.execute_input": "2022-09-23T09:16:58.235333Z",
     "iopub.status.busy": "2022-09-23T09:16:58.234802Z",
     "iopub.status.idle": "2022-09-23T09:16:58.244934Z",
     "shell.execute_reply": "2022-09-23T09:16:58.243622Z"
    },
    "papermill": {
     "duration": 0.027834,
     "end_time": "2022-09-23T09:16:58.247786",
     "exception": false,
     "start_time": "2022-09-23T09:16:58.219952",
     "status": "completed"
    },
    "tags": []
   },
   "outputs": [
    {
     "data": {
      "text/plain": [
       "(233599, 11)"
      ]
     },
     "execution_count": 3,
     "metadata": {},
     "output_type": "execute_result"
    }
   ],
   "source": [
    "df_trian.shape"
   ]
  },
  {
   "cell_type": "code",
   "execution_count": 4,
   "id": "b9964b27",
   "metadata": {
    "execution": {
     "iopub.execute_input": "2022-09-23T09:16:58.279826Z",
     "iopub.status.busy": "2022-09-23T09:16:58.278317Z",
     "iopub.status.idle": "2022-09-23T09:16:58.304587Z",
     "shell.execute_reply": "2022-09-23T09:16:58.302961Z"
    },
    "papermill": {
     "duration": 0.044444,
     "end_time": "2022-09-23T09:16:58.307331",
     "exception": false,
     "start_time": "2022-09-23T09:16:58.262887",
     "status": "completed"
    },
    "tags": []
   },
   "outputs": [
    {
     "data": {
      "text/html": [
       "<div>\n",
       "<style scoped>\n",
       "    .dataframe tbody tr th:only-of-type {\n",
       "        vertical-align: middle;\n",
       "    }\n",
       "\n",
       "    .dataframe tbody tr th {\n",
       "        vertical-align: top;\n",
       "    }\n",
       "\n",
       "    .dataframe thead th {\n",
       "        text-align: right;\n",
       "    }\n",
       "</style>\n",
       "<table border=\"1\" class=\"dataframe\">\n",
       "  <thead>\n",
       "    <tr style=\"text-align: right;\">\n",
       "      <th></th>\n",
       "      <th>User_ID</th>\n",
       "      <th>Product_ID</th>\n",
       "      <th>Gender</th>\n",
       "      <th>Age</th>\n",
       "      <th>Occupation</th>\n",
       "      <th>City_Category</th>\n",
       "      <th>Stay_In_Current_City_Years</th>\n",
       "      <th>Marital_Status</th>\n",
       "      <th>Product_Category_1</th>\n",
       "      <th>Product_Category_2</th>\n",
       "      <th>Product_Category_3</th>\n",
       "    </tr>\n",
       "  </thead>\n",
       "  <tbody>\n",
       "    <tr>\n",
       "      <th>0</th>\n",
       "      <td>1000004</td>\n",
       "      <td>P00128942</td>\n",
       "      <td>M</td>\n",
       "      <td>46-50</td>\n",
       "      <td>7</td>\n",
       "      <td>B</td>\n",
       "      <td>2</td>\n",
       "      <td>1</td>\n",
       "      <td>1</td>\n",
       "      <td>11.0</td>\n",
       "      <td>NaN</td>\n",
       "    </tr>\n",
       "    <tr>\n",
       "      <th>1</th>\n",
       "      <td>1000009</td>\n",
       "      <td>P00113442</td>\n",
       "      <td>M</td>\n",
       "      <td>26-35</td>\n",
       "      <td>17</td>\n",
       "      <td>C</td>\n",
       "      <td>0</td>\n",
       "      <td>0</td>\n",
       "      <td>3</td>\n",
       "      <td>5.0</td>\n",
       "      <td>NaN</td>\n",
       "    </tr>\n",
       "    <tr>\n",
       "      <th>2</th>\n",
       "      <td>1000010</td>\n",
       "      <td>P00288442</td>\n",
       "      <td>F</td>\n",
       "      <td>36-45</td>\n",
       "      <td>1</td>\n",
       "      <td>B</td>\n",
       "      <td>4+</td>\n",
       "      <td>1</td>\n",
       "      <td>5</td>\n",
       "      <td>14.0</td>\n",
       "      <td>NaN</td>\n",
       "    </tr>\n",
       "    <tr>\n",
       "      <th>3</th>\n",
       "      <td>1000010</td>\n",
       "      <td>P00145342</td>\n",
       "      <td>F</td>\n",
       "      <td>36-45</td>\n",
       "      <td>1</td>\n",
       "      <td>B</td>\n",
       "      <td>4+</td>\n",
       "      <td>1</td>\n",
       "      <td>4</td>\n",
       "      <td>9.0</td>\n",
       "      <td>NaN</td>\n",
       "    </tr>\n",
       "    <tr>\n",
       "      <th>4</th>\n",
       "      <td>1000011</td>\n",
       "      <td>P00053842</td>\n",
       "      <td>F</td>\n",
       "      <td>26-35</td>\n",
       "      <td>1</td>\n",
       "      <td>C</td>\n",
       "      <td>1</td>\n",
       "      <td>0</td>\n",
       "      <td>4</td>\n",
       "      <td>5.0</td>\n",
       "      <td>12.0</td>\n",
       "    </tr>\n",
       "  </tbody>\n",
       "</table>\n",
       "</div>"
      ],
      "text/plain": [
       "   User_ID Product_ID Gender    Age  Occupation City_Category  \\\n",
       "0  1000004  P00128942      M  46-50           7             B   \n",
       "1  1000009  P00113442      M  26-35          17             C   \n",
       "2  1000010  P00288442      F  36-45           1             B   \n",
       "3  1000010  P00145342      F  36-45           1             B   \n",
       "4  1000011  P00053842      F  26-35           1             C   \n",
       "\n",
       "  Stay_In_Current_City_Years  Marital_Status  Product_Category_1  \\\n",
       "0                          2               1                   1   \n",
       "1                          0               0                   3   \n",
       "2                         4+               1                   5   \n",
       "3                         4+               1                   4   \n",
       "4                          1               0                   4   \n",
       "\n",
       "   Product_Category_2  Product_Category_3  \n",
       "0                11.0                 NaN  \n",
       "1                 5.0                 NaN  \n",
       "2                14.0                 NaN  \n",
       "3                 9.0                 NaN  \n",
       "4                 5.0                12.0  "
      ]
     },
     "execution_count": 4,
     "metadata": {},
     "output_type": "execute_result"
    }
   ],
   "source": [
    "df_trian.head(5)"
   ]
  },
  {
   "cell_type": "code",
   "execution_count": 5,
   "id": "f6b0cdcb",
   "metadata": {
    "execution": {
     "iopub.execute_input": "2022-09-23T09:16:58.339463Z",
     "iopub.status.busy": "2022-09-23T09:16:58.338957Z",
     "iopub.status.idle": "2022-09-23T09:16:58.347909Z",
     "shell.execute_reply": "2022-09-23T09:16:58.346415Z"
    },
    "papermill": {
     "duration": 0.028672,
     "end_time": "2022-09-23T09:16:58.350795",
     "exception": false,
     "start_time": "2022-09-23T09:16:58.322123",
     "status": "completed"
    },
    "tags": []
   },
   "outputs": [
    {
     "data": {
      "text/plain": [
       "Index(['User_ID', 'Product_ID', 'Gender', 'Age', 'Occupation', 'City_Category',\n",
       "       'Stay_In_Current_City_Years', 'Marital_Status', 'Product_Category_1',\n",
       "       'Product_Category_2', 'Product_Category_3'],\n",
       "      dtype='object')"
      ]
     },
     "execution_count": 5,
     "metadata": {},
     "output_type": "execute_result"
    }
   ],
   "source": [
    "df_trian.columns"
   ]
  },
  {
   "cell_type": "code",
   "execution_count": 6,
   "id": "2d29ea7a",
   "metadata": {
    "execution": {
     "iopub.execute_input": "2022-09-23T09:16:58.381853Z",
     "iopub.status.busy": "2022-09-23T09:16:58.381391Z",
     "iopub.status.idle": "2022-09-23T09:16:58.389263Z",
     "shell.execute_reply": "2022-09-23T09:16:58.388382Z"
    },
    "papermill": {
     "duration": 0.026013,
     "end_time": "2022-09-23T09:16:58.391529",
     "exception": false,
     "start_time": "2022-09-23T09:16:58.365516",
     "status": "completed"
    },
    "tags": []
   },
   "outputs": [
    {
     "data": {
      "text/plain": [
       "Index(['User_ID', 'Product_ID', 'Gender', 'Age', 'Occupation', 'City_Category',\n",
       "       'Stay_In_Current_City_Years', 'Marital_Status', 'Product_Category_1',\n",
       "       'Product_Category_2', 'Product_Category_3', 'Purchase'],\n",
       "      dtype='object')"
      ]
     },
     "execution_count": 6,
     "metadata": {},
     "output_type": "execute_result"
    }
   ],
   "source": [
    "df_test.columns"
   ]
  },
  {
   "cell_type": "code",
   "execution_count": 7,
   "id": "83d4b7a6",
   "metadata": {
    "execution": {
     "iopub.execute_input": "2022-09-23T09:16:58.422821Z",
     "iopub.status.busy": "2022-09-23T09:16:58.422228Z",
     "iopub.status.idle": "2022-09-23T09:16:58.618586Z",
     "shell.execute_reply": "2022-09-23T09:16:58.617056Z"
    },
    "papermill": {
     "duration": 0.215187,
     "end_time": "2022-09-23T09:16:58.621604",
     "exception": false,
     "start_time": "2022-09-23T09:16:58.406417",
     "status": "completed"
    },
    "tags": []
   },
   "outputs": [
    {
     "data": {
      "text/html": [
       "<div>\n",
       "<style scoped>\n",
       "    .dataframe tbody tr th:only-of-type {\n",
       "        vertical-align: middle;\n",
       "    }\n",
       "\n",
       "    .dataframe tbody tr th {\n",
       "        vertical-align: top;\n",
       "    }\n",
       "\n",
       "    .dataframe thead th {\n",
       "        text-align: right;\n",
       "    }\n",
       "</style>\n",
       "<table border=\"1\" class=\"dataframe\">\n",
       "  <thead>\n",
       "    <tr style=\"text-align: right;\">\n",
       "      <th></th>\n",
       "      <th>User_ID</th>\n",
       "      <th>Product_ID</th>\n",
       "      <th>Gender</th>\n",
       "      <th>Age</th>\n",
       "      <th>Occupation</th>\n",
       "      <th>City_Category</th>\n",
       "      <th>Stay_In_Current_City_Years</th>\n",
       "      <th>Marital_Status</th>\n",
       "      <th>Product_Category_1</th>\n",
       "      <th>Product_Category_2</th>\n",
       "      <th>Product_Category_3</th>\n",
       "      <th>Purchase</th>\n",
       "    </tr>\n",
       "  </thead>\n",
       "  <tbody>\n",
       "    <tr>\n",
       "      <th>0</th>\n",
       "      <td>1000004</td>\n",
       "      <td>P00128942</td>\n",
       "      <td>M</td>\n",
       "      <td>46-50</td>\n",
       "      <td>7</td>\n",
       "      <td>B</td>\n",
       "      <td>2</td>\n",
       "      <td>1</td>\n",
       "      <td>1</td>\n",
       "      <td>11.0</td>\n",
       "      <td>NaN</td>\n",
       "      <td>NaN</td>\n",
       "    </tr>\n",
       "    <tr>\n",
       "      <th>1</th>\n",
       "      <td>1000009</td>\n",
       "      <td>P00113442</td>\n",
       "      <td>M</td>\n",
       "      <td>26-35</td>\n",
       "      <td>17</td>\n",
       "      <td>C</td>\n",
       "      <td>0</td>\n",
       "      <td>0</td>\n",
       "      <td>3</td>\n",
       "      <td>5.0</td>\n",
       "      <td>NaN</td>\n",
       "      <td>NaN</td>\n",
       "    </tr>\n",
       "    <tr>\n",
       "      <th>2</th>\n",
       "      <td>1000010</td>\n",
       "      <td>P00288442</td>\n",
       "      <td>F</td>\n",
       "      <td>36-45</td>\n",
       "      <td>1</td>\n",
       "      <td>B</td>\n",
       "      <td>4+</td>\n",
       "      <td>1</td>\n",
       "      <td>5</td>\n",
       "      <td>14.0</td>\n",
       "      <td>NaN</td>\n",
       "      <td>NaN</td>\n",
       "    </tr>\n",
       "    <tr>\n",
       "      <th>3</th>\n",
       "      <td>1000010</td>\n",
       "      <td>P00145342</td>\n",
       "      <td>F</td>\n",
       "      <td>36-45</td>\n",
       "      <td>1</td>\n",
       "      <td>B</td>\n",
       "      <td>4+</td>\n",
       "      <td>1</td>\n",
       "      <td>4</td>\n",
       "      <td>9.0</td>\n",
       "      <td>NaN</td>\n",
       "      <td>NaN</td>\n",
       "    </tr>\n",
       "    <tr>\n",
       "      <th>4</th>\n",
       "      <td>1000011</td>\n",
       "      <td>P00053842</td>\n",
       "      <td>F</td>\n",
       "      <td>26-35</td>\n",
       "      <td>1</td>\n",
       "      <td>C</td>\n",
       "      <td>1</td>\n",
       "      <td>0</td>\n",
       "      <td>4</td>\n",
       "      <td>5.0</td>\n",
       "      <td>12.0</td>\n",
       "      <td>NaN</td>\n",
       "    </tr>\n",
       "  </tbody>\n",
       "</table>\n",
       "</div>"
      ],
      "text/plain": [
       "   User_ID Product_ID Gender    Age  Occupation City_Category  \\\n",
       "0  1000004  P00128942      M  46-50           7             B   \n",
       "1  1000009  P00113442      M  26-35          17             C   \n",
       "2  1000010  P00288442      F  36-45           1             B   \n",
       "3  1000010  P00145342      F  36-45           1             B   \n",
       "4  1000011  P00053842      F  26-35           1             C   \n",
       "\n",
       "  Stay_In_Current_City_Years  Marital_Status  Product_Category_1  \\\n",
       "0                          2               1                   1   \n",
       "1                          0               0                   3   \n",
       "2                         4+               1                   5   \n",
       "3                         4+               1                   4   \n",
       "4                          1               0                   4   \n",
       "\n",
       "   Product_Category_2  Product_Category_3  Purchase  \n",
       "0                11.0                 NaN       NaN  \n",
       "1                 5.0                 NaN       NaN  \n",
       "2                14.0                 NaN       NaN  \n",
       "3                 9.0                 NaN       NaN  \n",
       "4                 5.0                12.0       NaN  "
      ]
     },
     "execution_count": 7,
     "metadata": {},
     "output_type": "execute_result"
    }
   ],
   "source": [
    "final_Df=df_trian.append(df_test)\n",
    "final_Df.head()"
   ]
  },
  {
   "cell_type": "code",
   "execution_count": 8,
   "id": "2f3e7328",
   "metadata": {
    "execution": {
     "iopub.execute_input": "2022-09-23T09:16:58.654346Z",
     "iopub.status.busy": "2022-09-23T09:16:58.653906Z",
     "iopub.status.idle": "2022-09-23T09:16:58.661671Z",
     "shell.execute_reply": "2022-09-23T09:16:58.660315Z"
    },
    "papermill": {
     "duration": 0.027959,
     "end_time": "2022-09-23T09:16:58.664293",
     "exception": false,
     "start_time": "2022-09-23T09:16:58.636334",
     "status": "completed"
    },
    "tags": []
   },
   "outputs": [
    {
     "data": {
      "text/plain": [
       "(783667, 12)"
      ]
     },
     "execution_count": 8,
     "metadata": {},
     "output_type": "execute_result"
    }
   ],
   "source": [
    "final_Df.shape"
   ]
  },
  {
   "cell_type": "code",
   "execution_count": 9,
   "id": "1ff5277b",
   "metadata": {
    "execution": {
     "iopub.execute_input": "2022-09-23T09:16:58.694190Z",
     "iopub.status.busy": "2022-09-23T09:16:58.693797Z",
     "iopub.status.idle": "2022-09-23T09:16:58.915226Z",
     "shell.execute_reply": "2022-09-23T09:16:58.913394Z"
    },
    "papermill": {
     "duration": 0.239807,
     "end_time": "2022-09-23T09:16:58.918022",
     "exception": false,
     "start_time": "2022-09-23T09:16:58.678215",
     "status": "completed"
    },
    "tags": []
   },
   "outputs": [
    {
     "name": "stdout",
     "output_type": "stream",
     "text": [
      "<class 'pandas.core.frame.DataFrame'>\n",
      "Int64Index: 783667 entries, 0 to 550067\n",
      "Data columns (total 12 columns):\n",
      " #   Column                      Non-Null Count   Dtype  \n",
      "---  ------                      --------------   -----  \n",
      " 0   User_ID                     783667 non-null  int64  \n",
      " 1   Product_ID                  783667 non-null  object \n",
      " 2   Gender                      783667 non-null  object \n",
      " 3   Age                         783667 non-null  object \n",
      " 4   Occupation                  783667 non-null  int64  \n",
      " 5   City_Category               783667 non-null  object \n",
      " 6   Stay_In_Current_City_Years  783667 non-null  object \n",
      " 7   Marital_Status              783667 non-null  int64  \n",
      " 8   Product_Category_1          783667 non-null  int64  \n",
      " 9   Product_Category_2          537685 non-null  float64\n",
      " 10  Product_Category_3          237858 non-null  float64\n",
      " 11  Purchase                    550068 non-null  float64\n",
      "dtypes: float64(3), int64(4), object(5)\n",
      "memory usage: 77.7+ MB\n"
     ]
    }
   ],
   "source": [
    "final_Df.info()"
   ]
  },
  {
   "cell_type": "code",
   "execution_count": 10,
   "id": "1615d7e1",
   "metadata": {
    "execution": {
     "iopub.execute_input": "2022-09-23T09:16:58.948138Z",
     "iopub.status.busy": "2022-09-23T09:16:58.947724Z",
     "iopub.status.idle": "2022-09-23T09:16:59.477523Z",
     "shell.execute_reply": "2022-09-23T09:16:59.476332Z"
    },
    "papermill": {
     "duration": 0.547693,
     "end_time": "2022-09-23T09:16:59.480065",
     "exception": false,
     "start_time": "2022-09-23T09:16:58.932372",
     "status": "completed"
    },
    "tags": []
   },
   "outputs": [
    {
     "data": {
      "text/html": [
       "<div>\n",
       "<style scoped>\n",
       "    .dataframe tbody tr th:only-of-type {\n",
       "        vertical-align: middle;\n",
       "    }\n",
       "\n",
       "    .dataframe tbody tr th {\n",
       "        vertical-align: top;\n",
       "    }\n",
       "\n",
       "    .dataframe thead th {\n",
       "        text-align: right;\n",
       "    }\n",
       "</style>\n",
       "<table border=\"1\" class=\"dataframe\">\n",
       "  <thead>\n",
       "    <tr style=\"text-align: right;\">\n",
       "      <th></th>\n",
       "      <th>User_ID</th>\n",
       "      <th>Occupation</th>\n",
       "      <th>Marital_Status</th>\n",
       "      <th>Product_Category_1</th>\n",
       "      <th>Product_Category_2</th>\n",
       "      <th>Product_Category_3</th>\n",
       "      <th>Purchase</th>\n",
       "    </tr>\n",
       "  </thead>\n",
       "  <tbody>\n",
       "    <tr>\n",
       "      <th>count</th>\n",
       "      <td>7.836670e+05</td>\n",
       "      <td>783667.000000</td>\n",
       "      <td>783667.000000</td>\n",
       "      <td>783667.000000</td>\n",
       "      <td>537685.000000</td>\n",
       "      <td>237858.000000</td>\n",
       "      <td>550068.000000</td>\n",
       "    </tr>\n",
       "    <tr>\n",
       "      <th>mean</th>\n",
       "      <td>1.003029e+06</td>\n",
       "      <td>8.079300</td>\n",
       "      <td>0.409777</td>\n",
       "      <td>5.366196</td>\n",
       "      <td>9.844506</td>\n",
       "      <td>12.668605</td>\n",
       "      <td>9263.968713</td>\n",
       "    </tr>\n",
       "    <tr>\n",
       "      <th>std</th>\n",
       "      <td>1.727267e+03</td>\n",
       "      <td>6.522206</td>\n",
       "      <td>0.491793</td>\n",
       "      <td>3.878160</td>\n",
       "      <td>5.089093</td>\n",
       "      <td>4.125510</td>\n",
       "      <td>5023.065394</td>\n",
       "    </tr>\n",
       "    <tr>\n",
       "      <th>min</th>\n",
       "      <td>1.000001e+06</td>\n",
       "      <td>0.000000</td>\n",
       "      <td>0.000000</td>\n",
       "      <td>1.000000</td>\n",
       "      <td>2.000000</td>\n",
       "      <td>3.000000</td>\n",
       "      <td>12.000000</td>\n",
       "    </tr>\n",
       "    <tr>\n",
       "      <th>25%</th>\n",
       "      <td>1.001519e+06</td>\n",
       "      <td>2.000000</td>\n",
       "      <td>0.000000</td>\n",
       "      <td>1.000000</td>\n",
       "      <td>5.000000</td>\n",
       "      <td>9.000000</td>\n",
       "      <td>5823.000000</td>\n",
       "    </tr>\n",
       "    <tr>\n",
       "      <th>50%</th>\n",
       "      <td>1.003075e+06</td>\n",
       "      <td>7.000000</td>\n",
       "      <td>0.000000</td>\n",
       "      <td>5.000000</td>\n",
       "      <td>9.000000</td>\n",
       "      <td>14.000000</td>\n",
       "      <td>8047.000000</td>\n",
       "    </tr>\n",
       "    <tr>\n",
       "      <th>75%</th>\n",
       "      <td>1.004478e+06</td>\n",
       "      <td>14.000000</td>\n",
       "      <td>1.000000</td>\n",
       "      <td>8.000000</td>\n",
       "      <td>15.000000</td>\n",
       "      <td>16.000000</td>\n",
       "      <td>12054.000000</td>\n",
       "    </tr>\n",
       "    <tr>\n",
       "      <th>max</th>\n",
       "      <td>1.006040e+06</td>\n",
       "      <td>20.000000</td>\n",
       "      <td>1.000000</td>\n",
       "      <td>20.000000</td>\n",
       "      <td>18.000000</td>\n",
       "      <td>18.000000</td>\n",
       "      <td>23961.000000</td>\n",
       "    </tr>\n",
       "  </tbody>\n",
       "</table>\n",
       "</div>"
      ],
      "text/plain": [
       "            User_ID     Occupation  Marital_Status  Product_Category_1  \\\n",
       "count  7.836670e+05  783667.000000   783667.000000       783667.000000   \n",
       "mean   1.003029e+06       8.079300        0.409777            5.366196   \n",
       "std    1.727267e+03       6.522206        0.491793            3.878160   \n",
       "min    1.000001e+06       0.000000        0.000000            1.000000   \n",
       "25%    1.001519e+06       2.000000        0.000000            1.000000   \n",
       "50%    1.003075e+06       7.000000        0.000000            5.000000   \n",
       "75%    1.004478e+06      14.000000        1.000000            8.000000   \n",
       "max    1.006040e+06      20.000000        1.000000           20.000000   \n",
       "\n",
       "       Product_Category_2  Product_Category_3       Purchase  \n",
       "count       537685.000000       237858.000000  550068.000000  \n",
       "mean             9.844506           12.668605    9263.968713  \n",
       "std              5.089093            4.125510    5023.065394  \n",
       "min              2.000000            3.000000      12.000000  \n",
       "25%              5.000000            9.000000    5823.000000  \n",
       "50%              9.000000           14.000000    8047.000000  \n",
       "75%             15.000000           16.000000   12054.000000  \n",
       "max             18.000000           18.000000   23961.000000  "
      ]
     },
     "execution_count": 10,
     "metadata": {},
     "output_type": "execute_result"
    }
   ],
   "source": [
    "final_Df.describe()"
   ]
  },
  {
   "cell_type": "markdown",
   "id": "1c0505c0",
   "metadata": {
    "papermill": {
     "duration": 0.013852,
     "end_time": "2022-09-23T09:16:59.508616",
     "exception": false,
     "start_time": "2022-09-23T09:16:59.494764",
     "status": "completed"
    },
    "tags": []
   },
   "source": [
    "#### handling Categorical features "
   ]
  },
  {
   "cell_type": "code",
   "execution_count": 11,
   "id": "897c7bdf",
   "metadata": {
    "execution": {
     "iopub.execute_input": "2022-09-23T09:16:59.539062Z",
     "iopub.status.busy": "2022-09-23T09:16:59.538197Z",
     "iopub.status.idle": "2022-09-23T09:16:59.637401Z",
     "shell.execute_reply": "2022-09-23T09:16:59.636261Z"
    },
    "papermill": {
     "duration": 0.117889,
     "end_time": "2022-09-23T09:16:59.640492",
     "exception": false,
     "start_time": "2022-09-23T09:16:59.522603",
     "status": "completed"
    },
    "tags": []
   },
   "outputs": [
    {
     "data": {
      "text/html": [
       "<div>\n",
       "<style scoped>\n",
       "    .dataframe tbody tr th:only-of-type {\n",
       "        vertical-align: middle;\n",
       "    }\n",
       "\n",
       "    .dataframe tbody tr th {\n",
       "        vertical-align: top;\n",
       "    }\n",
       "\n",
       "    .dataframe thead th {\n",
       "        text-align: right;\n",
       "    }\n",
       "</style>\n",
       "<table border=\"1\" class=\"dataframe\">\n",
       "  <thead>\n",
       "    <tr style=\"text-align: right;\">\n",
       "      <th></th>\n",
       "      <th>User_ID</th>\n",
       "      <th>Product_ID</th>\n",
       "      <th>Gender</th>\n",
       "      <th>Age</th>\n",
       "      <th>Occupation</th>\n",
       "      <th>City_Category</th>\n",
       "      <th>Stay_In_Current_City_Years</th>\n",
       "      <th>Marital_Status</th>\n",
       "      <th>Product_Category_1</th>\n",
       "      <th>Product_Category_2</th>\n",
       "      <th>Product_Category_3</th>\n",
       "      <th>Purchase</th>\n",
       "    </tr>\n",
       "  </thead>\n",
       "  <tbody>\n",
       "    <tr>\n",
       "      <th>0</th>\n",
       "      <td>1000004</td>\n",
       "      <td>P00128942</td>\n",
       "      <td>1</td>\n",
       "      <td>46-50</td>\n",
       "      <td>7</td>\n",
       "      <td>B</td>\n",
       "      <td>2</td>\n",
       "      <td>1</td>\n",
       "      <td>1</td>\n",
       "      <td>11.0</td>\n",
       "      <td>NaN</td>\n",
       "      <td>NaN</td>\n",
       "    </tr>\n",
       "    <tr>\n",
       "      <th>1</th>\n",
       "      <td>1000009</td>\n",
       "      <td>P00113442</td>\n",
       "      <td>1</td>\n",
       "      <td>26-35</td>\n",
       "      <td>17</td>\n",
       "      <td>C</td>\n",
       "      <td>0</td>\n",
       "      <td>0</td>\n",
       "      <td>3</td>\n",
       "      <td>5.0</td>\n",
       "      <td>NaN</td>\n",
       "      <td>NaN</td>\n",
       "    </tr>\n",
       "    <tr>\n",
       "      <th>2</th>\n",
       "      <td>1000010</td>\n",
       "      <td>P00288442</td>\n",
       "      <td>0</td>\n",
       "      <td>36-45</td>\n",
       "      <td>1</td>\n",
       "      <td>B</td>\n",
       "      <td>4+</td>\n",
       "      <td>1</td>\n",
       "      <td>5</td>\n",
       "      <td>14.0</td>\n",
       "      <td>NaN</td>\n",
       "      <td>NaN</td>\n",
       "    </tr>\n",
       "    <tr>\n",
       "      <th>3</th>\n",
       "      <td>1000010</td>\n",
       "      <td>P00145342</td>\n",
       "      <td>0</td>\n",
       "      <td>36-45</td>\n",
       "      <td>1</td>\n",
       "      <td>B</td>\n",
       "      <td>4+</td>\n",
       "      <td>1</td>\n",
       "      <td>4</td>\n",
       "      <td>9.0</td>\n",
       "      <td>NaN</td>\n",
       "      <td>NaN</td>\n",
       "    </tr>\n",
       "    <tr>\n",
       "      <th>4</th>\n",
       "      <td>1000011</td>\n",
       "      <td>P00053842</td>\n",
       "      <td>0</td>\n",
       "      <td>26-35</td>\n",
       "      <td>1</td>\n",
       "      <td>C</td>\n",
       "      <td>1</td>\n",
       "      <td>0</td>\n",
       "      <td>4</td>\n",
       "      <td>5.0</td>\n",
       "      <td>12.0</td>\n",
       "      <td>NaN</td>\n",
       "    </tr>\n",
       "  </tbody>\n",
       "</table>\n",
       "</div>"
      ],
      "text/plain": [
       "   User_ID Product_ID  Gender    Age  Occupation City_Category  \\\n",
       "0  1000004  P00128942       1  46-50           7             B   \n",
       "1  1000009  P00113442       1  26-35          17             C   \n",
       "2  1000010  P00288442       0  36-45           1             B   \n",
       "3  1000010  P00145342       0  36-45           1             B   \n",
       "4  1000011  P00053842       0  26-35           1             C   \n",
       "\n",
       "  Stay_In_Current_City_Years  Marital_Status  Product_Category_1  \\\n",
       "0                          2               1                   1   \n",
       "1                          0               0                   3   \n",
       "2                         4+               1                   5   \n",
       "3                         4+               1                   4   \n",
       "4                          1               0                   4   \n",
       "\n",
       "   Product_Category_2  Product_Category_3  Purchase  \n",
       "0                11.0                 NaN       NaN  \n",
       "1                 5.0                 NaN       NaN  \n",
       "2                14.0                 NaN       NaN  \n",
       "3                 9.0                 NaN       NaN  \n",
       "4                 5.0                12.0       NaN  "
      ]
     },
     "execution_count": 11,
     "metadata": {},
     "output_type": "execute_result"
    }
   ],
   "source": [
    "final_Df['Gender']=final_Df['Gender'].map({'F':0,'M':1})\n",
    "final_Df.head()"
   ]
  },
  {
   "cell_type": "markdown",
   "id": "fa538a24",
   "metadata": {
    "papermill": {
     "duration": 0.014662,
     "end_time": "2022-09-23T09:16:59.670359",
     "exception": false,
     "start_time": "2022-09-23T09:16:59.655697",
     "status": "completed"
    },
    "tags": []
   },
   "source": [
    "Now Female gender 'F' indicated as 0 and male gender 'M' as 1   "
   ]
  },
  {
   "cell_type": "code",
   "execution_count": 12,
   "id": "f76a8ce5",
   "metadata": {
    "execution": {
     "iopub.execute_input": "2022-09-23T09:16:59.704601Z",
     "iopub.status.busy": "2022-09-23T09:16:59.703557Z",
     "iopub.status.idle": "2022-09-23T09:16:59.762937Z",
     "shell.execute_reply": "2022-09-23T09:16:59.762127Z"
    },
    "papermill": {
     "duration": 0.079364,
     "end_time": "2022-09-23T09:16:59.765376",
     "exception": false,
     "start_time": "2022-09-23T09:16:59.686012",
     "status": "completed"
    },
    "tags": []
   },
   "outputs": [
    {
     "data": {
      "text/plain": [
       "array(['46-50', '26-35', '36-45', '18-25', '51-55', '55+', '0-17'],\n",
       "      dtype=object)"
      ]
     },
     "execution_count": 12,
     "metadata": {},
     "output_type": "execute_result"
    }
   ],
   "source": [
    "final_Df['Age'].unique()"
   ]
  },
  {
   "cell_type": "code",
   "execution_count": 13,
   "id": "513d0f44",
   "metadata": {
    "execution": {
     "iopub.execute_input": "2022-09-23T09:16:59.799390Z",
     "iopub.status.busy": "2022-09-23T09:16:59.798725Z",
     "iopub.status.idle": "2022-09-23T09:16:59.877961Z",
     "shell.execute_reply": "2022-09-23T09:16:59.876668Z"
    },
    "papermill": {
     "duration": 0.09962,
     "end_time": "2022-09-23T09:16:59.881049",
     "exception": false,
     "start_time": "2022-09-23T09:16:59.781429",
     "status": "completed"
    },
    "tags": []
   },
   "outputs": [
    {
     "data": {
      "text/html": [
       "<div>\n",
       "<style scoped>\n",
       "    .dataframe tbody tr th:only-of-type {\n",
       "        vertical-align: middle;\n",
       "    }\n",
       "\n",
       "    .dataframe tbody tr th {\n",
       "        vertical-align: top;\n",
       "    }\n",
       "\n",
       "    .dataframe thead th {\n",
       "        text-align: right;\n",
       "    }\n",
       "</style>\n",
       "<table border=\"1\" class=\"dataframe\">\n",
       "  <thead>\n",
       "    <tr style=\"text-align: right;\">\n",
       "      <th></th>\n",
       "      <th>User_ID</th>\n",
       "      <th>Product_ID</th>\n",
       "      <th>Gender</th>\n",
       "      <th>Age</th>\n",
       "      <th>Occupation</th>\n",
       "      <th>City_Category</th>\n",
       "      <th>Stay_In_Current_City_Years</th>\n",
       "      <th>Marital_Status</th>\n",
       "      <th>Product_Category_1</th>\n",
       "      <th>Product_Category_2</th>\n",
       "      <th>Product_Category_3</th>\n",
       "      <th>Purchase</th>\n",
       "    </tr>\n",
       "  </thead>\n",
       "  <tbody>\n",
       "    <tr>\n",
       "      <th>0</th>\n",
       "      <td>1000004</td>\n",
       "      <td>P00128942</td>\n",
       "      <td>1</td>\n",
       "      <td>5</td>\n",
       "      <td>7</td>\n",
       "      <td>B</td>\n",
       "      <td>2</td>\n",
       "      <td>1</td>\n",
       "      <td>1</td>\n",
       "      <td>11.0</td>\n",
       "      <td>NaN</td>\n",
       "      <td>NaN</td>\n",
       "    </tr>\n",
       "    <tr>\n",
       "      <th>1</th>\n",
       "      <td>1000009</td>\n",
       "      <td>P00113442</td>\n",
       "      <td>1</td>\n",
       "      <td>3</td>\n",
       "      <td>17</td>\n",
       "      <td>C</td>\n",
       "      <td>0</td>\n",
       "      <td>0</td>\n",
       "      <td>3</td>\n",
       "      <td>5.0</td>\n",
       "      <td>NaN</td>\n",
       "      <td>NaN</td>\n",
       "    </tr>\n",
       "    <tr>\n",
       "      <th>2</th>\n",
       "      <td>1000010</td>\n",
       "      <td>P00288442</td>\n",
       "      <td>0</td>\n",
       "      <td>4</td>\n",
       "      <td>1</td>\n",
       "      <td>B</td>\n",
       "      <td>4+</td>\n",
       "      <td>1</td>\n",
       "      <td>5</td>\n",
       "      <td>14.0</td>\n",
       "      <td>NaN</td>\n",
       "      <td>NaN</td>\n",
       "    </tr>\n",
       "    <tr>\n",
       "      <th>3</th>\n",
       "      <td>1000010</td>\n",
       "      <td>P00145342</td>\n",
       "      <td>0</td>\n",
       "      <td>4</td>\n",
       "      <td>1</td>\n",
       "      <td>B</td>\n",
       "      <td>4+</td>\n",
       "      <td>1</td>\n",
       "      <td>4</td>\n",
       "      <td>9.0</td>\n",
       "      <td>NaN</td>\n",
       "      <td>NaN</td>\n",
       "    </tr>\n",
       "    <tr>\n",
       "      <th>4</th>\n",
       "      <td>1000011</td>\n",
       "      <td>P00053842</td>\n",
       "      <td>0</td>\n",
       "      <td>3</td>\n",
       "      <td>1</td>\n",
       "      <td>C</td>\n",
       "      <td>1</td>\n",
       "      <td>0</td>\n",
       "      <td>4</td>\n",
       "      <td>5.0</td>\n",
       "      <td>12.0</td>\n",
       "      <td>NaN</td>\n",
       "    </tr>\n",
       "  </tbody>\n",
       "</table>\n",
       "</div>"
      ],
      "text/plain": [
       "   User_ID Product_ID  Gender  Age  Occupation City_Category  \\\n",
       "0  1000004  P00128942       1    5           7             B   \n",
       "1  1000009  P00113442       1    3          17             C   \n",
       "2  1000010  P00288442       0    4           1             B   \n",
       "3  1000010  P00145342       0    4           1             B   \n",
       "4  1000011  P00053842       0    3           1             C   \n",
       "\n",
       "  Stay_In_Current_City_Years  Marital_Status  Product_Category_1  \\\n",
       "0                          2               1                   1   \n",
       "1                          0               0                   3   \n",
       "2                         4+               1                   5   \n",
       "3                         4+               1                   4   \n",
       "4                          1               0                   4   \n",
       "\n",
       "   Product_Category_2  Product_Category_3  Purchase  \n",
       "0                11.0                 NaN       NaN  \n",
       "1                 5.0                 NaN       NaN  \n",
       "2                14.0                 NaN       NaN  \n",
       "3                 9.0                 NaN       NaN  \n",
       "4                 5.0                12.0       NaN  "
      ]
     },
     "execution_count": 13,
     "metadata": {},
     "output_type": "execute_result"
    }
   ],
   "source": [
    "final_Df['Age']=final_Df['Age'].map({'0-17':1,'18-25':2,'26-35':3,'36-45':4,'46-50':5,'51-55':6,'55+':7})\n",
    "final_Df.head(5)"
   ]
  },
  {
   "cell_type": "code",
   "execution_count": 14,
   "id": "e72c63a0",
   "metadata": {
    "execution": {
     "iopub.execute_input": "2022-09-23T09:16:59.916614Z",
     "iopub.status.busy": "2022-09-23T09:16:59.915876Z",
     "iopub.status.idle": "2022-09-23T09:16:59.976654Z",
     "shell.execute_reply": "2022-09-23T09:16:59.975467Z"
    },
    "papermill": {
     "duration": 0.080518,
     "end_time": "2022-09-23T09:16:59.979387",
     "exception": false,
     "start_time": "2022-09-23T09:16:59.898869",
     "status": "completed"
    },
    "tags": []
   },
   "outputs": [
    {
     "data": {
      "text/plain": [
       "array(['B', 'C', 'A'], dtype=object)"
      ]
     },
     "execution_count": 14,
     "metadata": {},
     "output_type": "execute_result"
    }
   ],
   "source": [
    "final_Df.City_Category.unique()"
   ]
  },
  {
   "cell_type": "code",
   "execution_count": 15,
   "id": "62686907",
   "metadata": {
    "execution": {
     "iopub.execute_input": "2022-09-23T09:17:00.015569Z",
     "iopub.status.busy": "2022-09-23T09:17:00.015122Z",
     "iopub.status.idle": "2022-09-23T09:17:00.106680Z",
     "shell.execute_reply": "2022-09-23T09:17:00.105497Z"
    },
    "papermill": {
     "duration": 0.113679,
     "end_time": "2022-09-23T09:17:00.109831",
     "exception": false,
     "start_time": "2022-09-23T09:16:59.996152",
     "status": "completed"
    },
    "tags": []
   },
   "outputs": [],
   "source": [
    "City_Df=pd.get_dummies(final_Df['City_Category'],drop_first=True)\n"
   ]
  },
  {
   "cell_type": "code",
   "execution_count": 16,
   "id": "c40d8166",
   "metadata": {
    "execution": {
     "iopub.execute_input": "2022-09-23T09:17:00.143082Z",
     "iopub.status.busy": "2022-09-23T09:17:00.142640Z",
     "iopub.status.idle": "2022-09-23T09:17:00.153053Z",
     "shell.execute_reply": "2022-09-23T09:17:00.151739Z"
    },
    "papermill": {
     "duration": 0.030458,
     "end_time": "2022-09-23T09:17:00.156448",
     "exception": false,
     "start_time": "2022-09-23T09:17:00.125990",
     "status": "completed"
    },
    "tags": []
   },
   "outputs": [
    {
     "data": {
      "text/html": [
       "<div>\n",
       "<style scoped>\n",
       "    .dataframe tbody tr th:only-of-type {\n",
       "        vertical-align: middle;\n",
       "    }\n",
       "\n",
       "    .dataframe tbody tr th {\n",
       "        vertical-align: top;\n",
       "    }\n",
       "\n",
       "    .dataframe thead th {\n",
       "        text-align: right;\n",
       "    }\n",
       "</style>\n",
       "<table border=\"1\" class=\"dataframe\">\n",
       "  <thead>\n",
       "    <tr style=\"text-align: right;\">\n",
       "      <th></th>\n",
       "      <th>B</th>\n",
       "      <th>C</th>\n",
       "    </tr>\n",
       "  </thead>\n",
       "  <tbody>\n",
       "    <tr>\n",
       "      <th>0</th>\n",
       "      <td>1</td>\n",
       "      <td>0</td>\n",
       "    </tr>\n",
       "    <tr>\n",
       "      <th>1</th>\n",
       "      <td>0</td>\n",
       "      <td>1</td>\n",
       "    </tr>\n",
       "    <tr>\n",
       "      <th>2</th>\n",
       "      <td>1</td>\n",
       "      <td>0</td>\n",
       "    </tr>\n",
       "    <tr>\n",
       "      <th>3</th>\n",
       "      <td>1</td>\n",
       "      <td>0</td>\n",
       "    </tr>\n",
       "    <tr>\n",
       "      <th>4</th>\n",
       "      <td>0</td>\n",
       "      <td>1</td>\n",
       "    </tr>\n",
       "  </tbody>\n",
       "</table>\n",
       "</div>"
      ],
      "text/plain": [
       "   B  C\n",
       "0  1  0\n",
       "1  0  1\n",
       "2  1  0\n",
       "3  1  0\n",
       "4  0  1"
      ]
     },
     "execution_count": 16,
     "metadata": {},
     "output_type": "execute_result"
    }
   ],
   "source": [
    "City_Df.head(5)"
   ]
  },
  {
   "cell_type": "code",
   "execution_count": 17,
   "id": "eb30bfb7",
   "metadata": {
    "execution": {
     "iopub.execute_input": "2022-09-23T09:17:00.209273Z",
     "iopub.status.busy": "2022-09-23T09:17:00.208630Z",
     "iopub.status.idle": "2022-09-23T09:17:00.309592Z",
     "shell.execute_reply": "2022-09-23T09:17:00.308370Z"
    },
    "papermill": {
     "duration": 0.131653,
     "end_time": "2022-09-23T09:17:00.312862",
     "exception": false,
     "start_time": "2022-09-23T09:17:00.181209",
     "status": "completed"
    },
    "tags": []
   },
   "outputs": [
    {
     "data": {
      "text/html": [
       "<div>\n",
       "<style scoped>\n",
       "    .dataframe tbody tr th:only-of-type {\n",
       "        vertical-align: middle;\n",
       "    }\n",
       "\n",
       "    .dataframe tbody tr th {\n",
       "        vertical-align: top;\n",
       "    }\n",
       "\n",
       "    .dataframe thead th {\n",
       "        text-align: right;\n",
       "    }\n",
       "</style>\n",
       "<table border=\"1\" class=\"dataframe\">\n",
       "  <thead>\n",
       "    <tr style=\"text-align: right;\">\n",
       "      <th></th>\n",
       "      <th>User_ID</th>\n",
       "      <th>Product_ID</th>\n",
       "      <th>Gender</th>\n",
       "      <th>Age</th>\n",
       "      <th>Occupation</th>\n",
       "      <th>City_Category</th>\n",
       "      <th>Stay_In_Current_City_Years</th>\n",
       "      <th>Marital_Status</th>\n",
       "      <th>Product_Category_1</th>\n",
       "      <th>Product_Category_2</th>\n",
       "      <th>Product_Category_3</th>\n",
       "      <th>Purchase</th>\n",
       "      <th>B</th>\n",
       "      <th>C</th>\n",
       "    </tr>\n",
       "  </thead>\n",
       "  <tbody>\n",
       "    <tr>\n",
       "      <th>0</th>\n",
       "      <td>1000004</td>\n",
       "      <td>P00128942</td>\n",
       "      <td>1</td>\n",
       "      <td>5</td>\n",
       "      <td>7</td>\n",
       "      <td>B</td>\n",
       "      <td>2</td>\n",
       "      <td>1</td>\n",
       "      <td>1</td>\n",
       "      <td>11.0</td>\n",
       "      <td>NaN</td>\n",
       "      <td>NaN</td>\n",
       "      <td>1</td>\n",
       "      <td>0</td>\n",
       "    </tr>\n",
       "    <tr>\n",
       "      <th>1</th>\n",
       "      <td>1000009</td>\n",
       "      <td>P00113442</td>\n",
       "      <td>1</td>\n",
       "      <td>3</td>\n",
       "      <td>17</td>\n",
       "      <td>C</td>\n",
       "      <td>0</td>\n",
       "      <td>0</td>\n",
       "      <td>3</td>\n",
       "      <td>5.0</td>\n",
       "      <td>NaN</td>\n",
       "      <td>NaN</td>\n",
       "      <td>0</td>\n",
       "      <td>1</td>\n",
       "    </tr>\n",
       "    <tr>\n",
       "      <th>2</th>\n",
       "      <td>1000010</td>\n",
       "      <td>P00288442</td>\n",
       "      <td>0</td>\n",
       "      <td>4</td>\n",
       "      <td>1</td>\n",
       "      <td>B</td>\n",
       "      <td>4+</td>\n",
       "      <td>1</td>\n",
       "      <td>5</td>\n",
       "      <td>14.0</td>\n",
       "      <td>NaN</td>\n",
       "      <td>NaN</td>\n",
       "      <td>1</td>\n",
       "      <td>0</td>\n",
       "    </tr>\n",
       "    <tr>\n",
       "      <th>3</th>\n",
       "      <td>1000010</td>\n",
       "      <td>P00145342</td>\n",
       "      <td>0</td>\n",
       "      <td>4</td>\n",
       "      <td>1</td>\n",
       "      <td>B</td>\n",
       "      <td>4+</td>\n",
       "      <td>1</td>\n",
       "      <td>4</td>\n",
       "      <td>9.0</td>\n",
       "      <td>NaN</td>\n",
       "      <td>NaN</td>\n",
       "      <td>1</td>\n",
       "      <td>0</td>\n",
       "    </tr>\n",
       "    <tr>\n",
       "      <th>4</th>\n",
       "      <td>1000011</td>\n",
       "      <td>P00053842</td>\n",
       "      <td>0</td>\n",
       "      <td>3</td>\n",
       "      <td>1</td>\n",
       "      <td>C</td>\n",
       "      <td>1</td>\n",
       "      <td>0</td>\n",
       "      <td>4</td>\n",
       "      <td>5.0</td>\n",
       "      <td>12.0</td>\n",
       "      <td>NaN</td>\n",
       "      <td>0</td>\n",
       "      <td>1</td>\n",
       "    </tr>\n",
       "  </tbody>\n",
       "</table>\n",
       "</div>"
      ],
      "text/plain": [
       "   User_ID Product_ID  Gender  Age  Occupation City_Category  \\\n",
       "0  1000004  P00128942       1    5           7             B   \n",
       "1  1000009  P00113442       1    3          17             C   \n",
       "2  1000010  P00288442       0    4           1             B   \n",
       "3  1000010  P00145342       0    4           1             B   \n",
       "4  1000011  P00053842       0    3           1             C   \n",
       "\n",
       "  Stay_In_Current_City_Years  Marital_Status  Product_Category_1  \\\n",
       "0                          2               1                   1   \n",
       "1                          0               0                   3   \n",
       "2                         4+               1                   5   \n",
       "3                         4+               1                   4   \n",
       "4                          1               0                   4   \n",
       "\n",
       "   Product_Category_2  Product_Category_3  Purchase  B  C  \n",
       "0                11.0                 NaN       NaN  1  0  \n",
       "1                 5.0                 NaN       NaN  0  1  \n",
       "2                14.0                 NaN       NaN  1  0  \n",
       "3                 9.0                 NaN       NaN  1  0  \n",
       "4                 5.0                12.0       NaN  0  1  "
      ]
     },
     "execution_count": 17,
     "metadata": {},
     "output_type": "execute_result"
    }
   ],
   "source": [
    "final_Df=pd.concat([final_Df,City_Df],axis=1)\n",
    "final_Df.head()"
   ]
  },
  {
   "cell_type": "code",
   "execution_count": 18,
   "id": "9a68664a",
   "metadata": {
    "execution": {
     "iopub.execute_input": "2022-09-23T09:17:00.357410Z",
     "iopub.status.busy": "2022-09-23T09:17:00.356894Z",
     "iopub.status.idle": "2022-09-23T09:17:00.574858Z",
     "shell.execute_reply": "2022-09-23T09:17:00.573661Z"
    },
    "papermill": {
     "duration": 0.240954,
     "end_time": "2022-09-23T09:17:00.577935",
     "exception": false,
     "start_time": "2022-09-23T09:17:00.336981",
     "status": "completed"
    },
    "tags": []
   },
   "outputs": [],
   "source": [
    "final_Df.drop(['City_Category'],axis=1,inplace=True)"
   ]
  },
  {
   "cell_type": "code",
   "execution_count": 19,
   "id": "874e0278",
   "metadata": {
    "execution": {
     "iopub.execute_input": "2022-09-23T09:17:00.615944Z",
     "iopub.status.busy": "2022-09-23T09:17:00.614652Z",
     "iopub.status.idle": "2022-09-23T09:17:00.633529Z",
     "shell.execute_reply": "2022-09-23T09:17:00.632350Z"
    },
    "papermill": {
     "duration": 0.040419,
     "end_time": "2022-09-23T09:17:00.636295",
     "exception": false,
     "start_time": "2022-09-23T09:17:00.595876",
     "status": "completed"
    },
    "tags": []
   },
   "outputs": [
    {
     "data": {
      "text/html": [
       "<div>\n",
       "<style scoped>\n",
       "    .dataframe tbody tr th:only-of-type {\n",
       "        vertical-align: middle;\n",
       "    }\n",
       "\n",
       "    .dataframe tbody tr th {\n",
       "        vertical-align: top;\n",
       "    }\n",
       "\n",
       "    .dataframe thead th {\n",
       "        text-align: right;\n",
       "    }\n",
       "</style>\n",
       "<table border=\"1\" class=\"dataframe\">\n",
       "  <thead>\n",
       "    <tr style=\"text-align: right;\">\n",
       "      <th></th>\n",
       "      <th>User_ID</th>\n",
       "      <th>Product_ID</th>\n",
       "      <th>Gender</th>\n",
       "      <th>Age</th>\n",
       "      <th>Occupation</th>\n",
       "      <th>Stay_In_Current_City_Years</th>\n",
       "      <th>Marital_Status</th>\n",
       "      <th>Product_Category_1</th>\n",
       "      <th>Product_Category_2</th>\n",
       "      <th>Product_Category_3</th>\n",
       "      <th>Purchase</th>\n",
       "      <th>B</th>\n",
       "      <th>C</th>\n",
       "    </tr>\n",
       "  </thead>\n",
       "  <tbody>\n",
       "    <tr>\n",
       "      <th>0</th>\n",
       "      <td>1000004</td>\n",
       "      <td>P00128942</td>\n",
       "      <td>1</td>\n",
       "      <td>5</td>\n",
       "      <td>7</td>\n",
       "      <td>2</td>\n",
       "      <td>1</td>\n",
       "      <td>1</td>\n",
       "      <td>11.0</td>\n",
       "      <td>NaN</td>\n",
       "      <td>NaN</td>\n",
       "      <td>1</td>\n",
       "      <td>0</td>\n",
       "    </tr>\n",
       "    <tr>\n",
       "      <th>1</th>\n",
       "      <td>1000009</td>\n",
       "      <td>P00113442</td>\n",
       "      <td>1</td>\n",
       "      <td>3</td>\n",
       "      <td>17</td>\n",
       "      <td>0</td>\n",
       "      <td>0</td>\n",
       "      <td>3</td>\n",
       "      <td>5.0</td>\n",
       "      <td>NaN</td>\n",
       "      <td>NaN</td>\n",
       "      <td>0</td>\n",
       "      <td>1</td>\n",
       "    </tr>\n",
       "    <tr>\n",
       "      <th>2</th>\n",
       "      <td>1000010</td>\n",
       "      <td>P00288442</td>\n",
       "      <td>0</td>\n",
       "      <td>4</td>\n",
       "      <td>1</td>\n",
       "      <td>4+</td>\n",
       "      <td>1</td>\n",
       "      <td>5</td>\n",
       "      <td>14.0</td>\n",
       "      <td>NaN</td>\n",
       "      <td>NaN</td>\n",
       "      <td>1</td>\n",
       "      <td>0</td>\n",
       "    </tr>\n",
       "    <tr>\n",
       "      <th>3</th>\n",
       "      <td>1000010</td>\n",
       "      <td>P00145342</td>\n",
       "      <td>0</td>\n",
       "      <td>4</td>\n",
       "      <td>1</td>\n",
       "      <td>4+</td>\n",
       "      <td>1</td>\n",
       "      <td>4</td>\n",
       "      <td>9.0</td>\n",
       "      <td>NaN</td>\n",
       "      <td>NaN</td>\n",
       "      <td>1</td>\n",
       "      <td>0</td>\n",
       "    </tr>\n",
       "    <tr>\n",
       "      <th>4</th>\n",
       "      <td>1000011</td>\n",
       "      <td>P00053842</td>\n",
       "      <td>0</td>\n",
       "      <td>3</td>\n",
       "      <td>1</td>\n",
       "      <td>1</td>\n",
       "      <td>0</td>\n",
       "      <td>4</td>\n",
       "      <td>5.0</td>\n",
       "      <td>12.0</td>\n",
       "      <td>NaN</td>\n",
       "      <td>0</td>\n",
       "      <td>1</td>\n",
       "    </tr>\n",
       "  </tbody>\n",
       "</table>\n",
       "</div>"
      ],
      "text/plain": [
       "   User_ID Product_ID  Gender  Age  Occupation Stay_In_Current_City_Years  \\\n",
       "0  1000004  P00128942       1    5           7                          2   \n",
       "1  1000009  P00113442       1    3          17                          0   \n",
       "2  1000010  P00288442       0    4           1                         4+   \n",
       "3  1000010  P00145342       0    4           1                         4+   \n",
       "4  1000011  P00053842       0    3           1                          1   \n",
       "\n",
       "   Marital_Status  Product_Category_1  Product_Category_2  Product_Category_3  \\\n",
       "0               1                   1                11.0                 NaN   \n",
       "1               0                   3                 5.0                 NaN   \n",
       "2               1                   5                14.0                 NaN   \n",
       "3               1                   4                 9.0                 NaN   \n",
       "4               0                   4                 5.0                12.0   \n",
       "\n",
       "   Purchase  B  C  \n",
       "0       NaN  1  0  \n",
       "1       NaN  0  1  \n",
       "2       NaN  1  0  \n",
       "3       NaN  1  0  \n",
       "4       NaN  0  1  "
      ]
     },
     "execution_count": 19,
     "metadata": {},
     "output_type": "execute_result"
    }
   ],
   "source": [
    "final_Df.head(5)"
   ]
  },
  {
   "cell_type": "markdown",
   "id": "f2ce3095",
   "metadata": {
    "papermill": {
     "duration": 0.015991,
     "end_time": "2022-09-23T09:17:00.668493",
     "exception": false,
     "start_time": "2022-09-23T09:17:00.652502",
     "status": "completed"
    },
    "tags": []
   },
   "source": [
    "### Missing value"
   ]
  },
  {
   "cell_type": "code",
   "execution_count": 20,
   "id": "149a461b",
   "metadata": {
    "execution": {
     "iopub.execute_input": "2022-09-23T09:17:00.704791Z",
     "iopub.status.busy": "2022-09-23T09:17:00.703471Z",
     "iopub.status.idle": "2022-09-23T09:17:00.798642Z",
     "shell.execute_reply": "2022-09-23T09:17:00.797425Z"
    },
    "papermill": {
     "duration": 0.116217,
     "end_time": "2022-09-23T09:17:00.801638",
     "exception": false,
     "start_time": "2022-09-23T09:17:00.685421",
     "status": "completed"
    },
    "tags": []
   },
   "outputs": [
    {
     "data": {
      "text/plain": [
       "User_ID                            0\n",
       "Product_ID                         0\n",
       "Gender                             0\n",
       "Age                                0\n",
       "Occupation                         0\n",
       "Stay_In_Current_City_Years         0\n",
       "Marital_Status                     0\n",
       "Product_Category_1                 0\n",
       "Product_Category_2            245982\n",
       "Product_Category_3            545809\n",
       "Purchase                      233599\n",
       "B                                  0\n",
       "C                                  0\n",
       "dtype: int64"
      ]
     },
     "execution_count": 20,
     "metadata": {},
     "output_type": "execute_result"
    }
   ],
   "source": [
    "final_Df.isnull().sum()"
   ]
  },
  {
   "cell_type": "markdown",
   "id": "8190042e",
   "metadata": {
    "papermill": {
     "duration": 0.017042,
     "end_time": "2022-09-23T09:17:00.836368",
     "exception": false,
     "start_time": "2022-09-23T09:17:00.819326",
     "status": "completed"
    },
    "tags": []
   },
   "source": [
    "* purchase have null because it is test data"
   ]
  },
  {
   "cell_type": "code",
   "execution_count": 21,
   "id": "80dc3e4c",
   "metadata": {
    "execution": {
     "iopub.execute_input": "2022-09-23T09:17:00.872616Z",
     "iopub.status.busy": "2022-09-23T09:17:00.870788Z",
     "iopub.status.idle": "2022-09-23T09:17:00.967622Z",
     "shell.execute_reply": "2022-09-23T09:17:00.966051Z"
    },
    "papermill": {
     "duration": 0.118174,
     "end_time": "2022-09-23T09:17:00.970998",
     "exception": false,
     "start_time": "2022-09-23T09:17:00.852824",
     "status": "completed"
    },
    "tags": []
   },
   "outputs": [
    {
     "data": {
      "text/plain": [
       "['Product_Category_2', 'Product_Category_3', 'Purchase']"
      ]
     },
     "execution_count": 21,
     "metadata": {},
     "output_type": "execute_result"
    }
   ],
   "source": [
    "#another way to find null values, so you got only specific columns\n",
    "[features for features in final_Df.columns if final_Df[features].isnull().sum()>0]"
   ]
  },
  {
   "cell_type": "code",
   "execution_count": 22,
   "id": "a159179d",
   "metadata": {
    "execution": {
     "iopub.execute_input": "2022-09-23T09:17:01.011357Z",
     "iopub.status.busy": "2022-09-23T09:17:01.010868Z",
     "iopub.status.idle": "2022-09-23T09:17:01.035837Z",
     "shell.execute_reply": "2022-09-23T09:17:01.034864Z"
    },
    "papermill": {
     "duration": 0.047342,
     "end_time": "2022-09-23T09:17:01.038136",
     "exception": false,
     "start_time": "2022-09-23T09:17:00.990794",
     "status": "completed"
    },
    "tags": []
   },
   "outputs": [
    {
     "data": {
      "text/plain": [
       "8.0     91317\n",
       "14.0    78834\n",
       "2.0     70498\n",
       "16.0    61687\n",
       "15.0    54114\n",
       "5.0     37165\n",
       "4.0     36705\n",
       "6.0     23575\n",
       "11.0    20230\n",
       "17.0    19104\n",
       "13.0    15054\n",
       "9.0      8177\n",
       "12.0     7801\n",
       "10.0     4420\n",
       "3.0      4123\n",
       "18.0     4027\n",
       "7.0       854\n",
       "Name: Product_Category_2, dtype: int64"
      ]
     },
     "execution_count": 22,
     "metadata": {},
     "output_type": "execute_result"
    }
   ],
   "source": [
    "final_Df['Product_Category_2'].value_counts()"
   ]
  },
  {
   "cell_type": "code",
   "execution_count": 23,
   "id": "f40005b5",
   "metadata": {
    "execution": {
     "iopub.execute_input": "2022-09-23T09:17:01.074086Z",
     "iopub.status.busy": "2022-09-23T09:17:01.073387Z",
     "iopub.status.idle": "2022-09-23T09:17:01.104578Z",
     "shell.execute_reply": "2022-09-23T09:17:01.103178Z"
    },
    "papermill": {
     "duration": 0.052948,
     "end_time": "2022-09-23T09:17:01.107460",
     "exception": false,
     "start_time": "2022-09-23T09:17:01.054512",
     "status": "completed"
    },
    "tags": []
   },
   "outputs": [],
   "source": [
    "final_Df['Product_Category_2']=final_Df['Product_Category_2'].fillna(final_Df['Product_Category_2'].mode()[0])"
   ]
  },
  {
   "cell_type": "code",
   "execution_count": 24,
   "id": "72cab624",
   "metadata": {
    "execution": {
     "iopub.execute_input": "2022-09-23T09:17:01.143011Z",
     "iopub.status.busy": "2022-09-23T09:17:01.142626Z",
     "iopub.status.idle": "2022-09-23T09:17:01.153256Z",
     "shell.execute_reply": "2022-09-23T09:17:01.151800Z"
    },
    "papermill": {
     "duration": 0.03186,
     "end_time": "2022-09-23T09:17:01.155853",
     "exception": false,
     "start_time": "2022-09-23T09:17:01.123993",
     "status": "completed"
    },
    "tags": []
   },
   "outputs": [
    {
     "data": {
      "text/plain": [
       "0"
      ]
     },
     "execution_count": 24,
     "metadata": {},
     "output_type": "execute_result"
    }
   ],
   "source": [
    "final_Df['Product_Category_2'].isnull().sum()"
   ]
  },
  {
   "cell_type": "code",
   "execution_count": 25,
   "id": "cb9be633",
   "metadata": {
    "execution": {
     "iopub.execute_input": "2022-09-23T09:17:01.191876Z",
     "iopub.status.busy": "2022-09-23T09:17:01.191489Z",
     "iopub.status.idle": "2022-09-23T09:17:01.210797Z",
     "shell.execute_reply": "2022-09-23T09:17:01.209569Z"
    },
    "papermill": {
     "duration": 0.041233,
     "end_time": "2022-09-23T09:17:01.213634",
     "exception": false,
     "start_time": "2022-09-23T09:17:01.172401",
     "status": "completed"
    },
    "tags": []
   },
   "outputs": [
    {
     "data": {
      "text/plain": [
       "16.0    46469\n",
       "15.0    39968\n",
       "14.0    26283\n",
       "17.0    23818\n",
       "5.0     23799\n",
       "8.0     17861\n",
       "9.0     16532\n",
       "12.0    13115\n",
       "13.0     7849\n",
       "6.0      6888\n",
       "18.0     6621\n",
       "4.0      2691\n",
       "11.0     2585\n",
       "10.0     2501\n",
       "3.0       878\n",
       "Name: Product_Category_3, dtype: int64"
      ]
     },
     "execution_count": 25,
     "metadata": {},
     "output_type": "execute_result"
    }
   ],
   "source": [
    "final_Df['Product_Category_3'].value_counts()"
   ]
  },
  {
   "cell_type": "code",
   "execution_count": 26,
   "id": "534a0bd9",
   "metadata": {
    "execution": {
     "iopub.execute_input": "2022-09-23T09:17:01.249070Z",
     "iopub.status.busy": "2022-09-23T09:17:01.248701Z",
     "iopub.status.idle": "2022-09-23T09:17:01.271030Z",
     "shell.execute_reply": "2022-09-23T09:17:01.269964Z"
    },
    "papermill": {
     "duration": 0.042744,
     "end_time": "2022-09-23T09:17:01.273606",
     "exception": false,
     "start_time": "2022-09-23T09:17:01.230862",
     "status": "completed"
    },
    "tags": []
   },
   "outputs": [],
   "source": [
    "final_Df['Product_Category_3']=final_Df['Product_Category_3'].fillna(final_Df['Product_Category_3'].mode()[0])"
   ]
  },
  {
   "cell_type": "code",
   "execution_count": 27,
   "id": "8489f06d",
   "metadata": {
    "execution": {
     "iopub.execute_input": "2022-09-23T09:17:01.308731Z",
     "iopub.status.busy": "2022-09-23T09:17:01.308296Z",
     "iopub.status.idle": "2022-09-23T09:17:01.318109Z",
     "shell.execute_reply": "2022-09-23T09:17:01.316932Z"
    },
    "papermill": {
     "duration": 0.030843,
     "end_time": "2022-09-23T09:17:01.320854",
     "exception": false,
     "start_time": "2022-09-23T09:17:01.290011",
     "status": "completed"
    },
    "tags": []
   },
   "outputs": [
    {
     "data": {
      "text/plain": [
       "0"
      ]
     },
     "execution_count": 27,
     "metadata": {},
     "output_type": "execute_result"
    }
   ],
   "source": [
    "final_Df['Product_Category_3'].isnull().sum()"
   ]
  },
  {
   "cell_type": "code",
   "execution_count": 28,
   "id": "e20a0f1a",
   "metadata": {
    "execution": {
     "iopub.execute_input": "2022-09-23T09:17:01.358539Z",
     "iopub.status.busy": "2022-09-23T09:17:01.357369Z",
     "iopub.status.idle": "2022-09-23T09:17:01.376599Z",
     "shell.execute_reply": "2022-09-23T09:17:01.375304Z"
    },
    "papermill": {
     "duration": 0.041206,
     "end_time": "2022-09-23T09:17:01.379093",
     "exception": false,
     "start_time": "2022-09-23T09:17:01.337887",
     "status": "completed"
    },
    "tags": []
   },
   "outputs": [
    {
     "data": {
      "text/html": [
       "<div>\n",
       "<style scoped>\n",
       "    .dataframe tbody tr th:only-of-type {\n",
       "        vertical-align: middle;\n",
       "    }\n",
       "\n",
       "    .dataframe tbody tr th {\n",
       "        vertical-align: top;\n",
       "    }\n",
       "\n",
       "    .dataframe thead th {\n",
       "        text-align: right;\n",
       "    }\n",
       "</style>\n",
       "<table border=\"1\" class=\"dataframe\">\n",
       "  <thead>\n",
       "    <tr style=\"text-align: right;\">\n",
       "      <th></th>\n",
       "      <th>User_ID</th>\n",
       "      <th>Product_ID</th>\n",
       "      <th>Gender</th>\n",
       "      <th>Age</th>\n",
       "      <th>Occupation</th>\n",
       "      <th>Stay_In_Current_City_Years</th>\n",
       "      <th>Marital_Status</th>\n",
       "      <th>Product_Category_1</th>\n",
       "      <th>Product_Category_2</th>\n",
       "      <th>Product_Category_3</th>\n",
       "      <th>Purchase</th>\n",
       "      <th>B</th>\n",
       "      <th>C</th>\n",
       "    </tr>\n",
       "  </thead>\n",
       "  <tbody>\n",
       "    <tr>\n",
       "      <th>0</th>\n",
       "      <td>1000004</td>\n",
       "      <td>P00128942</td>\n",
       "      <td>1</td>\n",
       "      <td>5</td>\n",
       "      <td>7</td>\n",
       "      <td>2</td>\n",
       "      <td>1</td>\n",
       "      <td>1</td>\n",
       "      <td>11.0</td>\n",
       "      <td>16.0</td>\n",
       "      <td>NaN</td>\n",
       "      <td>1</td>\n",
       "      <td>0</td>\n",
       "    </tr>\n",
       "    <tr>\n",
       "      <th>1</th>\n",
       "      <td>1000009</td>\n",
       "      <td>P00113442</td>\n",
       "      <td>1</td>\n",
       "      <td>3</td>\n",
       "      <td>17</td>\n",
       "      <td>0</td>\n",
       "      <td>0</td>\n",
       "      <td>3</td>\n",
       "      <td>5.0</td>\n",
       "      <td>16.0</td>\n",
       "      <td>NaN</td>\n",
       "      <td>0</td>\n",
       "      <td>1</td>\n",
       "    </tr>\n",
       "    <tr>\n",
       "      <th>2</th>\n",
       "      <td>1000010</td>\n",
       "      <td>P00288442</td>\n",
       "      <td>0</td>\n",
       "      <td>4</td>\n",
       "      <td>1</td>\n",
       "      <td>4+</td>\n",
       "      <td>1</td>\n",
       "      <td>5</td>\n",
       "      <td>14.0</td>\n",
       "      <td>16.0</td>\n",
       "      <td>NaN</td>\n",
       "      <td>1</td>\n",
       "      <td>0</td>\n",
       "    </tr>\n",
       "    <tr>\n",
       "      <th>3</th>\n",
       "      <td>1000010</td>\n",
       "      <td>P00145342</td>\n",
       "      <td>0</td>\n",
       "      <td>4</td>\n",
       "      <td>1</td>\n",
       "      <td>4+</td>\n",
       "      <td>1</td>\n",
       "      <td>4</td>\n",
       "      <td>9.0</td>\n",
       "      <td>16.0</td>\n",
       "      <td>NaN</td>\n",
       "      <td>1</td>\n",
       "      <td>0</td>\n",
       "    </tr>\n",
       "    <tr>\n",
       "      <th>4</th>\n",
       "      <td>1000011</td>\n",
       "      <td>P00053842</td>\n",
       "      <td>0</td>\n",
       "      <td>3</td>\n",
       "      <td>1</td>\n",
       "      <td>1</td>\n",
       "      <td>0</td>\n",
       "      <td>4</td>\n",
       "      <td>5.0</td>\n",
       "      <td>12.0</td>\n",
       "      <td>NaN</td>\n",
       "      <td>0</td>\n",
       "      <td>1</td>\n",
       "    </tr>\n",
       "  </tbody>\n",
       "</table>\n",
       "</div>"
      ],
      "text/plain": [
       "   User_ID Product_ID  Gender  Age  Occupation Stay_In_Current_City_Years  \\\n",
       "0  1000004  P00128942       1    5           7                          2   \n",
       "1  1000009  P00113442       1    3          17                          0   \n",
       "2  1000010  P00288442       0    4           1                         4+   \n",
       "3  1000010  P00145342       0    4           1                         4+   \n",
       "4  1000011  P00053842       0    3           1                          1   \n",
       "\n",
       "   Marital_Status  Product_Category_1  Product_Category_2  Product_Category_3  \\\n",
       "0               1                   1                11.0                16.0   \n",
       "1               0                   3                 5.0                16.0   \n",
       "2               1                   5                14.0                16.0   \n",
       "3               1                   4                 9.0                16.0   \n",
       "4               0                   4                 5.0                12.0   \n",
       "\n",
       "   Purchase  B  C  \n",
       "0       NaN  1  0  \n",
       "1       NaN  0  1  \n",
       "2       NaN  1  0  \n",
       "3       NaN  1  0  \n",
       "4       NaN  0  1  "
      ]
     },
     "execution_count": 28,
     "metadata": {},
     "output_type": "execute_result"
    }
   ],
   "source": [
    "final_Df.head()"
   ]
  },
  {
   "cell_type": "code",
   "execution_count": 29,
   "id": "0b6c03d7",
   "metadata": {
    "execution": {
     "iopub.execute_input": "2022-09-23T09:17:01.416578Z",
     "iopub.status.busy": "2022-09-23T09:17:01.416133Z",
     "iopub.status.idle": "2022-09-23T09:17:01.462671Z",
     "shell.execute_reply": "2022-09-23T09:17:01.461305Z"
    },
    "papermill": {
     "duration": 0.068675,
     "end_time": "2022-09-23T09:17:01.465358",
     "exception": false,
     "start_time": "2022-09-23T09:17:01.396683",
     "status": "completed"
    },
    "tags": []
   },
   "outputs": [
    {
     "data": {
      "text/plain": [
       "1     276425\n",
       "2     145427\n",
       "3     135428\n",
       "4+    120671\n",
       "0     105716\n",
       "Name: Stay_In_Current_City_Years, dtype: int64"
      ]
     },
     "execution_count": 29,
     "metadata": {},
     "output_type": "execute_result"
    }
   ],
   "source": [
    "final_Df['Stay_In_Current_City_Years'].value_counts()"
   ]
  },
  {
   "cell_type": "code",
   "execution_count": 30,
   "id": "66ff8dff",
   "metadata": {
    "execution": {
     "iopub.execute_input": "2022-09-23T09:17:01.502663Z",
     "iopub.status.busy": "2022-09-23T09:17:01.501907Z",
     "iopub.status.idle": "2022-09-23T09:17:01.852692Z",
     "shell.execute_reply": "2022-09-23T09:17:01.851098Z"
    },
    "papermill": {
     "duration": 0.37343,
     "end_time": "2022-09-23T09:17:01.856030",
     "exception": false,
     "start_time": "2022-09-23T09:17:01.482600",
     "status": "completed"
    },
    "tags": []
   },
   "outputs": [
    {
     "name": "stderr",
     "output_type": "stream",
     "text": [
      "/opt/conda/lib/python3.7/site-packages/ipykernel_launcher.py:1: FutureWarning: The default value of regex will change from True to False in a future version. In addition, single character regular expressions will *not* be treated as literal strings when regex=True.\n",
      "  \"\"\"Entry point for launching an IPython kernel.\n"
     ]
    }
   ],
   "source": [
    "final_Df['Stay_In_Current_City_Years']=final_Df['Stay_In_Current_City_Years'].str.replace('+','')"
   ]
  },
  {
   "cell_type": "code",
   "execution_count": 31,
   "id": "07b15c5d",
   "metadata": {
    "execution": {
     "iopub.execute_input": "2022-09-23T09:17:01.893987Z",
     "iopub.status.busy": "2022-09-23T09:17:01.893540Z",
     "iopub.status.idle": "2022-09-23T09:17:01.913098Z",
     "shell.execute_reply": "2022-09-23T09:17:01.911807Z"
    },
    "papermill": {
     "duration": 0.041542,
     "end_time": "2022-09-23T09:17:01.915644",
     "exception": false,
     "start_time": "2022-09-23T09:17:01.874102",
     "status": "completed"
    },
    "tags": []
   },
   "outputs": [
    {
     "data": {
      "text/html": [
       "<div>\n",
       "<style scoped>\n",
       "    .dataframe tbody tr th:only-of-type {\n",
       "        vertical-align: middle;\n",
       "    }\n",
       "\n",
       "    .dataframe tbody tr th {\n",
       "        vertical-align: top;\n",
       "    }\n",
       "\n",
       "    .dataframe thead th {\n",
       "        text-align: right;\n",
       "    }\n",
       "</style>\n",
       "<table border=\"1\" class=\"dataframe\">\n",
       "  <thead>\n",
       "    <tr style=\"text-align: right;\">\n",
       "      <th></th>\n",
       "      <th>User_ID</th>\n",
       "      <th>Product_ID</th>\n",
       "      <th>Gender</th>\n",
       "      <th>Age</th>\n",
       "      <th>Occupation</th>\n",
       "      <th>Stay_In_Current_City_Years</th>\n",
       "      <th>Marital_Status</th>\n",
       "      <th>Product_Category_1</th>\n",
       "      <th>Product_Category_2</th>\n",
       "      <th>Product_Category_3</th>\n",
       "      <th>Purchase</th>\n",
       "      <th>B</th>\n",
       "      <th>C</th>\n",
       "    </tr>\n",
       "  </thead>\n",
       "  <tbody>\n",
       "    <tr>\n",
       "      <th>0</th>\n",
       "      <td>1000004</td>\n",
       "      <td>P00128942</td>\n",
       "      <td>1</td>\n",
       "      <td>5</td>\n",
       "      <td>7</td>\n",
       "      <td>2</td>\n",
       "      <td>1</td>\n",
       "      <td>1</td>\n",
       "      <td>11.0</td>\n",
       "      <td>16.0</td>\n",
       "      <td>NaN</td>\n",
       "      <td>1</td>\n",
       "      <td>0</td>\n",
       "    </tr>\n",
       "    <tr>\n",
       "      <th>1</th>\n",
       "      <td>1000009</td>\n",
       "      <td>P00113442</td>\n",
       "      <td>1</td>\n",
       "      <td>3</td>\n",
       "      <td>17</td>\n",
       "      <td>0</td>\n",
       "      <td>0</td>\n",
       "      <td>3</td>\n",
       "      <td>5.0</td>\n",
       "      <td>16.0</td>\n",
       "      <td>NaN</td>\n",
       "      <td>0</td>\n",
       "      <td>1</td>\n",
       "    </tr>\n",
       "    <tr>\n",
       "      <th>2</th>\n",
       "      <td>1000010</td>\n",
       "      <td>P00288442</td>\n",
       "      <td>0</td>\n",
       "      <td>4</td>\n",
       "      <td>1</td>\n",
       "      <td>4</td>\n",
       "      <td>1</td>\n",
       "      <td>5</td>\n",
       "      <td>14.0</td>\n",
       "      <td>16.0</td>\n",
       "      <td>NaN</td>\n",
       "      <td>1</td>\n",
       "      <td>0</td>\n",
       "    </tr>\n",
       "    <tr>\n",
       "      <th>3</th>\n",
       "      <td>1000010</td>\n",
       "      <td>P00145342</td>\n",
       "      <td>0</td>\n",
       "      <td>4</td>\n",
       "      <td>1</td>\n",
       "      <td>4</td>\n",
       "      <td>1</td>\n",
       "      <td>4</td>\n",
       "      <td>9.0</td>\n",
       "      <td>16.0</td>\n",
       "      <td>NaN</td>\n",
       "      <td>1</td>\n",
       "      <td>0</td>\n",
       "    </tr>\n",
       "    <tr>\n",
       "      <th>4</th>\n",
       "      <td>1000011</td>\n",
       "      <td>P00053842</td>\n",
       "      <td>0</td>\n",
       "      <td>3</td>\n",
       "      <td>1</td>\n",
       "      <td>1</td>\n",
       "      <td>0</td>\n",
       "      <td>4</td>\n",
       "      <td>5.0</td>\n",
       "      <td>12.0</td>\n",
       "      <td>NaN</td>\n",
       "      <td>0</td>\n",
       "      <td>1</td>\n",
       "    </tr>\n",
       "  </tbody>\n",
       "</table>\n",
       "</div>"
      ],
      "text/plain": [
       "   User_ID Product_ID  Gender  Age  Occupation Stay_In_Current_City_Years  \\\n",
       "0  1000004  P00128942       1    5           7                          2   \n",
       "1  1000009  P00113442       1    3          17                          0   \n",
       "2  1000010  P00288442       0    4           1                          4   \n",
       "3  1000010  P00145342       0    4           1                          4   \n",
       "4  1000011  P00053842       0    3           1                          1   \n",
       "\n",
       "   Marital_Status  Product_Category_1  Product_Category_2  Product_Category_3  \\\n",
       "0               1                   1                11.0                16.0   \n",
       "1               0                   3                 5.0                16.0   \n",
       "2               1                   5                14.0                16.0   \n",
       "3               1                   4                 9.0                16.0   \n",
       "4               0                   4                 5.0                12.0   \n",
       "\n",
       "   Purchase  B  C  \n",
       "0       NaN  1  0  \n",
       "1       NaN  0  1  \n",
       "2       NaN  1  0  \n",
       "3       NaN  1  0  \n",
       "4       NaN  0  1  "
      ]
     },
     "execution_count": 31,
     "metadata": {},
     "output_type": "execute_result"
    }
   ],
   "source": [
    "final_Df.head(5)"
   ]
  },
  {
   "cell_type": "markdown",
   "id": "461105bc",
   "metadata": {
    "papermill": {
     "duration": 0.017699,
     "end_time": "2022-09-23T09:17:01.951337",
     "exception": false,
     "start_time": "2022-09-23T09:17:01.933638",
     "status": "completed"
    },
    "tags": []
   },
   "source": [
    "convert objecttype into int for column Stay_In_Current_City_Years"
   ]
  },
  {
   "cell_type": "code",
   "execution_count": 32,
   "id": "e1733f68",
   "metadata": {
    "execution": {
     "iopub.execute_input": "2022-09-23T09:17:01.990959Z",
     "iopub.status.busy": "2022-09-23T09:17:01.990217Z",
     "iopub.status.idle": "2022-09-23T09:17:02.077874Z",
     "shell.execute_reply": "2022-09-23T09:17:02.076620Z"
    },
    "papermill": {
     "duration": 0.111473,
     "end_time": "2022-09-23T09:17:02.081291",
     "exception": false,
     "start_time": "2022-09-23T09:17:01.969818",
     "status": "completed"
    },
    "tags": []
   },
   "outputs": [],
   "source": [
    "final_Df['Stay_In_Current_City_Years']=final_Df['Stay_In_Current_City_Years'].astype(int)"
   ]
  },
  {
   "cell_type": "code",
   "execution_count": 33,
   "id": "af63c75e",
   "metadata": {
    "execution": {
     "iopub.execute_input": "2022-09-23T09:17:02.118554Z",
     "iopub.status.busy": "2022-09-23T09:17:02.117782Z",
     "iopub.status.idle": "2022-09-23T09:17:02.183224Z",
     "shell.execute_reply": "2022-09-23T09:17:02.181648Z"
    },
    "papermill": {
     "duration": 0.086891,
     "end_time": "2022-09-23T09:17:02.185775",
     "exception": false,
     "start_time": "2022-09-23T09:17:02.098884",
     "status": "completed"
    },
    "tags": []
   },
   "outputs": [
    {
     "name": "stdout",
     "output_type": "stream",
     "text": [
      "<class 'pandas.core.frame.DataFrame'>\n",
      "Int64Index: 783667 entries, 0 to 550067\n",
      "Data columns (total 13 columns):\n",
      " #   Column                      Non-Null Count   Dtype  \n",
      "---  ------                      --------------   -----  \n",
      " 0   User_ID                     783667 non-null  int64  \n",
      " 1   Product_ID                  783667 non-null  object \n",
      " 2   Gender                      783667 non-null  int64  \n",
      " 3   Age                         783667 non-null  int64  \n",
      " 4   Occupation                  783667 non-null  int64  \n",
      " 5   Stay_In_Current_City_Years  783667 non-null  int64  \n",
      " 6   Marital_Status              783667 non-null  int64  \n",
      " 7   Product_Category_1          783667 non-null  int64  \n",
      " 8   Product_Category_2          783667 non-null  float64\n",
      " 9   Product_Category_3          783667 non-null  float64\n",
      " 10  Purchase                    550068 non-null  float64\n",
      " 11  B                           783667 non-null  uint8  \n",
      " 12  C                           783667 non-null  uint8  \n",
      "dtypes: float64(3), int64(7), object(1), uint8(2)\n",
      "memory usage: 73.2+ MB\n"
     ]
    }
   ],
   "source": [
    "final_Df.info()"
   ]
  },
  {
   "cell_type": "code",
   "execution_count": 34,
   "id": "58960105",
   "metadata": {
    "execution": {
     "iopub.execute_input": "2022-09-23T09:17:02.223398Z",
     "iopub.status.busy": "2022-09-23T09:17:02.222750Z",
     "iopub.status.idle": "2022-09-23T09:17:02.236158Z",
     "shell.execute_reply": "2022-09-23T09:17:02.235302Z"
    },
    "papermill": {
     "duration": 0.035824,
     "end_time": "2022-09-23T09:17:02.238718",
     "exception": false,
     "start_time": "2022-09-23T09:17:02.202894",
     "status": "completed"
    },
    "tags": []
   },
   "outputs": [],
   "source": [
    "final_Df['B']=final_Df['C'].astype(int)\n",
    "final_Df['C']=final_Df['C'].astype(int)"
   ]
  },
  {
   "cell_type": "code",
   "execution_count": 35,
   "id": "9c19ffda",
   "metadata": {
    "execution": {
     "iopub.execute_input": "2022-09-23T09:17:02.275333Z",
     "iopub.status.busy": "2022-09-23T09:17:02.274695Z",
     "iopub.status.idle": "2022-09-23T09:17:02.338417Z",
     "shell.execute_reply": "2022-09-23T09:17:02.337255Z"
    },
    "papermill": {
     "duration": 0.085118,
     "end_time": "2022-09-23T09:17:02.341051",
     "exception": false,
     "start_time": "2022-09-23T09:17:02.255933",
     "status": "completed"
    },
    "tags": []
   },
   "outputs": [
    {
     "name": "stdout",
     "output_type": "stream",
     "text": [
      "<class 'pandas.core.frame.DataFrame'>\n",
      "Int64Index: 783667 entries, 0 to 550067\n",
      "Data columns (total 13 columns):\n",
      " #   Column                      Non-Null Count   Dtype  \n",
      "---  ------                      --------------   -----  \n",
      " 0   User_ID                     783667 non-null  int64  \n",
      " 1   Product_ID                  783667 non-null  object \n",
      " 2   Gender                      783667 non-null  int64  \n",
      " 3   Age                         783667 non-null  int64  \n",
      " 4   Occupation                  783667 non-null  int64  \n",
      " 5   Stay_In_Current_City_Years  783667 non-null  int64  \n",
      " 6   Marital_Status              783667 non-null  int64  \n",
      " 7   Product_Category_1          783667 non-null  int64  \n",
      " 8   Product_Category_2          783667 non-null  float64\n",
      " 9   Product_Category_3          783667 non-null  float64\n",
      " 10  Purchase                    550068 non-null  float64\n",
      " 11  B                           783667 non-null  int64  \n",
      " 12  C                           783667 non-null  int64  \n",
      "dtypes: float64(3), int64(9), object(1)\n",
      "memory usage: 83.7+ MB\n"
     ]
    }
   ],
   "source": [
    "final_Df.info()"
   ]
  },
  {
   "cell_type": "markdown",
   "id": "641c4b72",
   "metadata": {
    "papermill": {
     "duration": 0.017079,
     "end_time": "2022-09-23T09:17:02.375835",
     "exception": false,
     "start_time": "2022-09-23T09:17:02.358756",
     "status": "completed"
    },
    "tags": []
   },
   "source": [
    "### Visualisation"
   ]
  },
  {
   "cell_type": "code",
   "execution_count": 36,
   "id": "2da2c019",
   "metadata": {
    "execution": {
     "iopub.execute_input": "2022-09-23T09:17:02.412857Z",
     "iopub.status.busy": "2022-09-23T09:17:02.412250Z",
     "iopub.status.idle": "2022-09-23T09:17:09.523749Z",
     "shell.execute_reply": "2022-09-23T09:17:09.522520Z"
    },
    "papermill": {
     "duration": 7.133185,
     "end_time": "2022-09-23T09:17:09.526501",
     "exception": false,
     "start_time": "2022-09-23T09:17:02.393316",
     "status": "completed"
    },
    "tags": []
   },
   "outputs": [
    {
     "name": "stderr",
     "output_type": "stream",
     "text": [
      "/opt/conda/lib/python3.7/site-packages/seaborn/_decorators.py:43: FutureWarning: Pass the following variables as keyword args: x, y. From version 0.12, the only valid positional argument will be `data`, and passing other arguments without an explicit keyword will result in an error or misinterpretation.\n",
      "  FutureWarning\n"
     ]
    },
    {
     "data": {
      "text/plain": [
       "<AxesSubplot:xlabel='Age', ylabel='Purchase'>"
      ]
     },
     "execution_count": 36,
     "metadata": {},
     "output_type": "execute_result"
    },
    {
     "data": {
      "image/png": "[encoded data removed]",
      "text/plain": [
       "<Figure size 1800x432 with 1 Axes>"
      ]
     },
     "metadata": {
      "needs_background": "light"
     },
     "output_type": "display_data"
    }
   ],
   "source": [
    "import matplotlib\n",
    "matplotlib.rcParams['figure.figsize']=(25,6)\n",
    "sns.barplot('Age','Purchase',hue='Gender',data=final_Df)"
   ]
  },
  {
   "cell_type": "code",
   "execution_count": 37,
   "id": "6138e35c",
   "metadata": {
    "execution": {
     "iopub.execute_input": "2022-09-23T09:17:09.566602Z",
     "iopub.status.busy": "2022-09-23T09:17:09.565983Z",
     "iopub.status.idle": "2022-09-23T09:17:20.118561Z",
     "shell.execute_reply": "2022-09-23T09:17:20.117372Z"
    },
    "papermill": {
     "duration": 10.575784,
     "end_time": "2022-09-23T09:17:20.121617",
     "exception": false,
     "start_time": "2022-09-23T09:17:09.545833",
     "status": "completed"
    },
    "tags": []
   },
   "outputs": [
    {
     "name": "stderr",
     "output_type": "stream",
     "text": [
      "/opt/conda/lib/python3.7/site-packages/seaborn/_decorators.py:43: FutureWarning: Pass the following variables as keyword args: x, y. From version 0.12, the only valid positional argument will be `data`, and passing other arguments without an explicit keyword will result in an error or misinterpretation.\n",
      "  FutureWarning\n"
     ]
    },
    {
     "data": {
      "text/plain": [
       "<AxesSubplot:xlabel='Age', ylabel='Occupation'>"
      ]
     },
     "execution_count": 37,
     "metadata": {},
     "output_type": "execute_result"
    },
    {
     "data": {
      "image/png": "[encoded data removed]",
      "text/plain": [
       "<Figure size 1800x432 with 1 Axes>"
      ]
     },
     "metadata": {
      "needs_background": "light"
     },
     "output_type": "display_data"
    }
   ],
   "source": [
    "sns.barplot('Age','Occupation',hue='Gender',data=final_Df)"
   ]
  },
  {
   "cell_type": "code",
   "execution_count": 38,
   "id": "0819b231",
   "metadata": {
    "execution": {
     "iopub.execute_input": "2022-09-23T09:17:20.162705Z",
     "iopub.status.busy": "2022-09-23T09:17:20.162333Z",
     "iopub.status.idle": "2022-09-23T09:17:27.809534Z",
     "shell.execute_reply": "2022-09-23T09:17:27.808303Z"
    },
    "papermill": {
     "duration": 7.671012,
     "end_time": "2022-09-23T09:17:27.812369",
     "exception": false,
     "start_time": "2022-09-23T09:17:20.141357",
     "status": "completed"
    },
    "tags": []
   },
   "outputs": [
    {
     "name": "stderr",
     "output_type": "stream",
     "text": [
      "/opt/conda/lib/python3.7/site-packages/seaborn/_decorators.py:43: FutureWarning: Pass the following variables as keyword args: x, y. From version 0.12, the only valid positional argument will be `data`, and passing other arguments without an explicit keyword will result in an error or misinterpretation.\n",
      "  FutureWarning\n"
     ]
    },
    {
     "data": {
      "text/plain": [
       "<AxesSubplot:xlabel='Product_Category_1', ylabel='Purchase'>"
      ]
     },
     "execution_count": 38,
     "metadata": {},
     "output_type": "execute_result"
    },
    {
     "data": {
      "image/png": "[encoded data removed]",
      "text/plain": [
       "<Figure size 1800x432 with 1 Axes>"
      ]
     },
     "metadata": {
      "needs_background": "light"
     },
     "output_type": "display_data"
    }
   ],
   "source": [
    "sns.barplot('Product_Category_1','Purchase',hue='Gender',data=final_Df)"
   ]
  },
  {
   "cell_type": "code",
   "execution_count": 39,
   "id": "2eb5b57e",
   "metadata": {
    "execution": {
     "iopub.execute_input": "2022-09-23T09:17:27.854613Z",
     "iopub.status.busy": "2022-09-23T09:17:27.853382Z",
     "iopub.status.idle": "2022-09-23T09:17:35.777702Z",
     "shell.execute_reply": "2022-09-23T09:17:35.776506Z"
    },
    "papermill": {
     "duration": 7.948342,
     "end_time": "2022-09-23T09:17:35.780500",
     "exception": false,
     "start_time": "2022-09-23T09:17:27.832158",
     "status": "completed"
    },
    "tags": []
   },
   "outputs": [
    {
     "name": "stderr",
     "output_type": "stream",
     "text": [
      "/opt/conda/lib/python3.7/site-packages/seaborn/_decorators.py:43: FutureWarning: Pass the following variables as keyword args: x, y. From version 0.12, the only valid positional argument will be `data`, and passing other arguments without an explicit keyword will result in an error or misinterpretation.\n",
      "  FutureWarning\n"
     ]
    },
    {
     "data": {
      "text/plain": [
       "<AxesSubplot:xlabel='Product_Category_2', ylabel='Purchase'>"
      ]
     },
     "execution_count": 39,
     "metadata": {},
     "output_type": "execute_result"
    },
    {
     "data": {
      "image/png": "[encoded data removed]",
      "text/plain": [
       "<Figure size 1800x432 with 1 Axes>"
      ]
     },
     "metadata": {
      "needs_background": "light"
     },
     "output_type": "display_data"
    }
   ],
   "source": [
    "sns.barplot('Product_Category_2','Purchase',hue='Gender',data=final_Df)"
   ]
  },
  {
   "cell_type": "code",
   "execution_count": 40,
   "id": "8d2851bb",
   "metadata": {
    "execution": {
     "iopub.execute_input": "2022-09-23T09:17:35.821513Z",
     "iopub.status.busy": "2022-09-23T09:17:35.821116Z",
     "iopub.status.idle": "2022-09-23T09:17:44.124835Z",
     "shell.execute_reply": "2022-09-23T09:17:44.123578Z"
    },
    "papermill": {
     "duration": 8.327752,
     "end_time": "2022-09-23T09:17:44.127916",
     "exception": false,
     "start_time": "2022-09-23T09:17:35.800164",
     "status": "completed"
    },
    "tags": []
   },
   "outputs": [
    {
     "name": "stderr",
     "output_type": "stream",
     "text": [
      "/opt/conda/lib/python3.7/site-packages/seaborn/_decorators.py:43: FutureWarning: Pass the following variables as keyword args: x, y. From version 0.12, the only valid positional argument will be `data`, and passing other arguments without an explicit keyword will result in an error or misinterpretation.\n",
      "  FutureWarning\n"
     ]
    },
    {
     "data": {
      "text/plain": [
       "<AxesSubplot:xlabel='Product_Category_3', ylabel='Purchase'>"
      ]
     },
     "execution_count": 40,
     "metadata": {},
     "output_type": "execute_result"
    },
    {
     "data": {
      "image/png": "[encoded data removed]",
      "text/plain": [
       "<Figure size 1800x432 with 1 Axes>"
      ]
     },
     "metadata": {
      "needs_background": "light"
     },
     "output_type": "display_data"
    }
   ],
   "source": [
    "sns.barplot('Product_Category_3','Purchase',hue='Gender',data=final_Df)"
   ]
  },
  {
   "cell_type": "code",
   "execution_count": 41,
   "id": "734d334f",
   "metadata": {
    "execution": {
     "iopub.execute_input": "2022-09-23T09:17:44.172038Z",
     "iopub.status.busy": "2022-09-23T09:17:44.171049Z",
     "iopub.status.idle": "2022-09-23T09:17:44.188520Z",
     "shell.execute_reply": "2022-09-23T09:17:44.187263Z"
    },
    "papermill": {
     "duration": 0.042975,
     "end_time": "2022-09-23T09:17:44.191770",
     "exception": false,
     "start_time": "2022-09-23T09:17:44.148795",
     "status": "completed"
    },
    "tags": []
   },
   "outputs": [
    {
     "data": {
      "text/html": [
       "<div>\n",
       "<style scoped>\n",
       "    .dataframe tbody tr th:only-of-type {\n",
       "        vertical-align: middle;\n",
       "    }\n",
       "\n",
       "    .dataframe tbody tr th {\n",
       "        vertical-align: top;\n",
       "    }\n",
       "\n",
       "    .dataframe thead th {\n",
       "        text-align: right;\n",
       "    }\n",
       "</style>\n",
       "<table border=\"1\" class=\"dataframe\">\n",
       "  <thead>\n",
       "    <tr style=\"text-align: right;\">\n",
       "      <th></th>\n",
       "      <th>User_ID</th>\n",
       "      <th>Product_ID</th>\n",
       "      <th>Gender</th>\n",
       "      <th>Age</th>\n",
       "      <th>Occupation</th>\n",
       "      <th>Stay_In_Current_City_Years</th>\n",
       "      <th>Marital_Status</th>\n",
       "      <th>Product_Category_1</th>\n",
       "      <th>Product_Category_2</th>\n",
       "      <th>Product_Category_3</th>\n",
       "      <th>Purchase</th>\n",
       "      <th>B</th>\n",
       "      <th>C</th>\n",
       "    </tr>\n",
       "  </thead>\n",
       "  <tbody>\n",
       "    <tr>\n",
       "      <th>0</th>\n",
       "      <td>1000004</td>\n",
       "      <td>P00128942</td>\n",
       "      <td>1</td>\n",
       "      <td>5</td>\n",
       "      <td>7</td>\n",
       "      <td>2</td>\n",
       "      <td>1</td>\n",
       "      <td>1</td>\n",
       "      <td>11.0</td>\n",
       "      <td>16.0</td>\n",
       "      <td>NaN</td>\n",
       "      <td>0</td>\n",
       "      <td>0</td>\n",
       "    </tr>\n",
       "    <tr>\n",
       "      <th>1</th>\n",
       "      <td>1000009</td>\n",
       "      <td>P00113442</td>\n",
       "      <td>1</td>\n",
       "      <td>3</td>\n",
       "      <td>17</td>\n",
       "      <td>0</td>\n",
       "      <td>0</td>\n",
       "      <td>3</td>\n",
       "      <td>5.0</td>\n",
       "      <td>16.0</td>\n",
       "      <td>NaN</td>\n",
       "      <td>1</td>\n",
       "      <td>1</td>\n",
       "    </tr>\n",
       "  </tbody>\n",
       "</table>\n",
       "</div>"
      ],
      "text/plain": [
       "   User_ID Product_ID  Gender  Age  Occupation  Stay_In_Current_City_Years  \\\n",
       "0  1000004  P00128942       1    5           7                           2   \n",
       "1  1000009  P00113442       1    3          17                           0   \n",
       "\n",
       "   Marital_Status  Product_Category_1  Product_Category_2  Product_Category_3  \\\n",
       "0               1                   1                11.0                16.0   \n",
       "1               0                   3                 5.0                16.0   \n",
       "\n",
       "   Purchase  B  C  \n",
       "0       NaN  0  0  \n",
       "1       NaN  1  1  "
      ]
     },
     "execution_count": 41,
     "metadata": {},
     "output_type": "execute_result"
    }
   ],
   "source": [
    "final_Df.head(2)"
   ]
  },
  {
   "cell_type": "code",
   "execution_count": null,
   "id": "663acb6c",
   "metadata": {
    "papermill": {
     "duration": 0.019445,
     "end_time": "2022-09-23T09:17:44.232016",
     "exception": false,
     "start_time": "2022-09-23T09:17:44.212571",
     "status": "completed"
    },
    "tags": []
   },
   "outputs": [],
   "source": []
  },
  {
   "cell_type": "markdown",
   "id": "d7b7e325",
   "metadata": {
    "papermill": {
     "duration": 0.019656,
     "end_time": "2022-09-23T09:17:44.271313",
     "exception": false,
     "start_time": "2022-09-23T09:17:44.251657",
     "status": "completed"
    },
    "tags": []
   },
   "source": [
    "### Feature Scaling"
   ]
  },
  {
   "cell_type": "code",
   "execution_count": 42,
   "id": "5f201f97",
   "metadata": {
    "execution": {
     "iopub.execute_input": "2022-09-23T09:17:44.313187Z",
     "iopub.status.busy": "2022-09-23T09:17:44.312488Z",
     "iopub.status.idle": "2022-09-23T09:17:44.427852Z",
     "shell.execute_reply": "2022-09-23T09:17:44.426593Z"
    },
    "papermill": {
     "duration": 0.139607,
     "end_time": "2022-09-23T09:17:44.430594",
     "exception": false,
     "start_time": "2022-09-23T09:17:44.290987",
     "status": "completed"
    },
    "tags": []
   },
   "outputs": [],
   "source": [
    "df_test=final_Df[final_Df['Purchase'].isnull()]\n"
   ]
  },
  {
   "cell_type": "code",
   "execution_count": 43,
   "id": "445a89f8",
   "metadata": {
    "execution": {
     "iopub.execute_input": "2022-09-23T09:17:44.473041Z",
     "iopub.status.busy": "2022-09-23T09:17:44.472575Z",
     "iopub.status.idle": "2022-09-23T09:17:44.535375Z",
     "shell.execute_reply": "2022-09-23T09:17:44.534126Z"
    },
    "papermill": {
     "duration": 0.087545,
     "end_time": "2022-09-23T09:17:44.538264",
     "exception": false,
     "start_time": "2022-09-23T09:17:44.450719",
     "status": "completed"
    },
    "tags": []
   },
   "outputs": [],
   "source": [
    "df_train=final_Df[~final_Df['Purchase'].isnull()]"
   ]
  },
  {
   "cell_type": "code",
   "execution_count": 44,
   "id": "72ed1ec6",
   "metadata": {
    "execution": {
     "iopub.execute_input": "2022-09-23T09:17:44.580908Z",
     "iopub.status.busy": "2022-09-23T09:17:44.580439Z",
     "iopub.status.idle": "2022-09-23T09:17:44.618574Z",
     "shell.execute_reply": "2022-09-23T09:17:44.617316Z"
    },
    "papermill": {
     "duration": 0.062131,
     "end_time": "2022-09-23T09:17:44.621125",
     "exception": false,
     "start_time": "2022-09-23T09:17:44.558994",
     "status": "completed"
    },
    "tags": []
   },
   "outputs": [],
   "source": [
    "df_train=df_train.drop(['Product_ID','User_ID'],axis=1)"
   ]
  },
  {
   "cell_type": "code",
   "execution_count": 45,
   "id": "89f03a21",
   "metadata": {
    "execution": {
     "iopub.execute_input": "2022-09-23T09:17:44.664119Z",
     "iopub.status.busy": "2022-09-23T09:17:44.663581Z",
     "iopub.status.idle": "2022-09-23T09:17:44.693704Z",
     "shell.execute_reply": "2022-09-23T09:17:44.692401Z"
    },
    "papermill": {
     "duration": 0.053964,
     "end_time": "2022-09-23T09:17:44.695955",
     "exception": false,
     "start_time": "2022-09-23T09:17:44.641991",
     "status": "completed"
    },
    "tags": []
   },
   "outputs": [],
   "source": [
    "X=df_train.drop('Purchase',axis=1)\n",
    "y=df_train[\"Purchase\"]"
   ]
  },
  {
   "cell_type": "code",
   "execution_count": 46,
   "id": "2354b338",
   "metadata": {
    "execution": {
     "iopub.execute_input": "2022-09-23T09:17:44.738377Z",
     "iopub.status.busy": "2022-09-23T09:17:44.737890Z",
     "iopub.status.idle": "2022-09-23T09:17:44.753408Z",
     "shell.execute_reply": "2022-09-23T09:17:44.752301Z"
    },
    "papermill": {
     "duration": 0.040173,
     "end_time": "2022-09-23T09:17:44.755833",
     "exception": false,
     "start_time": "2022-09-23T09:17:44.715660",
     "status": "completed"
    },
    "tags": []
   },
   "outputs": [
    {
     "data": {
      "text/html": [
       "<div>\n",
       "<style scoped>\n",
       "    .dataframe tbody tr th:only-of-type {\n",
       "        vertical-align: middle;\n",
       "    }\n",
       "\n",
       "    .dataframe tbody tr th {\n",
       "        vertical-align: top;\n",
       "    }\n",
       "\n",
       "    .dataframe thead th {\n",
       "        text-align: right;\n",
       "    }\n",
       "</style>\n",
       "<table border=\"1\" class=\"dataframe\">\n",
       "  <thead>\n",
       "    <tr style=\"text-align: right;\">\n",
       "      <th></th>\n",
       "      <th>Gender</th>\n",
       "      <th>Age</th>\n",
       "      <th>Occupation</th>\n",
       "      <th>Stay_In_Current_City_Years</th>\n",
       "      <th>Marital_Status</th>\n",
       "      <th>Product_Category_1</th>\n",
       "      <th>Product_Category_2</th>\n",
       "      <th>Product_Category_3</th>\n",
       "      <th>B</th>\n",
       "      <th>C</th>\n",
       "    </tr>\n",
       "  </thead>\n",
       "  <tbody>\n",
       "    <tr>\n",
       "      <th>0</th>\n",
       "      <td>0</td>\n",
       "      <td>1</td>\n",
       "      <td>10</td>\n",
       "      <td>2</td>\n",
       "      <td>0</td>\n",
       "      <td>3</td>\n",
       "      <td>8.0</td>\n",
       "      <td>16.0</td>\n",
       "      <td>0</td>\n",
       "      <td>0</td>\n",
       "    </tr>\n",
       "    <tr>\n",
       "      <th>1</th>\n",
       "      <td>0</td>\n",
       "      <td>1</td>\n",
       "      <td>10</td>\n",
       "      <td>2</td>\n",
       "      <td>0</td>\n",
       "      <td>1</td>\n",
       "      <td>6.0</td>\n",
       "      <td>14.0</td>\n",
       "      <td>0</td>\n",
       "      <td>0</td>\n",
       "    </tr>\n",
       "    <tr>\n",
       "      <th>2</th>\n",
       "      <td>0</td>\n",
       "      <td>1</td>\n",
       "      <td>10</td>\n",
       "      <td>2</td>\n",
       "      <td>0</td>\n",
       "      <td>12</td>\n",
       "      <td>8.0</td>\n",
       "      <td>16.0</td>\n",
       "      <td>0</td>\n",
       "      <td>0</td>\n",
       "    </tr>\n",
       "    <tr>\n",
       "      <th>3</th>\n",
       "      <td>0</td>\n",
       "      <td>1</td>\n",
       "      <td>10</td>\n",
       "      <td>2</td>\n",
       "      <td>0</td>\n",
       "      <td>12</td>\n",
       "      <td>14.0</td>\n",
       "      <td>16.0</td>\n",
       "      <td>0</td>\n",
       "      <td>0</td>\n",
       "    </tr>\n",
       "    <tr>\n",
       "      <th>4</th>\n",
       "      <td>1</td>\n",
       "      <td>7</td>\n",
       "      <td>16</td>\n",
       "      <td>4</td>\n",
       "      <td>0</td>\n",
       "      <td>8</td>\n",
       "      <td>8.0</td>\n",
       "      <td>16.0</td>\n",
       "      <td>1</td>\n",
       "      <td>1</td>\n",
       "    </tr>\n",
       "  </tbody>\n",
       "</table>\n",
       "</div>"
      ],
      "text/plain": [
       "   Gender  Age  Occupation  Stay_In_Current_City_Years  Marital_Status  \\\n",
       "0       0    1          10                           2               0   \n",
       "1       0    1          10                           2               0   \n",
       "2       0    1          10                           2               0   \n",
       "3       0    1          10                           2               0   \n",
       "4       1    7          16                           4               0   \n",
       "\n",
       "   Product_Category_1  Product_Category_2  Product_Category_3  B  C  \n",
       "0                   3                 8.0                16.0  0  0  \n",
       "1                   1                 6.0                14.0  0  0  \n",
       "2                  12                 8.0                16.0  0  0  \n",
       "3                  12                14.0                16.0  0  0  \n",
       "4                   8                 8.0                16.0  1  1  "
      ]
     },
     "execution_count": 46,
     "metadata": {},
     "output_type": "execute_result"
    }
   ],
   "source": [
    "X.head()"
   ]
  },
  {
   "cell_type": "code",
   "execution_count": 47,
   "id": "7616b83a",
   "metadata": {
    "execution": {
     "iopub.execute_input": "2022-09-23T09:17:44.798933Z",
     "iopub.status.busy": "2022-09-23T09:17:44.798486Z",
     "iopub.status.idle": "2022-09-23T09:17:44.806123Z",
     "shell.execute_reply": "2022-09-23T09:17:44.805177Z"
    },
    "papermill": {
     "duration": 0.032783,
     "end_time": "2022-09-23T09:17:44.808851",
     "exception": false,
     "start_time": "2022-09-23T09:17:44.776068",
     "status": "completed"
    },
    "tags": []
   },
   "outputs": [
    {
     "data": {
      "text/plain": [
       "0     8370.0\n",
       "1    15200.0\n",
       "2     1422.0\n",
       "3     1057.0\n",
       "4     7969.0\n",
       "Name: Purchase, dtype: float64"
      ]
     },
     "execution_count": 47,
     "metadata": {},
     "output_type": "execute_result"
    }
   ],
   "source": [
    "y.head()"
   ]
  },
  {
   "cell_type": "code",
   "execution_count": 48,
   "id": "ba5874db",
   "metadata": {
    "execution": {
     "iopub.execute_input": "2022-09-23T09:17:44.851909Z",
     "iopub.status.busy": "2022-09-23T09:17:44.851476Z",
     "iopub.status.idle": "2022-09-23T09:17:44.857591Z",
     "shell.execute_reply": "2022-09-23T09:17:44.856041Z"
    },
    "papermill": {
     "duration": 0.031533,
     "end_time": "2022-09-23T09:17:44.860598",
     "exception": false,
     "start_time": "2022-09-23T09:17:44.829065",
     "status": "completed"
    },
    "tags": []
   },
   "outputs": [
    {
     "name": "stdout",
     "output_type": "stream",
     "text": [
      "(550068, 10)\n",
      "(550068,)\n"
     ]
    }
   ],
   "source": [
    "print(X.shape)\n",
    "print(y.shape)"
   ]
  },
  {
   "cell_type": "code",
   "execution_count": 49,
   "id": "b839b8fc",
   "metadata": {
    "execution": {
     "iopub.execute_input": "2022-09-23T09:17:44.905497Z",
     "iopub.status.busy": "2022-09-23T09:17:44.905066Z",
     "iopub.status.idle": "2022-09-23T09:17:45.096914Z",
     "shell.execute_reply": "2022-09-23T09:17:45.095684Z"
    },
    "papermill": {
     "duration": 0.217788,
     "end_time": "2022-09-23T09:17:45.100011",
     "exception": false,
     "start_time": "2022-09-23T09:17:44.882223",
     "status": "completed"
    },
    "tags": []
   },
   "outputs": [],
   "source": [
    "from sklearn.model_selection import train_test_split\n",
    "train_x, test_x, train_y, test_y = train_test_split(X, y, test_size=0.4, random_state=1)"
   ]
  },
  {
   "cell_type": "code",
   "execution_count": 50,
   "id": "9bd7be71",
   "metadata": {
    "execution": {
     "iopub.execute_input": "2022-09-23T09:17:45.144682Z",
     "iopub.status.busy": "2022-09-23T09:17:45.144268Z",
     "iopub.status.idle": "2022-09-23T09:17:45.225381Z",
     "shell.execute_reply": "2022-09-23T09:17:45.224282Z"
    },
    "papermill": {
     "duration": 0.106734,
     "end_time": "2022-09-23T09:17:45.228322",
     "exception": false,
     "start_time": "2022-09-23T09:17:45.121588",
     "status": "completed"
    },
    "tags": []
   },
   "outputs": [],
   "source": [
    "from sklearn.preprocessing import StandardScaler\n",
    "sc=StandardScaler()\n",
    "train_x=sc.fit_transform(train_x)\n",
    "test_x=sc.transform(test_x)"
   ]
  },
  {
   "cell_type": "code",
   "execution_count": null,
   "id": "46cfc4ea",
   "metadata": {
    "papermill": {
     "duration": 0.020986,
     "end_time": "2022-09-23T09:17:45.270484",
     "exception": false,
     "start_time": "2022-09-23T09:17:45.249498",
     "status": "completed"
    },
    "tags": []
   },
   "outputs": [],
   "source": [
    "\n"
   ]
  },
  {
   "cell_type": "code",
   "execution_count": null,
   "id": "55d018ed",
   "metadata": {
    "papermill": {
     "duration": 0.020794,
     "end_time": "2022-09-23T09:17:45.312430",
     "exception": false,
     "start_time": "2022-09-23T09:17:45.291636",
     "status": "completed"
    },
    "tags": []
   },
   "outputs": [],
   "source": []
  }
 ],
 "metadata": {
  "kernelspec": {
   "display_name": "Python 3",
   "language": "python",
   "name": "python3"
  },
  "language_info": {
   "codemirror_mode": {
    "name": "ipython",
    "version": 3
   },
   "file_extension": ".py",
   "mimetype": "text/x-python",
   "name": "python",
   "nbconvert_exporter": "python",
   "pygments_lexer": "ipython3",
   "version": "3.7.12"
  },
  "papermill": {
   "default_parameters": {},
   "duration": 60.503352,
   "end_time": "2022-09-23T09:17:46.356965",
   "environment_variables": {},
   "exception": null,
   "input_path": "__notebook__.ipynb",
   "output_path": "__notebook__.ipynb",
   "parameters": {},
   "start_time": "2022-09-23T09:16:45.853613",
   "version": "2.3.4"
  }
 },
 "nbformat": 4,
 "nbformat_minor": 5
}

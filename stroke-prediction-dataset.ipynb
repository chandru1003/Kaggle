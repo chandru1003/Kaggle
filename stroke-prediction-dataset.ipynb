{
 "cells": [
  {
   "cell_type": "code",
   "execution_count": 1,
   "id": "841ef7dc",
   "metadata": {
    "_cell_guid": "b1076dfc-b9ad-4769-8c92-a6c4dae69d19",
    "_uuid": "8f2839f25d086af736a60e9eeb907d3b93b6e0e5",
    "execution": {
     "iopub.execute_input": "2022-09-16T07:41:18.715783Z",
     "iopub.status.busy": "2022-09-16T07:41:18.715043Z",
     "iopub.status.idle": "2022-09-16T07:41:18.739801Z",
     "shell.execute_reply": "2022-09-16T07:41:18.738853Z"
    },
    "papermill": {
     "duration": 0.042181,
     "end_time": "2022-09-16T07:41:18.742883",
     "exception": false,
     "start_time": "2022-09-16T07:41:18.700702",
     "status": "completed"
    },
    "tags": []
   },
   "outputs": [
    {
     "name": "stdout",
     "output_type": "stream",
     "text": [
      "/kaggle/input/stroke-prediction-dataset/healthcare-dataset-stroke-data.csv\n"
     ]
    }
   ],
   "source": [
    "# This Python 3 environment comes with many helpful analytics libraries installed\n",
    "# It is defined by the kaggle/python Docker image: https://github.com/kaggle/docker-python\n",
    "# For example, here's several helpful packages to load\n",
    "\n",
    "import numpy as np # linear algebra\n",
    "import pandas as pd # data processing, CSV file I/O (e.g. pd.read_csv)\n",
    "\n",
    "# Input data files are available in the read-only \"../input/\" directory\n",
    "# For example, running this (by clicking run or pressing Shift+Enter) will list all files under the input directory\n",
    "\n",
    "import os\n",
    "for dirname, _, filenames in os.walk('/kaggle/input'):\n",
    "    for filename in filenames:\n",
    "        print(os.path.join(dirname, filename))\n",
    "\n",
    "# You can write up to 20GB to the current directory (/kaggle/working/) that gets preserved as output when you create a version using \"Save & Run All\" \n",
    "# You can also write temporary files to /kaggle/temp/, but they won't be saved outside of the current session"
   ]
  },
  {
   "cell_type": "markdown",
   "id": "a5fe7636",
   "metadata": {
    "papermill": {
     "duration": 0.010267,
     "end_time": "2022-09-16T07:41:18.765352",
     "exception": false,
     "start_time": "2022-09-16T07:41:18.755085",
     "status": "completed"
    },
    "tags": []
   },
   "source": [
    "# Reading Dataset"
   ]
  },
  {
   "cell_type": "code",
   "execution_count": 2,
   "id": "bc5f3cf8",
   "metadata": {
    "execution": {
     "iopub.execute_input": "2022-09-16T07:41:18.790269Z",
     "iopub.status.busy": "2022-09-16T07:41:18.789536Z",
     "iopub.status.idle": "2022-09-16T07:41:20.469235Z",
     "shell.execute_reply": "2022-09-16T07:41:20.468234Z"
    },
    "papermill": {
     "duration": 1.694381,
     "end_time": "2022-09-16T07:41:20.472006",
     "exception": false,
     "start_time": "2022-09-16T07:41:18.777625",
     "status": "completed"
    },
    "tags": []
   },
   "outputs": [],
   "source": [
    "import matplotlib.pyplot as plt\n",
    "\n",
    "import seaborn as sns\n",
    "from sklearn.feature_selection import SelectKBest\n",
    "from sklearn.utils import resample\n",
    "from sklearn.feature_selection import chi2\n",
    "from sklearn.preprocessing import MinMaxScaler\n",
    "from sklearn.model_selection import train_test_split\n",
    "from sklearn import metrics\n",
    "from sklearn.linear_model import LogisticRegression\n",
    "from sklearn.ensemble import RandomForestClassifier\n",
    "from sklearn.neighbors import KNeighborsClassifier\n",
    "from sklearn.tree import DecisionTreeClassifier\n",
    "from sklearn.ensemble import GradientBoostingClassifier\n",
    "from sklearn.metrics import confusion_matrix, accuracy_score, roc_curve, classification_report\n",
    "import warnings\n",
    "warnings.filterwarnings('ignore')\n",
    "%matplotlib inline\n",
    "from sklearn import metrics\n"
   ]
  },
  {
   "cell_type": "code",
   "execution_count": 3,
   "id": "d4b145b0",
   "metadata": {
    "execution": {
     "iopub.execute_input": "2022-09-16T07:41:20.495568Z",
     "iopub.status.busy": "2022-09-16T07:41:20.495109Z",
     "iopub.status.idle": "2022-09-16T07:41:20.535451Z",
     "shell.execute_reply": "2022-09-16T07:41:20.534236Z"
    },
    "papermill": {
     "duration": 0.055479,
     "end_time": "2022-09-16T07:41:20.538445",
     "exception": false,
     "start_time": "2022-09-16T07:41:20.482966",
     "status": "completed"
    },
    "tags": []
   },
   "outputs": [],
   "source": [
    "data=pd.read_csv(\"/kaggle/input/stroke-prediction-dataset/healthcare-dataset-stroke-data.csv\")"
   ]
  },
  {
   "cell_type": "code",
   "execution_count": 4,
   "id": "8f4ab8f2",
   "metadata": {
    "execution": {
     "iopub.execute_input": "2022-09-16T07:41:20.562713Z",
     "iopub.status.busy": "2022-09-16T07:41:20.562176Z",
     "iopub.status.idle": "2022-09-16T07:41:20.588800Z",
     "shell.execute_reply": "2022-09-16T07:41:20.587621Z"
    },
    "papermill": {
     "duration": 0.041877,
     "end_time": "2022-09-16T07:41:20.591252",
     "exception": false,
     "start_time": "2022-09-16T07:41:20.549375",
     "status": "completed"
    },
    "tags": []
   },
   "outputs": [
    {
     "data": {
      "text/html": [
       "<div>\n",
       "<style scoped>\n",
       "    .dataframe tbody tr th:only-of-type {\n",
       "        vertical-align: middle;\n",
       "    }\n",
       "\n",
       "    .dataframe tbody tr th {\n",
       "        vertical-align: top;\n",
       "    }\n",
       "\n",
       "    .dataframe thead th {\n",
       "        text-align: right;\n",
       "    }\n",
       "</style>\n",
       "<table border=\"1\" class=\"dataframe\">\n",
       "  <thead>\n",
       "    <tr style=\"text-align: right;\">\n",
       "      <th></th>\n",
       "      <th>id</th>\n",
       "      <th>gender</th>\n",
       "      <th>age</th>\n",
       "      <th>hypertension</th>\n",
       "      <th>heart_disease</th>\n",
       "      <th>ever_married</th>\n",
       "      <th>work_type</th>\n",
       "      <th>Residence_type</th>\n",
       "      <th>avg_glucose_level</th>\n",
       "      <th>bmi</th>\n",
       "      <th>smoking_status</th>\n",
       "      <th>stroke</th>\n",
       "    </tr>\n",
       "  </thead>\n",
       "  <tbody>\n",
       "    <tr>\n",
       "      <th>0</th>\n",
       "      <td>9046</td>\n",
       "      <td>Male</td>\n",
       "      <td>67.0</td>\n",
       "      <td>0</td>\n",
       "      <td>1</td>\n",
       "      <td>Yes</td>\n",
       "      <td>Private</td>\n",
       "      <td>Urban</td>\n",
       "      <td>228.69</td>\n",
       "      <td>36.6</td>\n",
       "      <td>formerly smoked</td>\n",
       "      <td>1</td>\n",
       "    </tr>\n",
       "    <tr>\n",
       "      <th>1</th>\n",
       "      <td>51676</td>\n",
       "      <td>Female</td>\n",
       "      <td>61.0</td>\n",
       "      <td>0</td>\n",
       "      <td>0</td>\n",
       "      <td>Yes</td>\n",
       "      <td>Self-employed</td>\n",
       "      <td>Rural</td>\n",
       "      <td>202.21</td>\n",
       "      <td>NaN</td>\n",
       "      <td>never smoked</td>\n",
       "      <td>1</td>\n",
       "    </tr>\n",
       "    <tr>\n",
       "      <th>2</th>\n",
       "      <td>31112</td>\n",
       "      <td>Male</td>\n",
       "      <td>80.0</td>\n",
       "      <td>0</td>\n",
       "      <td>1</td>\n",
       "      <td>Yes</td>\n",
       "      <td>Private</td>\n",
       "      <td>Rural</td>\n",
       "      <td>105.92</td>\n",
       "      <td>32.5</td>\n",
       "      <td>never smoked</td>\n",
       "      <td>1</td>\n",
       "    </tr>\n",
       "    <tr>\n",
       "      <th>3</th>\n",
       "      <td>60182</td>\n",
       "      <td>Female</td>\n",
       "      <td>49.0</td>\n",
       "      <td>0</td>\n",
       "      <td>0</td>\n",
       "      <td>Yes</td>\n",
       "      <td>Private</td>\n",
       "      <td>Urban</td>\n",
       "      <td>171.23</td>\n",
       "      <td>34.4</td>\n",
       "      <td>smokes</td>\n",
       "      <td>1</td>\n",
       "    </tr>\n",
       "    <tr>\n",
       "      <th>4</th>\n",
       "      <td>1665</td>\n",
       "      <td>Female</td>\n",
       "      <td>79.0</td>\n",
       "      <td>1</td>\n",
       "      <td>0</td>\n",
       "      <td>Yes</td>\n",
       "      <td>Self-employed</td>\n",
       "      <td>Rural</td>\n",
       "      <td>174.12</td>\n",
       "      <td>24.0</td>\n",
       "      <td>never smoked</td>\n",
       "      <td>1</td>\n",
       "    </tr>\n",
       "  </tbody>\n",
       "</table>\n",
       "</div>"
      ],
      "text/plain": [
       "      id  gender   age  hypertension  heart_disease ever_married  \\\n",
       "0   9046    Male  67.0             0              1          Yes   \n",
       "1  51676  Female  61.0             0              0          Yes   \n",
       "2  31112    Male  80.0             0              1          Yes   \n",
       "3  60182  Female  49.0             0              0          Yes   \n",
       "4   1665  Female  79.0             1              0          Yes   \n",
       "\n",
       "       work_type Residence_type  avg_glucose_level   bmi   smoking_status  \\\n",
       "0        Private          Urban             228.69  36.6  formerly smoked   \n",
       "1  Self-employed          Rural             202.21   NaN     never smoked   \n",
       "2        Private          Rural             105.92  32.5     never smoked   \n",
       "3        Private          Urban             171.23  34.4           smokes   \n",
       "4  Self-employed          Rural             174.12  24.0     never smoked   \n",
       "\n",
       "   stroke  \n",
       "0       1  \n",
       "1       1  \n",
       "2       1  \n",
       "3       1  \n",
       "4       1  "
      ]
     },
     "execution_count": 4,
     "metadata": {},
     "output_type": "execute_result"
    }
   ],
   "source": [
    "data.head(5)"
   ]
  },
  {
   "cell_type": "code",
   "execution_count": 5,
   "id": "b6143e42",
   "metadata": {
    "execution": {
     "iopub.execute_input": "2022-09-16T07:41:20.615548Z",
     "iopub.status.busy": "2022-09-16T07:41:20.614738Z",
     "iopub.status.idle": "2022-09-16T07:41:20.644837Z",
     "shell.execute_reply": "2022-09-16T07:41:20.643320Z"
    },
    "papermill": {
     "duration": 0.045526,
     "end_time": "2022-09-16T07:41:20.647758",
     "exception": false,
     "start_time": "2022-09-16T07:41:20.602232",
     "status": "completed"
    },
    "tags": []
   },
   "outputs": [
    {
     "name": "stdout",
     "output_type": "stream",
     "text": [
      "<class 'pandas.core.frame.DataFrame'>\n",
      "RangeIndex: 5110 entries, 0 to 5109\n",
      "Data columns (total 12 columns):\n",
      " #   Column             Non-Null Count  Dtype  \n",
      "---  ------             --------------  -----  \n",
      " 0   id                 5110 non-null   int64  \n",
      " 1   gender             5110 non-null   object \n",
      " 2   age                5110 non-null   float64\n",
      " 3   hypertension       5110 non-null   int64  \n",
      " 4   heart_disease      5110 non-null   int64  \n",
      " 5   ever_married       5110 non-null   object \n",
      " 6   work_type          5110 non-null   object \n",
      " 7   Residence_type     5110 non-null   object \n",
      " 8   avg_glucose_level  5110 non-null   float64\n",
      " 9   bmi                4909 non-null   float64\n",
      " 10  smoking_status     5110 non-null   object \n",
      " 11  stroke             5110 non-null   int64  \n",
      "dtypes: float64(3), int64(4), object(5)\n",
      "memory usage: 479.2+ KB\n"
     ]
    }
   ],
   "source": [
    "data.info()"
   ]
  },
  {
   "cell_type": "code",
   "execution_count": 6,
   "id": "05e8518b",
   "metadata": {
    "execution": {
     "iopub.execute_input": "2022-09-16T07:41:20.672400Z",
     "iopub.status.busy": "2022-09-16T07:41:20.671966Z",
     "iopub.status.idle": "2022-09-16T07:41:20.678795Z",
     "shell.execute_reply": "2022-09-16T07:41:20.677669Z"
    },
    "papermill": {
     "duration": 0.022055,
     "end_time": "2022-09-16T07:41:20.681044",
     "exception": false,
     "start_time": "2022-09-16T07:41:20.658989",
     "status": "completed"
    },
    "tags": []
   },
   "outputs": [
    {
     "data": {
      "text/plain": [
       "(5110, 12)"
      ]
     },
     "execution_count": 6,
     "metadata": {},
     "output_type": "execute_result"
    }
   ],
   "source": [
    "data.shape"
   ]
  },
  {
   "cell_type": "code",
   "execution_count": 7,
   "id": "7edd192f",
   "metadata": {
    "execution": {
     "iopub.execute_input": "2022-09-16T07:41:20.706262Z",
     "iopub.status.busy": "2022-09-16T07:41:20.705868Z",
     "iopub.status.idle": "2022-09-16T07:41:20.744499Z",
     "shell.execute_reply": "2022-09-16T07:41:20.743237Z"
    },
    "papermill": {
     "duration": 0.054793,
     "end_time": "2022-09-16T07:41:20.747195",
     "exception": false,
     "start_time": "2022-09-16T07:41:20.692402",
     "status": "completed"
    },
    "tags": []
   },
   "outputs": [
    {
     "data": {
      "text/html": [
       "<div>\n",
       "<style scoped>\n",
       "    .dataframe tbody tr th:only-of-type {\n",
       "        vertical-align: middle;\n",
       "    }\n",
       "\n",
       "    .dataframe tbody tr th {\n",
       "        vertical-align: top;\n",
       "    }\n",
       "\n",
       "    .dataframe thead th {\n",
       "        text-align: right;\n",
       "    }\n",
       "</style>\n",
       "<table border=\"1\" class=\"dataframe\">\n",
       "  <thead>\n",
       "    <tr style=\"text-align: right;\">\n",
       "      <th></th>\n",
       "      <th>id</th>\n",
       "      <th>age</th>\n",
       "      <th>hypertension</th>\n",
       "      <th>heart_disease</th>\n",
       "      <th>avg_glucose_level</th>\n",
       "      <th>bmi</th>\n",
       "      <th>stroke</th>\n",
       "    </tr>\n",
       "  </thead>\n",
       "  <tbody>\n",
       "    <tr>\n",
       "      <th>count</th>\n",
       "      <td>5110.000000</td>\n",
       "      <td>5110.000000</td>\n",
       "      <td>5110.000000</td>\n",
       "      <td>5110.000000</td>\n",
       "      <td>5110.000000</td>\n",
       "      <td>4909.000000</td>\n",
       "      <td>5110.000000</td>\n",
       "    </tr>\n",
       "    <tr>\n",
       "      <th>mean</th>\n",
       "      <td>36517.829354</td>\n",
       "      <td>43.226614</td>\n",
       "      <td>0.097456</td>\n",
       "      <td>0.054012</td>\n",
       "      <td>106.147677</td>\n",
       "      <td>28.893237</td>\n",
       "      <td>0.048728</td>\n",
       "    </tr>\n",
       "    <tr>\n",
       "      <th>std</th>\n",
       "      <td>21161.721625</td>\n",
       "      <td>22.612647</td>\n",
       "      <td>0.296607</td>\n",
       "      <td>0.226063</td>\n",
       "      <td>45.283560</td>\n",
       "      <td>7.854067</td>\n",
       "      <td>0.215320</td>\n",
       "    </tr>\n",
       "    <tr>\n",
       "      <th>min</th>\n",
       "      <td>67.000000</td>\n",
       "      <td>0.080000</td>\n",
       "      <td>0.000000</td>\n",
       "      <td>0.000000</td>\n",
       "      <td>55.120000</td>\n",
       "      <td>10.300000</td>\n",
       "      <td>0.000000</td>\n",
       "    </tr>\n",
       "    <tr>\n",
       "      <th>25%</th>\n",
       "      <td>17741.250000</td>\n",
       "      <td>25.000000</td>\n",
       "      <td>0.000000</td>\n",
       "      <td>0.000000</td>\n",
       "      <td>77.245000</td>\n",
       "      <td>23.500000</td>\n",
       "      <td>0.000000</td>\n",
       "    </tr>\n",
       "    <tr>\n",
       "      <th>50%</th>\n",
       "      <td>36932.000000</td>\n",
       "      <td>45.000000</td>\n",
       "      <td>0.000000</td>\n",
       "      <td>0.000000</td>\n",
       "      <td>91.885000</td>\n",
       "      <td>28.100000</td>\n",
       "      <td>0.000000</td>\n",
       "    </tr>\n",
       "    <tr>\n",
       "      <th>75%</th>\n",
       "      <td>54682.000000</td>\n",
       "      <td>61.000000</td>\n",
       "      <td>0.000000</td>\n",
       "      <td>0.000000</td>\n",
       "      <td>114.090000</td>\n",
       "      <td>33.100000</td>\n",
       "      <td>0.000000</td>\n",
       "    </tr>\n",
       "    <tr>\n",
       "      <th>max</th>\n",
       "      <td>72940.000000</td>\n",
       "      <td>82.000000</td>\n",
       "      <td>1.000000</td>\n",
       "      <td>1.000000</td>\n",
       "      <td>271.740000</td>\n",
       "      <td>97.600000</td>\n",
       "      <td>1.000000</td>\n",
       "    </tr>\n",
       "  </tbody>\n",
       "</table>\n",
       "</div>"
      ],
      "text/plain": [
       "                 id          age  hypertension  heart_disease  \\\n",
       "count   5110.000000  5110.000000   5110.000000    5110.000000   \n",
       "mean   36517.829354    43.226614      0.097456       0.054012   \n",
       "std    21161.721625    22.612647      0.296607       0.226063   \n",
       "min       67.000000     0.080000      0.000000       0.000000   \n",
       "25%    17741.250000    25.000000      0.000000       0.000000   \n",
       "50%    36932.000000    45.000000      0.000000       0.000000   \n",
       "75%    54682.000000    61.000000      0.000000       0.000000   \n",
       "max    72940.000000    82.000000      1.000000       1.000000   \n",
       "\n",
       "       avg_glucose_level          bmi       stroke  \n",
       "count        5110.000000  4909.000000  5110.000000  \n",
       "mean          106.147677    28.893237     0.048728  \n",
       "std            45.283560     7.854067     0.215320  \n",
       "min            55.120000    10.300000     0.000000  \n",
       "25%            77.245000    23.500000     0.000000  \n",
       "50%            91.885000    28.100000     0.000000  \n",
       "75%           114.090000    33.100000     0.000000  \n",
       "max           271.740000    97.600000     1.000000  "
      ]
     },
     "execution_count": 7,
     "metadata": {},
     "output_type": "execute_result"
    }
   ],
   "source": [
    "data.describe()"
   ]
  },
  {
   "cell_type": "code",
   "execution_count": 8,
   "id": "69d49bbd",
   "metadata": {
    "execution": {
     "iopub.execute_input": "2022-09-16T07:41:20.772595Z",
     "iopub.status.busy": "2022-09-16T07:41:20.772175Z",
     "iopub.status.idle": "2022-09-16T07:41:20.783826Z",
     "shell.execute_reply": "2022-09-16T07:41:20.782595Z"
    },
    "papermill": {
     "duration": 0.027081,
     "end_time": "2022-09-16T07:41:20.786172",
     "exception": false,
     "start_time": "2022-09-16T07:41:20.759091",
     "status": "completed"
    },
    "tags": []
   },
   "outputs": [
    {
     "data": {
      "text/plain": [
       "id                     0\n",
       "gender                 0\n",
       "age                    0\n",
       "hypertension           0\n",
       "heart_disease          0\n",
       "ever_married           0\n",
       "work_type              0\n",
       "Residence_type         0\n",
       "avg_glucose_level      0\n",
       "bmi                  201\n",
       "smoking_status         0\n",
       "stroke                 0\n",
       "dtype: int64"
      ]
     },
     "execution_count": 8,
     "metadata": {},
     "output_type": "execute_result"
    }
   ],
   "source": [
    "data.isnull().sum()"
   ]
  },
  {
   "cell_type": "markdown",
   "id": "dee5a556",
   "metadata": {
    "papermill": {
     "duration": 0.011282,
     "end_time": "2022-09-16T07:41:20.809094",
     "exception": false,
     "start_time": "2022-09-16T07:41:20.797812",
     "status": "completed"
    },
    "tags": []
   },
   "source": [
    "# Inspecting and Cleaning Dataset"
   ]
  },
  {
   "cell_type": "code",
   "execution_count": 9,
   "id": "fc04087e",
   "metadata": {
    "execution": {
     "iopub.execute_input": "2022-09-16T07:41:20.833924Z",
     "iopub.status.busy": "2022-09-16T07:41:20.833487Z",
     "iopub.status.idle": "2022-09-16T07:41:20.841306Z",
     "shell.execute_reply": "2022-09-16T07:41:20.840044Z"
    },
    "papermill": {
     "duration": 0.023185,
     "end_time": "2022-09-16T07:41:20.843768",
     "exception": false,
     "start_time": "2022-09-16T07:41:20.820583",
     "status": "completed"
    },
    "tags": []
   },
   "outputs": [],
   "source": [
    "mean_value=data['bmi'].mean()\n",
    "data['bmi'].fillna(value=mean_value, inplace=True)\n",
    "data[\"bmi\"]=data[\"bmi\"].round(1)"
   ]
  },
  {
   "cell_type": "code",
   "execution_count": 10,
   "id": "715d16e5",
   "metadata": {
    "execution": {
     "iopub.execute_input": "2022-09-16T07:41:20.868890Z",
     "iopub.status.busy": "2022-09-16T07:41:20.868446Z",
     "iopub.status.idle": "2022-09-16T07:41:20.882537Z",
     "shell.execute_reply": "2022-09-16T07:41:20.881347Z"
    },
    "papermill": {
     "duration": 0.029789,
     "end_time": "2022-09-16T07:41:20.885091",
     "exception": false,
     "start_time": "2022-09-16T07:41:20.855302",
     "status": "completed"
    },
    "tags": []
   },
   "outputs": [
    {
     "name": "stdout",
     "output_type": "stream",
     "text": [
      "<class 'pandas.core.frame.DataFrame'>\n",
      "RangeIndex: 5110 entries, 0 to 5109\n",
      "Data columns (total 12 columns):\n",
      " #   Column             Non-Null Count  Dtype  \n",
      "---  ------             --------------  -----  \n",
      " 0   id                 5110 non-null   int64  \n",
      " 1   gender             5110 non-null   object \n",
      " 2   age                5110 non-null   float64\n",
      " 3   hypertension       5110 non-null   int64  \n",
      " 4   heart_disease      5110 non-null   int64  \n",
      " 5   ever_married       5110 non-null   object \n",
      " 6   work_type          5110 non-null   object \n",
      " 7   Residence_type     5110 non-null   object \n",
      " 8   avg_glucose_level  5110 non-null   float64\n",
      " 9   bmi                5110 non-null   float64\n",
      " 10  smoking_status     5110 non-null   object \n",
      " 11  stroke             5110 non-null   int64  \n",
      "dtypes: float64(3), int64(4), object(5)\n",
      "memory usage: 479.2+ KB\n"
     ]
    }
   ],
   "source": [
    "data.info()"
   ]
  },
  {
   "cell_type": "code",
   "execution_count": 11,
   "id": "1df4b832",
   "metadata": {
    "execution": {
     "iopub.execute_input": "2022-09-16T07:41:20.911951Z",
     "iopub.status.busy": "2022-09-16T07:41:20.910938Z",
     "iopub.status.idle": "2022-09-16T07:41:20.929474Z",
     "shell.execute_reply": "2022-09-16T07:41:20.928386Z"
    },
    "papermill": {
     "duration": 0.034239,
     "end_time": "2022-09-16T07:41:20.931687",
     "exception": false,
     "start_time": "2022-09-16T07:41:20.897448",
     "status": "completed"
    },
    "tags": []
   },
   "outputs": [
    {
     "data": {
      "text/html": [
       "<div>\n",
       "<style scoped>\n",
       "    .dataframe tbody tr th:only-of-type {\n",
       "        vertical-align: middle;\n",
       "    }\n",
       "\n",
       "    .dataframe tbody tr th {\n",
       "        vertical-align: top;\n",
       "    }\n",
       "\n",
       "    .dataframe thead th {\n",
       "        text-align: right;\n",
       "    }\n",
       "</style>\n",
       "<table border=\"1\" class=\"dataframe\">\n",
       "  <thead>\n",
       "    <tr style=\"text-align: right;\">\n",
       "      <th></th>\n",
       "      <th>id</th>\n",
       "      <th>gender</th>\n",
       "      <th>age</th>\n",
       "      <th>hypertension</th>\n",
       "      <th>heart_disease</th>\n",
       "      <th>ever_married</th>\n",
       "      <th>work_type</th>\n",
       "      <th>Residence_type</th>\n",
       "      <th>avg_glucose_level</th>\n",
       "      <th>bmi</th>\n",
       "      <th>smoking_status</th>\n",
       "      <th>stroke</th>\n",
       "    </tr>\n",
       "  </thead>\n",
       "  <tbody>\n",
       "    <tr>\n",
       "      <th>0</th>\n",
       "      <td>9046</td>\n",
       "      <td>Male</td>\n",
       "      <td>67.0</td>\n",
       "      <td>0</td>\n",
       "      <td>1</td>\n",
       "      <td>Yes</td>\n",
       "      <td>Private</td>\n",
       "      <td>Urban</td>\n",
       "      <td>228.69</td>\n",
       "      <td>36.6</td>\n",
       "      <td>formerly smoked</td>\n",
       "      <td>1</td>\n",
       "    </tr>\n",
       "    <tr>\n",
       "      <th>1</th>\n",
       "      <td>51676</td>\n",
       "      <td>Female</td>\n",
       "      <td>61.0</td>\n",
       "      <td>0</td>\n",
       "      <td>0</td>\n",
       "      <td>Yes</td>\n",
       "      <td>Self-employed</td>\n",
       "      <td>Rural</td>\n",
       "      <td>202.21</td>\n",
       "      <td>28.9</td>\n",
       "      <td>never smoked</td>\n",
       "      <td>1</td>\n",
       "    </tr>\n",
       "    <tr>\n",
       "      <th>2</th>\n",
       "      <td>31112</td>\n",
       "      <td>Male</td>\n",
       "      <td>80.0</td>\n",
       "      <td>0</td>\n",
       "      <td>1</td>\n",
       "      <td>Yes</td>\n",
       "      <td>Private</td>\n",
       "      <td>Rural</td>\n",
       "      <td>105.92</td>\n",
       "      <td>32.5</td>\n",
       "      <td>never smoked</td>\n",
       "      <td>1</td>\n",
       "    </tr>\n",
       "    <tr>\n",
       "      <th>3</th>\n",
       "      <td>60182</td>\n",
       "      <td>Female</td>\n",
       "      <td>49.0</td>\n",
       "      <td>0</td>\n",
       "      <td>0</td>\n",
       "      <td>Yes</td>\n",
       "      <td>Private</td>\n",
       "      <td>Urban</td>\n",
       "      <td>171.23</td>\n",
       "      <td>34.4</td>\n",
       "      <td>smokes</td>\n",
       "      <td>1</td>\n",
       "    </tr>\n",
       "    <tr>\n",
       "      <th>4</th>\n",
       "      <td>1665</td>\n",
       "      <td>Female</td>\n",
       "      <td>79.0</td>\n",
       "      <td>1</td>\n",
       "      <td>0</td>\n",
       "      <td>Yes</td>\n",
       "      <td>Self-employed</td>\n",
       "      <td>Rural</td>\n",
       "      <td>174.12</td>\n",
       "      <td>24.0</td>\n",
       "      <td>never smoked</td>\n",
       "      <td>1</td>\n",
       "    </tr>\n",
       "  </tbody>\n",
       "</table>\n",
       "</div>"
      ],
      "text/plain": [
       "      id  gender   age  hypertension  heart_disease ever_married  \\\n",
       "0   9046    Male  67.0             0              1          Yes   \n",
       "1  51676  Female  61.0             0              0          Yes   \n",
       "2  31112    Male  80.0             0              1          Yes   \n",
       "3  60182  Female  49.0             0              0          Yes   \n",
       "4   1665  Female  79.0             1              0          Yes   \n",
       "\n",
       "       work_type Residence_type  avg_glucose_level   bmi   smoking_status  \\\n",
       "0        Private          Urban             228.69  36.6  formerly smoked   \n",
       "1  Self-employed          Rural             202.21  28.9     never smoked   \n",
       "2        Private          Rural             105.92  32.5     never smoked   \n",
       "3        Private          Urban             171.23  34.4           smokes   \n",
       "4  Self-employed          Rural             174.12  24.0     never smoked   \n",
       "\n",
       "   stroke  \n",
       "0       1  \n",
       "1       1  \n",
       "2       1  \n",
       "3       1  \n",
       "4       1  "
      ]
     },
     "execution_count": 11,
     "metadata": {},
     "output_type": "execute_result"
    }
   ],
   "source": [
    "data.head(5)"
   ]
  },
  {
   "cell_type": "code",
   "execution_count": 12,
   "id": "18155850",
   "metadata": {
    "execution": {
     "iopub.execute_input": "2022-09-16T07:41:20.958778Z",
     "iopub.status.busy": "2022-09-16T07:41:20.958375Z",
     "iopub.status.idle": "2022-09-16T07:41:20.971453Z",
     "shell.execute_reply": "2022-09-16T07:41:20.970614Z"
    },
    "papermill": {
     "duration": 0.029594,
     "end_time": "2022-09-16T07:41:20.973656",
     "exception": false,
     "start_time": "2022-09-16T07:41:20.944062",
     "status": "completed"
    },
    "tags": []
   },
   "outputs": [
    {
     "data": {
      "text/plain": [
       "0"
      ]
     },
     "execution_count": 12,
     "metadata": {},
     "output_type": "execute_result"
    }
   ],
   "source": [
    "data.duplicated().sum()"
   ]
  },
  {
   "cell_type": "code",
   "execution_count": 13,
   "id": "eb28aa16",
   "metadata": {
    "execution": {
     "iopub.execute_input": "2022-09-16T07:41:21.000622Z",
     "iopub.status.busy": "2022-09-16T07:41:20.999704Z",
     "iopub.status.idle": "2022-09-16T07:41:21.034948Z",
     "shell.execute_reply": "2022-09-16T07:41:21.033450Z"
    },
    "papermill": {
     "duration": 0.051904,
     "end_time": "2022-09-16T07:41:21.038063",
     "exception": false,
     "start_time": "2022-09-16T07:41:20.986159",
     "status": "completed"
    },
    "tags": []
   },
   "outputs": [
    {
     "data": {
      "text/html": [
       "<div>\n",
       "<style scoped>\n",
       "    .dataframe tbody tr th:only-of-type {\n",
       "        vertical-align: middle;\n",
       "    }\n",
       "\n",
       "    .dataframe tbody tr th {\n",
       "        vertical-align: top;\n",
       "    }\n",
       "\n",
       "    .dataframe thead th {\n",
       "        text-align: right;\n",
       "    }\n",
       "</style>\n",
       "<table border=\"1\" class=\"dataframe\">\n",
       "  <thead>\n",
       "    <tr style=\"text-align: right;\">\n",
       "      <th></th>\n",
       "      <th>id</th>\n",
       "      <th>age</th>\n",
       "      <th>hypertension</th>\n",
       "      <th>heart_disease</th>\n",
       "      <th>avg_glucose_level</th>\n",
       "      <th>bmi</th>\n",
       "      <th>stroke</th>\n",
       "    </tr>\n",
       "  </thead>\n",
       "  <tbody>\n",
       "    <tr>\n",
       "      <th>count</th>\n",
       "      <td>5110.000000</td>\n",
       "      <td>5110.000000</td>\n",
       "      <td>5110.000000</td>\n",
       "      <td>5110.000000</td>\n",
       "      <td>5110.000000</td>\n",
       "      <td>5110.000000</td>\n",
       "      <td>5110.000000</td>\n",
       "    </tr>\n",
       "    <tr>\n",
       "      <th>mean</th>\n",
       "      <td>36517.829354</td>\n",
       "      <td>43.226614</td>\n",
       "      <td>0.097456</td>\n",
       "      <td>0.054012</td>\n",
       "      <td>106.147677</td>\n",
       "      <td>28.893503</td>\n",
       "      <td>0.048728</td>\n",
       "    </tr>\n",
       "    <tr>\n",
       "      <th>std</th>\n",
       "      <td>21161.721625</td>\n",
       "      <td>22.612647</td>\n",
       "      <td>0.296607</td>\n",
       "      <td>0.226063</td>\n",
       "      <td>45.283560</td>\n",
       "      <td>7.698018</td>\n",
       "      <td>0.215320</td>\n",
       "    </tr>\n",
       "    <tr>\n",
       "      <th>min</th>\n",
       "      <td>67.000000</td>\n",
       "      <td>0.080000</td>\n",
       "      <td>0.000000</td>\n",
       "      <td>0.000000</td>\n",
       "      <td>55.120000</td>\n",
       "      <td>10.300000</td>\n",
       "      <td>0.000000</td>\n",
       "    </tr>\n",
       "    <tr>\n",
       "      <th>25%</th>\n",
       "      <td>17741.250000</td>\n",
       "      <td>25.000000</td>\n",
       "      <td>0.000000</td>\n",
       "      <td>0.000000</td>\n",
       "      <td>77.245000</td>\n",
       "      <td>23.800000</td>\n",
       "      <td>0.000000</td>\n",
       "    </tr>\n",
       "    <tr>\n",
       "      <th>50%</th>\n",
       "      <td>36932.000000</td>\n",
       "      <td>45.000000</td>\n",
       "      <td>0.000000</td>\n",
       "      <td>0.000000</td>\n",
       "      <td>91.885000</td>\n",
       "      <td>28.400000</td>\n",
       "      <td>0.000000</td>\n",
       "    </tr>\n",
       "    <tr>\n",
       "      <th>75%</th>\n",
       "      <td>54682.000000</td>\n",
       "      <td>61.000000</td>\n",
       "      <td>0.000000</td>\n",
       "      <td>0.000000</td>\n",
       "      <td>114.090000</td>\n",
       "      <td>32.800000</td>\n",
       "      <td>0.000000</td>\n",
       "    </tr>\n",
       "    <tr>\n",
       "      <th>max</th>\n",
       "      <td>72940.000000</td>\n",
       "      <td>82.000000</td>\n",
       "      <td>1.000000</td>\n",
       "      <td>1.000000</td>\n",
       "      <td>271.740000</td>\n",
       "      <td>97.600000</td>\n",
       "      <td>1.000000</td>\n",
       "    </tr>\n",
       "  </tbody>\n",
       "</table>\n",
       "</div>"
      ],
      "text/plain": [
       "                 id          age  hypertension  heart_disease  \\\n",
       "count   5110.000000  5110.000000   5110.000000    5110.000000   \n",
       "mean   36517.829354    43.226614      0.097456       0.054012   \n",
       "std    21161.721625    22.612647      0.296607       0.226063   \n",
       "min       67.000000     0.080000      0.000000       0.000000   \n",
       "25%    17741.250000    25.000000      0.000000       0.000000   \n",
       "50%    36932.000000    45.000000      0.000000       0.000000   \n",
       "75%    54682.000000    61.000000      0.000000       0.000000   \n",
       "max    72940.000000    82.000000      1.000000       1.000000   \n",
       "\n",
       "       avg_glucose_level          bmi       stroke  \n",
       "count        5110.000000  5110.000000  5110.000000  \n",
       "mean          106.147677    28.893503     0.048728  \n",
       "std            45.283560     7.698018     0.215320  \n",
       "min            55.120000    10.300000     0.000000  \n",
       "25%            77.245000    23.800000     0.000000  \n",
       "50%            91.885000    28.400000     0.000000  \n",
       "75%           114.090000    32.800000     0.000000  \n",
       "max           271.740000    97.600000     1.000000  "
      ]
     },
     "execution_count": 13,
     "metadata": {},
     "output_type": "execute_result"
    }
   ],
   "source": [
    "data.describe()"
   ]
  },
  {
   "cell_type": "markdown",
   "id": "d1b4efa5",
   "metadata": {
    "papermill": {
     "duration": 0.012495,
     "end_time": "2022-09-16T07:41:21.063338",
     "exception": false,
     "start_time": "2022-09-16T07:41:21.050843",
     "status": "completed"
    },
    "tags": []
   },
   "source": [
    "**Outliers**"
   ]
  },
  {
   "cell_type": "code",
   "execution_count": 14,
   "id": "e65f5e00",
   "metadata": {
    "execution": {
     "iopub.execute_input": "2022-09-16T07:41:21.090660Z",
     "iopub.status.busy": "2022-09-16T07:41:21.090033Z",
     "iopub.status.idle": "2022-09-16T07:41:21.380020Z",
     "shell.execute_reply": "2022-09-16T07:41:21.378674Z"
    },
    "papermill": {
     "duration": 0.307158,
     "end_time": "2022-09-16T07:41:21.382797",
     "exception": false,
     "start_time": "2022-09-16T07:41:21.075639",
     "status": "completed"
    },
    "tags": []
   },
   "outputs": [
    {
     "data": {
      "image/png": "[encoded data removed]",
      "text/plain": [
       "<Figure size 1440x720 with 1 Axes>"
      ]
     },
     "metadata": {},
     "output_type": "display_data"
    }
   ],
   "source": [
    "df=data.drop([\"id\"],axis=1)\n",
    "plt.figure(figsize=(20,10), facecolor='w')\n",
    "sns.boxplot(data=df)\n",
    "plt.show()"
   ]
  },
  {
   "cell_type": "code",
   "execution_count": null,
   "id": "2066cf35",
   "metadata": {
    "execution": {
     "iopub.execute_input": "2022-09-16T06:36:10.184296Z",
     "iopub.status.busy": "2022-09-16T06:36:10.183573Z",
     "iopub.status.idle": "2022-09-16T06:36:10.191166Z",
     "shell.execute_reply": "2022-09-16T06:36:10.189914Z",
     "shell.execute_reply.started": "2022-09-16T06:36:10.184257Z"
    },
    "papermill": {
     "duration": 0.012673,
     "end_time": "2022-09-16T07:41:21.408879",
     "exception": false,
     "start_time": "2022-09-16T07:41:21.396206",
     "status": "completed"
    },
    "tags": []
   },
   "outputs": [],
   "source": [
    "\n"
   ]
  },
  {
   "cell_type": "code",
   "execution_count": 15,
   "id": "9d0cdf37",
   "metadata": {
    "execution": {
     "iopub.execute_input": "2022-09-16T07:41:21.436849Z",
     "iopub.status.busy": "2022-09-16T07:41:21.436408Z",
     "iopub.status.idle": "2022-09-16T07:41:21.586062Z",
     "shell.execute_reply": "2022-09-16T07:41:21.585115Z"
    },
    "papermill": {
     "duration": 0.166127,
     "end_time": "2022-09-16T07:41:21.588294",
     "exception": false,
     "start_time": "2022-09-16T07:41:21.422167",
     "status": "completed"
    },
    "tags": []
   },
   "outputs": [
    {
     "name": "stdout",
     "output_type": "stream",
     "text": [
      "outlier in bmi 97.6\n"
     ]
    },
    {
     "data": {
      "image/png": "[encoded data removed]",
      "text/plain": [
       "<Figure size 1440x720 with 1 Axes>"
      ]
     },
     "metadata": {},
     "output_type": "display_data"
    }
   ],
   "source": [
    "print(\"outlier in bmi\",data['bmi'].max())\n",
    "plt.figure(figsize=(20,10), facecolor='w')\n",
    "sns.boxplot(data=data[\"bmi\"])\n",
    "plt.show()"
   ]
  },
  {
   "cell_type": "code",
   "execution_count": 16,
   "id": "ff77b839",
   "metadata": {
    "execution": {
     "iopub.execute_input": "2022-09-16T07:41:21.616547Z",
     "iopub.status.busy": "2022-09-16T07:41:21.615804Z",
     "iopub.status.idle": "2022-09-16T07:41:21.731844Z",
     "shell.execute_reply": "2022-09-16T07:41:21.730610Z"
    },
    "papermill": {
     "duration": 0.132903,
     "end_time": "2022-09-16T07:41:21.734370",
     "exception": false,
     "start_time": "2022-09-16T07:41:21.601467",
     "status": "completed"
    },
    "tags": []
   },
   "outputs": [
    {
     "name": "stdout",
     "output_type": "stream",
     "text": [
      "outlier in avg_glucose_level 271.74\n"
     ]
    },
    {
     "data": {
      "image/png": "[encoded data removed]",
      "text/plain": [
       "<Figure size 1440x360 with 1 Axes>"
      ]
     },
     "metadata": {},
     "output_type": "display_data"
    }
   ],
   "source": [
    "print(\"outlier in avg_glucose_level\",data[\"avg_glucose_level\"].max())\n",
    "plt.figure(figsize=(20,5), facecolor='w')\n",
    "sns.boxplot(data=data[\"avg_glucose_level\"])\n",
    "plt.show()"
   ]
  },
  {
   "cell_type": "code",
   "execution_count": 17,
   "id": "df4cd5e5",
   "metadata": {
    "execution": {
     "iopub.execute_input": "2022-09-16T07:41:21.762882Z",
     "iopub.status.busy": "2022-09-16T07:41:21.762119Z",
     "iopub.status.idle": "2022-09-16T07:41:21.770913Z",
     "shell.execute_reply": "2022-09-16T07:41:21.769732Z"
    },
    "papermill": {
     "duration": 0.025939,
     "end_time": "2022-09-16T07:41:21.773361",
     "exception": false,
     "start_time": "2022-09-16T07:41:21.747422",
     "status": "completed"
    },
    "tags": []
   },
   "outputs": [],
   "source": [
    "data=data[data['bmi']<60.0]\n",
    "data=data[data['bmi']<180.00]"
   ]
  },
  {
   "cell_type": "code",
   "execution_count": 18,
   "id": "f653d66c",
   "metadata": {
    "execution": {
     "iopub.execute_input": "2022-09-16T07:41:21.803739Z",
     "iopub.status.busy": "2022-09-16T07:41:21.802939Z",
     "iopub.status.idle": "2022-09-16T07:41:21.821650Z",
     "shell.execute_reply": "2022-09-16T07:41:21.820494Z"
    },
    "papermill": {
     "duration": 0.036482,
     "end_time": "2022-09-16T07:41:21.824245",
     "exception": false,
     "start_time": "2022-09-16T07:41:21.787763",
     "status": "completed"
    },
    "tags": []
   },
   "outputs": [
    {
     "data": {
      "text/html": [
       "<div>\n",
       "<style scoped>\n",
       "    .dataframe tbody tr th:only-of-type {\n",
       "        vertical-align: middle;\n",
       "    }\n",
       "\n",
       "    .dataframe tbody tr th {\n",
       "        vertical-align: top;\n",
       "    }\n",
       "\n",
       "    .dataframe thead th {\n",
       "        text-align: right;\n",
       "    }\n",
       "</style>\n",
       "<table border=\"1\" class=\"dataframe\">\n",
       "  <thead>\n",
       "    <tr style=\"text-align: right;\">\n",
       "      <th></th>\n",
       "      <th>id</th>\n",
       "      <th>gender</th>\n",
       "      <th>age</th>\n",
       "      <th>hypertension</th>\n",
       "      <th>heart_disease</th>\n",
       "      <th>ever_married</th>\n",
       "      <th>work_type</th>\n",
       "      <th>Residence_type</th>\n",
       "      <th>avg_glucose_level</th>\n",
       "      <th>bmi</th>\n",
       "      <th>smoking_status</th>\n",
       "      <th>stroke</th>\n",
       "    </tr>\n",
       "  </thead>\n",
       "  <tbody>\n",
       "    <tr>\n",
       "      <th>0</th>\n",
       "      <td>9046</td>\n",
       "      <td>Male</td>\n",
       "      <td>67.0</td>\n",
       "      <td>0</td>\n",
       "      <td>1</td>\n",
       "      <td>Yes</td>\n",
       "      <td>Private</td>\n",
       "      <td>Urban</td>\n",
       "      <td>228.69</td>\n",
       "      <td>36.6</td>\n",
       "      <td>formerly smoked</td>\n",
       "      <td>1</td>\n",
       "    </tr>\n",
       "    <tr>\n",
       "      <th>1</th>\n",
       "      <td>51676</td>\n",
       "      <td>Female</td>\n",
       "      <td>61.0</td>\n",
       "      <td>0</td>\n",
       "      <td>0</td>\n",
       "      <td>Yes</td>\n",
       "      <td>Self-employed</td>\n",
       "      <td>Rural</td>\n",
       "      <td>202.21</td>\n",
       "      <td>28.9</td>\n",
       "      <td>never smoked</td>\n",
       "      <td>1</td>\n",
       "    </tr>\n",
       "    <tr>\n",
       "      <th>2</th>\n",
       "      <td>31112</td>\n",
       "      <td>Male</td>\n",
       "      <td>80.0</td>\n",
       "      <td>0</td>\n",
       "      <td>1</td>\n",
       "      <td>Yes</td>\n",
       "      <td>Private</td>\n",
       "      <td>Rural</td>\n",
       "      <td>105.92</td>\n",
       "      <td>32.5</td>\n",
       "      <td>never smoked</td>\n",
       "      <td>1</td>\n",
       "    </tr>\n",
       "    <tr>\n",
       "      <th>3</th>\n",
       "      <td>60182</td>\n",
       "      <td>Female</td>\n",
       "      <td>49.0</td>\n",
       "      <td>0</td>\n",
       "      <td>0</td>\n",
       "      <td>Yes</td>\n",
       "      <td>Private</td>\n",
       "      <td>Urban</td>\n",
       "      <td>171.23</td>\n",
       "      <td>34.4</td>\n",
       "      <td>smokes</td>\n",
       "      <td>1</td>\n",
       "    </tr>\n",
       "    <tr>\n",
       "      <th>4</th>\n",
       "      <td>1665</td>\n",
       "      <td>Female</td>\n",
       "      <td>79.0</td>\n",
       "      <td>1</td>\n",
       "      <td>0</td>\n",
       "      <td>Yes</td>\n",
       "      <td>Self-employed</td>\n",
       "      <td>Rural</td>\n",
       "      <td>174.12</td>\n",
       "      <td>24.0</td>\n",
       "      <td>never smoked</td>\n",
       "      <td>1</td>\n",
       "    </tr>\n",
       "  </tbody>\n",
       "</table>\n",
       "</div>"
      ],
      "text/plain": [
       "      id  gender   age  hypertension  heart_disease ever_married  \\\n",
       "0   9046    Male  67.0             0              1          Yes   \n",
       "1  51676  Female  61.0             0              0          Yes   \n",
       "2  31112    Male  80.0             0              1          Yes   \n",
       "3  60182  Female  49.0             0              0          Yes   \n",
       "4   1665  Female  79.0             1              0          Yes   \n",
       "\n",
       "       work_type Residence_type  avg_glucose_level   bmi   smoking_status  \\\n",
       "0        Private          Urban             228.69  36.6  formerly smoked   \n",
       "1  Self-employed          Rural             202.21  28.9     never smoked   \n",
       "2        Private          Rural             105.92  32.5     never smoked   \n",
       "3        Private          Urban             171.23  34.4           smokes   \n",
       "4  Self-employed          Rural             174.12  24.0     never smoked   \n",
       "\n",
       "   stroke  \n",
       "0       1  \n",
       "1       1  \n",
       "2       1  \n",
       "3       1  \n",
       "4       1  "
      ]
     },
     "execution_count": 18,
     "metadata": {},
     "output_type": "execute_result"
    }
   ],
   "source": [
    "data.head(5)"
   ]
  },
  {
   "cell_type": "markdown",
   "id": "fa20b327",
   "metadata": {
    "papermill": {
     "duration": 0.0133,
     "end_time": "2022-09-16T07:41:21.851341",
     "exception": false,
     "start_time": "2022-09-16T07:41:21.838041",
     "status": "completed"
    },
    "tags": []
   },
   "source": [
    "# Exploratory Data Analysis"
   ]
  },
  {
   "cell_type": "code",
   "execution_count": 19,
   "id": "12269f3a",
   "metadata": {
    "execution": {
     "iopub.execute_input": "2022-09-16T07:41:21.881845Z",
     "iopub.status.busy": "2022-09-16T07:41:21.880355Z",
     "iopub.status.idle": "2022-09-16T07:41:22.372868Z",
     "shell.execute_reply": "2022-09-16T07:41:22.371601Z"
    },
    "papermill": {
     "duration": 0.510262,
     "end_time": "2022-09-16T07:41:22.375750",
     "exception": false,
     "start_time": "2022-09-16T07:41:21.865488",
     "status": "completed"
    },
    "tags": []
   },
   "outputs": [
    {
     "data": {
      "text/html": [
       "<div>\n",
       "<style scoped>\n",
       "    .dataframe tbody tr th:only-of-type {\n",
       "        vertical-align: middle;\n",
       "    }\n",
       "\n",
       "    .dataframe tbody tr th {\n",
       "        vertical-align: top;\n",
       "    }\n",
       "\n",
       "    .dataframe thead th {\n",
       "        text-align: right;\n",
       "    }\n",
       "</style>\n",
       "<table border=\"1\" class=\"dataframe\">\n",
       "  <thead>\n",
       "    <tr style=\"text-align: right;\">\n",
       "      <th></th>\n",
       "      <th>age</th>\n",
       "      <th>hypertension</th>\n",
       "      <th>heart_disease</th>\n",
       "      <th>avg_glucose_level</th>\n",
       "      <th>bmi</th>\n",
       "      <th>stroke</th>\n",
       "    </tr>\n",
       "  </thead>\n",
       "  <tbody>\n",
       "    <tr>\n",
       "      <th>age</th>\n",
       "      <td>1.000000</td>\n",
       "      <td>0.276398</td>\n",
       "      <td>0.263796</td>\n",
       "      <td>0.238171</td>\n",
       "      <td>0.325956</td>\n",
       "      <td>0.245257</td>\n",
       "    </tr>\n",
       "    <tr>\n",
       "      <th>hypertension</th>\n",
       "      <td>0.276398</td>\n",
       "      <td>1.000000</td>\n",
       "      <td>0.108306</td>\n",
       "      <td>0.174474</td>\n",
       "      <td>0.160205</td>\n",
       "      <td>0.127904</td>\n",
       "    </tr>\n",
       "    <tr>\n",
       "      <th>heart_disease</th>\n",
       "      <td>0.263796</td>\n",
       "      <td>0.108306</td>\n",
       "      <td>1.000000</td>\n",
       "      <td>0.161857</td>\n",
       "      <td>0.038916</td>\n",
       "      <td>0.134914</td>\n",
       "    </tr>\n",
       "    <tr>\n",
       "      <th>avg_glucose_level</th>\n",
       "      <td>0.238171</td>\n",
       "      <td>0.174474</td>\n",
       "      <td>0.161857</td>\n",
       "      <td>1.000000</td>\n",
       "      <td>0.168767</td>\n",
       "      <td>0.131945</td>\n",
       "    </tr>\n",
       "    <tr>\n",
       "      <th>bmi</th>\n",
       "      <td>0.325956</td>\n",
       "      <td>0.160205</td>\n",
       "      <td>0.038916</td>\n",
       "      <td>0.168767</td>\n",
       "      <td>1.000000</td>\n",
       "      <td>0.038971</td>\n",
       "    </tr>\n",
       "    <tr>\n",
       "      <th>stroke</th>\n",
       "      <td>0.245257</td>\n",
       "      <td>0.127904</td>\n",
       "      <td>0.134914</td>\n",
       "      <td>0.131945</td>\n",
       "      <td>0.038971</td>\n",
       "      <td>1.000000</td>\n",
       "    </tr>\n",
       "  </tbody>\n",
       "</table>\n",
       "</div>"
      ],
      "text/plain": [
       "                        age  hypertension  heart_disease  avg_glucose_level  \\\n",
       "age                1.000000      0.276398       0.263796           0.238171   \n",
       "hypertension       0.276398      1.000000       0.108306           0.174474   \n",
       "heart_disease      0.263796      0.108306       1.000000           0.161857   \n",
       "avg_glucose_level  0.238171      0.174474       0.161857           1.000000   \n",
       "bmi                0.325956      0.160205       0.038916           0.168767   \n",
       "stroke             0.245257      0.127904       0.134914           0.131945   \n",
       "\n",
       "                        bmi    stroke  \n",
       "age                0.325956  0.245257  \n",
       "hypertension       0.160205  0.127904  \n",
       "heart_disease      0.038916  0.134914  \n",
       "avg_glucose_level  0.168767  0.131945  \n",
       "bmi                1.000000  0.038971  \n",
       "stroke             0.038971  1.000000  "
      ]
     },
     "execution_count": 19,
     "metadata": {},
     "output_type": "execute_result"
    },
    {
     "data": {
      "image/png": "[encoded data removed]",
      "text/plain": [
       "<Figure size 1440x720 with 2 Axes>"
      ]
     },
     "metadata": {},
     "output_type": "display_data"
    }
   ],
   "source": [
    "#Checking relationship between variables\n",
    "cor=df.corr()\n",
    "plt.figure(figsize=(20,10), facecolor='w')\n",
    "sns.heatmap(cor,xticklabels=cor.columns,yticklabels=cor.columns,annot=True)\n",
    "plt.title(\"Correlation among all the Variables of the Dataset\", size=20)\n",
    "cor"
   ]
  },
  {
   "cell_type": "markdown",
   "id": "409e1d95",
   "metadata": {
    "papermill": {
     "duration": 0.014264,
     "end_time": "2022-09-16T07:41:22.404493",
     "exception": false,
     "start_time": "2022-09-16T07:41:22.390229",
     "status": "completed"
    },
    "tags": []
   },
   "source": [
    "## Univariate Analysis"
   ]
  },
  {
   "cell_type": "code",
   "execution_count": 20,
   "id": "f1cf0186",
   "metadata": {
    "execution": {
     "iopub.execute_input": "2022-09-16T07:41:22.437477Z",
     "iopub.status.busy": "2022-09-16T07:41:22.437091Z",
     "iopub.status.idle": "2022-09-16T07:41:22.449383Z",
     "shell.execute_reply": "2022-09-16T07:41:22.448536Z"
    },
    "papermill": {
     "duration": 0.030759,
     "end_time": "2022-09-16T07:41:22.451728",
     "exception": false,
     "start_time": "2022-09-16T07:41:22.420969",
     "status": "completed"
    },
    "tags": []
   },
   "outputs": [
    {
     "name": "stdout",
     "output_type": "stream",
     "text": [
      "gender :\n",
      "Female    2985\n",
      "Male      2111\n",
      "Other        1\n",
      "Name: gender, dtype: int64\n",
      "-----------------\n",
      "hypertension :\n",
      "0    4604\n",
      "1     493\n",
      "Name: hypertension, dtype: int64\n",
      "-----------------\n",
      "heart_disease :\n",
      "0    4821\n",
      "1     276\n",
      "Name: heart_disease, dtype: int64\n",
      "-----------------\n",
      "ever_married :\n",
      "Yes    3342\n",
      "No     1755\n",
      "Name: ever_married, dtype: int64\n",
      "-----------------\n",
      "smoking_status :\n",
      "never smoked       1887\n",
      "Unknown            1540\n",
      "formerly smoked     885\n",
      "smokes              785\n",
      "Name: smoking_status, dtype: int64\n",
      "-----------------\n"
     ]
    }
   ],
   "source": [
    "categorical_features = ['gender', 'hypertension', 'heart_disease', 'ever_married', 'smoking_status']\n",
    "for feature in categorical_features:\n",
    "    print(feature,':')\n",
    "    print(data[feature].value_counts())\n",
    "    print(\"-----------------\")"
   ]
  },
  {
   "cell_type": "code",
   "execution_count": 21,
   "id": "c4ca9162",
   "metadata": {
    "execution": {
     "iopub.execute_input": "2022-09-16T07:41:22.484533Z",
     "iopub.status.busy": "2022-09-16T07:41:22.483757Z",
     "iopub.status.idle": "2022-09-16T07:41:23.186330Z",
     "shell.execute_reply": "2022-09-16T07:41:23.185118Z"
    },
    "papermill": {
     "duration": 0.721731,
     "end_time": "2022-09-16T07:41:23.188997",
     "exception": false,
     "start_time": "2022-09-16T07:41:22.467266",
     "status": "completed"
    },
    "tags": []
   },
   "outputs": [
    {
     "data": {
      "text/plain": [
       "<seaborn.axisgrid.FacetGrid at 0x7f84d97bfc50>"
      ]
     },
     "execution_count": 21,
     "metadata": {},
     "output_type": "execute_result"
    },
    {
     "data": {
      "image/png": "[encoded data removed]",
      "text/plain": [
       "<Figure size 480.125x360 with 1 Axes>"
      ]
     },
     "metadata": {
      "needs_background": "light"
     },
     "output_type": "display_data"
    }
   ],
   "source": [
    "sns.catplot(data=data, x=\"gender\", y=\"age\",hue=\"smoking_status\", kind=\"bar\")"
   ]
  },
  {
   "cell_type": "markdown",
   "id": "f6e4d214",
   "metadata": {
    "papermill": {
     "duration": 0.014648,
     "end_time": "2022-09-16T07:41:23.218952",
     "exception": false,
     "start_time": "2022-09-16T07:41:23.204304",
     "status": "completed"
    },
    "tags": []
   },
   "source": [
    "smoking status of all gender with age\n"
   ]
  },
  {
   "cell_type": "code",
   "execution_count": null,
   "id": "e1e290b9",
   "metadata": {
    "execution": {
     "iopub.execute_input": "2022-09-16T07:03:58.368213Z",
     "iopub.status.busy": "2022-09-16T07:03:58.367778Z",
     "iopub.status.idle": "2022-09-16T07:03:58.400026Z",
     "shell.execute_reply": "2022-09-16T07:03:58.398150Z",
     "shell.execute_reply.started": "2022-09-16T07:03:58.368177Z"
    },
    "papermill": {
     "duration": 0.014922,
     "end_time": "2022-09-16T07:41:23.249495",
     "exception": false,
     "start_time": "2022-09-16T07:41:23.234573",
     "status": "completed"
    },
    "tags": []
   },
   "outputs": [],
   "source": []
  },
  {
   "cell_type": "code",
   "execution_count": 22,
   "id": "d6b4dfc2",
   "metadata": {
    "execution": {
     "iopub.execute_input": "2022-09-16T07:41:23.282663Z",
     "iopub.status.busy": "2022-09-16T07:41:23.281981Z",
     "iopub.status.idle": "2022-09-16T07:41:25.213749Z",
     "shell.execute_reply": "2022-09-16T07:41:25.212554Z"
    },
    "papermill": {
     "duration": 1.951529,
     "end_time": "2022-09-16T07:41:25.216585",
     "exception": false,
     "start_time": "2022-09-16T07:41:23.265056",
     "status": "completed"
    },
    "tags": []
   },
   "outputs": [
    {
     "data": {
      "image/png": "[encoded data removed]",
      "text/plain": [
       "<Figure size 1296x720 with 1 Axes>"
      ]
     },
     "metadata": {},
     "output_type": "display_data"
    },
    {
     "data": {
      "image/png": "[encoded data removed]",
      "text/plain": [
       "<Figure size 1296x720 with 1 Axes>"
      ]
     },
     "metadata": {},
     "output_type": "display_data"
    },
    {
     "data": {
      "image/png": "[encoded data removed]",
      "text/plain": [
       "<Figure size 1296x720 with 1 Axes>"
      ]
     },
     "metadata": {},
     "output_type": "display_data"
    },
    {
     "data": {
      "image/png": "[encoded data removed]",
      "text/plain": [
       "<Figure size 1296x720 with 1 Axes>"
      ]
     },
     "metadata": {},
     "output_type": "display_data"
    },
    {
     "data": {
      "image/png": "[encoded data removed]",
      "text/plain": [
       "<Figure size 1296x720 with 1 Axes>"
      ]
     },
     "metadata": {},
     "output_type": "display_data"
    }
   ],
   "source": [
    "numeric_features = ['age', 'hypertension', 'heart_disease', 'avg_glucose_level', 'bmi']\n",
    "for feature in numeric_features:\n",
    "    plt.figure(figsize=(18, 10), facecolor='w')\n",
    "    sns.distplot(data[feature])\n",
    "    plt.title('{} Distribution'.format(feature), fontsize=20)\n",
    "    plt.show()"
   ]
  },
  {
   "cell_type": "markdown",
   "id": "af890ebe",
   "metadata": {
    "papermill": {
     "duration": 0.018169,
     "end_time": "2022-09-16T07:41:25.253072",
     "exception": false,
     "start_time": "2022-09-16T07:41:25.234903",
     "status": "completed"
    },
    "tags": []
   },
   "source": [
    "\n",
    "Among the numerical features:\n",
    "* `hypertension`  and `heart_disease` has a highly uneven distribution with the most data present in 0 \n",
    "* `avg_glucose_level` and `bmi` shows quite a bit and slight right skewness respectively."
   ]
  },
  {
   "cell_type": "markdown",
   "id": "e261d3b4",
   "metadata": {
    "papermill": {
     "duration": 0.017474,
     "end_time": "2022-09-16T07:41:25.288741",
     "exception": false,
     "start_time": "2022-09-16T07:41:25.271267",
     "status": "completed"
    },
    "tags": []
   },
   "source": [
    "# Feature Selection"
   ]
  },
  {
   "cell_type": "code",
   "execution_count": 23,
   "id": "2111b6bc",
   "metadata": {
    "execution": {
     "iopub.execute_input": "2022-09-16T07:41:25.326437Z",
     "iopub.status.busy": "2022-09-16T07:41:25.326037Z",
     "iopub.status.idle": "2022-09-16T07:41:25.341946Z",
     "shell.execute_reply": "2022-09-16T07:41:25.340840Z"
    },
    "papermill": {
     "duration": 0.038064,
     "end_time": "2022-09-16T07:41:25.344453",
     "exception": false,
     "start_time": "2022-09-16T07:41:25.306389",
     "status": "completed"
    },
    "tags": []
   },
   "outputs": [],
   "source": [
    "one_hot_encoded_training_predictors = pd.get_dummies(data)\n",
    "data=one_hot_encoded_training_predictors "
   ]
  },
  {
   "cell_type": "code",
   "execution_count": 24,
   "id": "2032253f",
   "metadata": {
    "execution": {
     "iopub.execute_input": "2022-09-16T07:41:25.382495Z",
     "iopub.status.busy": "2022-09-16T07:41:25.381494Z",
     "iopub.status.idle": "2022-09-16T07:41:25.391082Z",
     "shell.execute_reply": "2022-09-16T07:41:25.389155Z"
    },
    "papermill": {
     "duration": 0.03138,
     "end_time": "2022-09-16T07:41:25.393580",
     "exception": false,
     "start_time": "2022-09-16T07:41:25.362200",
     "status": "completed"
    },
    "tags": []
   },
   "outputs": [
    {
     "name": "stdout",
     "output_type": "stream",
     "text": [
      "X -  (5097, 11) \n",
      "y -  (5097,)\n"
     ]
    }
   ],
   "source": [
    "X=data.iloc[:,0:11]\n",
    "y=data.iloc[:,-1]\n",
    "print(\"X - \", X.shape, \"\\ny - \", y.shape)"
   ]
  },
  {
   "cell_type": "code",
   "execution_count": 25,
   "id": "845543d2",
   "metadata": {
    "execution": {
     "iopub.execute_input": "2022-09-16T07:41:25.431405Z",
     "iopub.status.busy": "2022-09-16T07:41:25.430973Z",
     "iopub.status.idle": "2022-09-16T07:41:25.442663Z",
     "shell.execute_reply": "2022-09-16T07:41:25.441721Z"
    },
    "papermill": {
     "duration": 0.033719,
     "end_time": "2022-09-16T07:41:25.445149",
     "exception": false,
     "start_time": "2022-09-16T07:41:25.411430",
     "status": "completed"
    },
    "tags": []
   },
   "outputs": [],
   "source": [
    "#Apply SelectKBest\n",
    "best=SelectKBest(score_func=chi2, k=10)\n",
    "fit=best.fit(X,y)"
   ]
  },
  {
   "cell_type": "code",
   "execution_count": 26,
   "id": "1d78ecad",
   "metadata": {
    "execution": {
     "iopub.execute_input": "2022-09-16T07:41:25.483979Z",
     "iopub.status.busy": "2022-09-16T07:41:25.483268Z",
     "iopub.status.idle": "2022-09-16T07:41:25.488501Z",
     "shell.execute_reply": "2022-09-16T07:41:25.487702Z"
    },
    "papermill": {
     "duration": 0.027306,
     "end_time": "2022-09-16T07:41:25.490649",
     "exception": false,
     "start_time": "2022-09-16T07:41:25.463343",
     "status": "completed"
    },
    "tags": []
   },
   "outputs": [],
   "source": [
    "data_scores=pd.DataFrame(fit.scores_)\n",
    "data_columns=pd.DataFrame(X.columns)"
   ]
  },
  {
   "cell_type": "code",
   "execution_count": 27,
   "id": "2c50944e",
   "metadata": {
    "execution": {
     "iopub.execute_input": "2022-09-16T07:41:25.528568Z",
     "iopub.status.busy": "2022-09-16T07:41:25.527849Z",
     "iopub.status.idle": "2022-09-16T07:41:25.538440Z",
     "shell.execute_reply": "2022-09-16T07:41:25.537000Z"
    },
    "papermill": {
     "duration": 0.032591,
     "end_time": "2022-09-16T07:41:25.540993",
     "exception": false,
     "start_time": "2022-09-16T07:41:25.508402",
     "status": "completed"
    },
    "tags": []
   },
   "outputs": [
    {
     "name": "stdout",
     "output_type": "stream",
     "text": [
      "              Feature       Score\n",
      "1                 age  320.032413\n",
      "5                 bmi   69.485676\n",
      "10    ever_married_No   37.249952\n",
      "4   avg_glucose_level   27.887130\n",
      "3       heart_disease    9.509764\n",
      "0                  id    4.797043\n",
      "2        hypertension    3.536518\n",
      "8         gender_Male    0.513156\n",
      "6              stroke    0.410864\n",
      "7       gender_Female    0.353557\n",
      "9        gender_Other    0.182050\n"
     ]
    }
   ],
   "source": [
    "scores=pd.concat([data_columns,data_scores],axis=1)\n",
    "scores.columns=['Feature','Score']\n",
    "print(scores.nlargest(11,'Score'))"
   ]
  },
  {
   "cell_type": "code",
   "execution_count": 28,
   "id": "75dc5622",
   "metadata": {
    "execution": {
     "iopub.execute_input": "2022-09-16T07:41:25.579905Z",
     "iopub.status.busy": "2022-09-16T07:41:25.579198Z",
     "iopub.status.idle": "2022-09-16T07:41:25.586209Z",
     "shell.execute_reply": "2022-09-16T07:41:25.585335Z"
    },
    "papermill": {
     "duration": 0.028412,
     "end_time": "2022-09-16T07:41:25.588203",
     "exception": false,
     "start_time": "2022-09-16T07:41:25.559791",
     "status": "completed"
    },
    "tags": []
   },
   "outputs": [
    {
     "data": {
      "text/plain": [
       "['id',\n",
       " 'age',\n",
       " 'hypertension',\n",
       " 'heart_disease',\n",
       " 'avg_glucose_level',\n",
       " 'bmi',\n",
       " 'stroke',\n",
       " 'gender_Female',\n",
       " 'gender_Male',\n",
       " 'gender_Other']"
      ]
     },
     "execution_count": 28,
     "metadata": {},
     "output_type": "execute_result"
    }
   ],
   "source": [
    "#Select 10 features\n",
    "features=scores[\"Feature\"].tolist()[:10]\n",
    "features"
   ]
  },
  {
   "cell_type": "markdown",
   "id": "1196e072",
   "metadata": {
    "papermill": {
     "duration": 0.01765,
     "end_time": "2022-09-16T07:41:25.623679",
     "exception": false,
     "start_time": "2022-09-16T07:41:25.606029",
     "status": "completed"
    },
    "tags": []
   },
   "source": [
    "# Feature Splitting and Scaling"
   ]
  },
  {
   "cell_type": "code",
   "execution_count": 29,
   "id": "ecb92819",
   "metadata": {
    "execution": {
     "iopub.execute_input": "2022-09-16T07:41:25.661810Z",
     "iopub.status.busy": "2022-09-16T07:41:25.661351Z",
     "iopub.status.idle": "2022-09-16T07:41:25.671895Z",
     "shell.execute_reply": "2022-09-16T07:41:25.670649Z"
    },
    "papermill": {
     "duration": 0.033122,
     "end_time": "2022-09-16T07:41:25.674708",
     "exception": false,
     "start_time": "2022-09-16T07:41:25.641586",
     "status": "completed"
    },
    "tags": []
   },
   "outputs": [],
   "source": [
    "y = data['stroke']\n",
    "X = data.drop(['stroke'], axis=1)\n",
    "train_x, test_x, train_y, test_y = train_test_split(X, y, test_size=0.4, random_state=1)"
   ]
  },
  {
   "cell_type": "code",
   "execution_count": 30,
   "id": "fd1a710a",
   "metadata": {
    "execution": {
     "iopub.execute_input": "2022-09-16T07:41:25.713834Z",
     "iopub.status.busy": "2022-09-16T07:41:25.712982Z",
     "iopub.status.idle": "2022-09-16T07:41:25.725061Z",
     "shell.execute_reply": "2022-09-16T07:41:25.724096Z"
    },
    "papermill": {
     "duration": 0.034549,
     "end_time": "2022-09-16T07:41:25.727439",
     "exception": false,
     "start_time": "2022-09-16T07:41:25.692890",
     "status": "completed"
    },
    "tags": []
   },
   "outputs": [],
   "source": [
    "scaler = MinMaxScaler()\n",
    "train_x = scaler.fit_transform(train_x)\n",
    "test_x = scaler.transform(test_x)"
   ]
  },
  {
   "cell_type": "markdown",
   "id": "897a0d66",
   "metadata": {
    "papermill": {
     "duration": 0.017696,
     "end_time": "2022-09-16T07:41:25.763135",
     "exception": false,
     "start_time": "2022-09-16T07:41:25.745439",
     "status": "completed"
    },
    "tags": []
   },
   "source": [
    "# Predictive Modeling"
   ]
  },
  {
   "cell_type": "code",
   "execution_count": 31,
   "id": "cad86ba9",
   "metadata": {
    "execution": {
     "iopub.execute_input": "2022-09-16T07:41:25.802667Z",
     "iopub.status.busy": "2022-09-16T07:41:25.801574Z",
     "iopub.status.idle": "2022-09-16T07:41:25.884993Z",
     "shell.execute_reply": "2022-09-16T07:41:25.883707Z"
    },
    "papermill": {
     "duration": 0.11028,
     "end_time": "2022-09-16T07:41:25.891851",
     "exception": false,
     "start_time": "2022-09-16T07:41:25.781571",
     "status": "completed"
    },
    "tags": []
   },
   "outputs": [
    {
     "name": "stdout",
     "output_type": "stream",
     "text": [
      "confussion matrix\n",
      "[[1934    0]\n",
      " [ 105    0]]\n",
      "\n",
      "\n",
      "Accuracy of Logistic Regression: 94.85041687101521 \n",
      "\n",
      "              precision    recall  f1-score   support\n",
      "\n",
      "           0       0.95      1.00      0.97      1934\n",
      "           1       0.00      0.00      0.00       105\n",
      "\n",
      "    accuracy                           0.95      2039\n",
      "   macro avg       0.47      0.50      0.49      2039\n",
      "weighted avg       0.90      0.95      0.92      2039\n",
      "\n"
     ]
    }
   ],
   "source": [
    " from sklearn.linear_model import LogisticRegression\n",
    "m1 = 'LogisticRegression'\n",
    "lr = LogisticRegression(random_state=1, max_iter=1000)\n",
    "model = lr.fit(train_x, train_y)\n",
    "lr_predict = lr.predict(test_x)\n",
    "lr_conf_matrix = confusion_matrix(test_y, lr_predict)\n",
    "lr_acc_score = accuracy_score(test_y, lr_predict)\n",
    "print(\"confussion matrix\")\n",
    "print(lr_conf_matrix)\n",
    "print(\"\\n\")\n",
    "print(\"Accuracy of Logistic Regression:\",lr_acc_score*100,'\\n')\n",
    "print(classification_report(test_y,lr_predict))"
   ]
  },
  {
   "cell_type": "code",
   "execution_count": 32,
   "id": "0ca15a42",
   "metadata": {
    "execution": {
     "iopub.execute_input": "2022-09-16T07:41:25.986555Z",
     "iopub.status.busy": "2022-09-16T07:41:25.985394Z",
     "iopub.status.idle": "2022-09-16T07:41:26.193829Z",
     "shell.execute_reply": "2022-09-16T07:41:26.192594Z"
    },
    "papermill": {
     "duration": 0.257355,
     "end_time": "2022-09-16T07:41:26.196464",
     "exception": false,
     "start_time": "2022-09-16T07:41:25.939109",
     "status": "completed"
    },
    "tags": []
   },
   "outputs": [
    {
     "name": "stdout",
     "output_type": "stream",
     "text": [
      "confussion matrix\n",
      "[[1867   67]\n",
      " [  91   14]]\n",
      "\n",
      "\n",
      "Accuracy of k-NN Classification: 92.25110348209907 \n",
      "\n",
      "              precision    recall  f1-score   support\n",
      "\n",
      "           0       0.95      0.97      0.96      1934\n",
      "           1       0.17      0.13      0.15       105\n",
      "\n",
      "    accuracy                           0.92      2039\n",
      "   macro avg       0.56      0.55      0.55      2039\n",
      "weighted avg       0.91      0.92      0.92      2039\n",
      "\n"
     ]
    }
   ],
   "source": [
    "m2 = 'KNeighborsClassifier'\n",
    "knn = KNeighborsClassifier(n_neighbors=1)\n",
    "model = knn.fit(train_x, train_y)\n",
    "knn_predict = knn.predict(test_x)\n",
    "knn_conf_matrix = confusion_matrix(test_y, knn_predict)\n",
    "knn_acc_score = accuracy_score(test_y, knn_predict)\n",
    "print(\"confussion matrix\")\n",
    "print(knn_conf_matrix)\n",
    "print(\"\\n\")\n",
    "print(\"Accuracy of k-NN Classification:\",knn_acc_score*100,'\\n')\n",
    "print(classification_report(test_y, knn_predict))"
   ]
  },
  {
   "cell_type": "code",
   "execution_count": 33,
   "id": "725ffac3",
   "metadata": {
    "execution": {
     "iopub.execute_input": "2022-09-16T07:41:26.236066Z",
     "iopub.status.busy": "2022-09-16T07:41:26.234986Z",
     "iopub.status.idle": "2022-09-16T07:41:27.059646Z",
     "shell.execute_reply": "2022-09-16T07:41:27.057720Z"
    },
    "papermill": {
     "duration": 0.847717,
     "end_time": "2022-09-16T07:41:27.062631",
     "exception": false,
     "start_time": "2022-09-16T07:41:26.214914",
     "status": "completed"
    },
    "tags": []
   },
   "outputs": [
    {
     "name": "stdout",
     "output_type": "stream",
     "text": [
      "confussion matrix\n",
      "[[1934    0]\n",
      " [ 105    0]]\n",
      "\n",
      "\n",
      "Accuracy of Random Forest: 94.85041687101521 \n",
      "\n",
      "              precision    recall  f1-score   support\n",
      "\n",
      "           0       0.95      1.00      0.97      1934\n",
      "           1       0.00      0.00      0.00       105\n",
      "\n",
      "    accuracy                           0.95      2039\n",
      "   macro avg       0.47      0.50      0.49      2039\n",
      "weighted avg       0.90      0.95      0.92      2039\n",
      "\n"
     ]
    }
   ],
   "source": [
    "m3 = 'Random Forest Classfier'\n",
    "rf = RandomForestClassifier(n_estimators=200, random_state=0,max_depth=12)\n",
    "rf.fit(train_x,train_y)\n",
    "rf_predicted = rf.predict(test_x)\n",
    "rf_conf_matrix = confusion_matrix(test_y, rf_predicted)\n",
    "rf_acc_score = accuracy_score(test_y, rf_predicted)\n",
    "print(\"confussion matrix\")\n",
    "print(rf_conf_matrix)\n",
    "print(\"\\n\")\n",
    "print(\"Accuracy of Random Forest:\",rf_acc_score*100,'\\n')\n",
    "print(classification_report(test_y,rf_predicted))"
   ]
  },
  {
   "cell_type": "code",
   "execution_count": 34,
   "id": "c94d99f1",
   "metadata": {
    "execution": {
     "iopub.execute_input": "2022-09-16T07:41:27.105410Z",
     "iopub.status.busy": "2022-09-16T07:41:27.105028Z",
     "iopub.status.idle": "2022-09-16T07:41:27.138002Z",
     "shell.execute_reply": "2022-09-16T07:41:27.136624Z"
    },
    "papermill": {
     "duration": 0.05657,
     "end_time": "2022-09-16T07:41:27.140922",
     "exception": false,
     "start_time": "2022-09-16T07:41:27.084352",
     "status": "completed"
    },
    "tags": []
   },
   "outputs": [
    {
     "name": "stdout",
     "output_type": "stream",
     "text": [
      "confussion matrix\n",
      "[[1860   74]\n",
      " [  90   15]]\n",
      "\n",
      "\n",
      "Accuracy of DecisionTreeClassifier: 91.95684158901423 \n",
      "\n",
      "              precision    recall  f1-score   support\n",
      "\n",
      "           0       0.95      0.96      0.96      1934\n",
      "           1       0.17      0.14      0.15       105\n",
      "\n",
      "    accuracy                           0.92      2039\n",
      "   macro avg       0.56      0.55      0.56      2039\n",
      "weighted avg       0.91      0.92      0.92      2039\n",
      "\n"
     ]
    }
   ],
   "source": [
    "m4 = 'DecisionTreeClassifier'\n",
    "dt = DecisionTreeClassifier(criterion = 'entropy',random_state=0,max_depth = 30)\n",
    "dt.fit(train_x,train_y)\n",
    "dt_predicted = dt.predict(test_x)\n",
    "dt_conf_matrix = confusion_matrix(test_y, dt_predicted)\n",
    "dt_acc_score = accuracy_score(test_y, dt_predicted)\n",
    "print(\"confussion matrix\")\n",
    "print(dt_conf_matrix)\n",
    "print(\"\\n\")\n",
    "print(\"Accuracy of DecisionTreeClassifier:\",dt_acc_score*100,'\\n')\n",
    "print(classification_report(test_y,dt_predicted))"
   ]
  },
  {
   "cell_type": "code",
   "execution_count": 35,
   "id": "18028f0b",
   "metadata": {
    "execution": {
     "iopub.execute_input": "2022-09-16T07:41:27.179979Z",
     "iopub.status.busy": "2022-09-16T07:41:27.179568Z",
     "iopub.status.idle": "2022-09-16T07:41:27.731351Z",
     "shell.execute_reply": "2022-09-16T07:41:27.729682Z"
    },
    "papermill": {
     "duration": 0.57527,
     "end_time": "2022-09-16T07:41:27.734669",
     "exception": false,
     "start_time": "2022-09-16T07:41:27.159399",
     "status": "completed"
    },
    "tags": []
   },
   "outputs": [
    {
     "name": "stdout",
     "output_type": "stream",
     "text": [
      "confussion matrix\n",
      "[[1922   12]\n",
      " [ 103    2]]\n",
      "\n",
      "\n",
      "Accuracy of Gradient Boosting Classifier: 94.35998038254047 \n",
      "\n",
      "              precision    recall  f1-score   support\n",
      "\n",
      "           0       0.95      0.99      0.97      1934\n",
      "           1       0.14      0.02      0.03       105\n",
      "\n",
      "    accuracy                           0.94      2039\n",
      "   macro avg       0.55      0.51      0.50      2039\n",
      "weighted avg       0.91      0.94      0.92      2039\n",
      "\n"
     ]
    }
   ],
   "source": [
    "m5 = 'Gradient Boosting Classifier'\n",
    "gvc =  GradientBoostingClassifier()\n",
    "gvc.fit(train_x,train_y)\n",
    "gvc_predicted = gvc.predict(test_x)\n",
    "gvc_conf_matrix = confusion_matrix(test_y, gvc_predicted)\n",
    "gvc_acc_score = accuracy_score(test_y, gvc_predicted)\n",
    "print(\"confussion matrix\")\n",
    "print(gvc_conf_matrix)\n",
    "print(\"\\n\")\n",
    "print(\"Accuracy of Gradient Boosting Classifier:\",gvc_acc_score*100,'\\n')\n",
    "print(classification_report(test_y,gvc_predicted))"
   ]
  },
  {
   "cell_type": "markdown",
   "id": "5900aff3",
   "metadata": {
    "papermill": {
     "duration": 0.01879,
     "end_time": "2022-09-16T07:41:27.772696",
     "exception": false,
     "start_time": "2022-09-16T07:41:27.753906",
     "status": "completed"
    },
    "tags": []
   },
   "source": [
    "# **Model comparison**"
   ]
  },
  {
   "cell_type": "code",
   "execution_count": 36,
   "id": "48d81f01",
   "metadata": {
    "execution": {
     "iopub.execute_input": "2022-09-16T07:41:27.812012Z",
     "iopub.status.busy": "2022-09-16T07:41:27.811477Z",
     "iopub.status.idle": "2022-09-16T07:41:27.824677Z",
     "shell.execute_reply": "2022-09-16T07:41:27.823429Z"
    },
    "papermill": {
     "duration": 0.035453,
     "end_time": "2022-09-16T07:41:27.826949",
     "exception": false,
     "start_time": "2022-09-16T07:41:27.791496",
     "status": "completed"
    },
    "tags": []
   },
   "outputs": [
    {
     "data": {
      "text/html": [
       "<div>\n",
       "<style scoped>\n",
       "    .dataframe tbody tr th:only-of-type {\n",
       "        vertical-align: middle;\n",
       "    }\n",
       "\n",
       "    .dataframe tbody tr th {\n",
       "        vertical-align: top;\n",
       "    }\n",
       "\n",
       "    .dataframe thead th {\n",
       "        text-align: right;\n",
       "    }\n",
       "</style>\n",
       "<table border=\"1\" class=\"dataframe\">\n",
       "  <thead>\n",
       "    <tr style=\"text-align: right;\">\n",
       "      <th></th>\n",
       "      <th>Model</th>\n",
       "      <th>Accuracy</th>\n",
       "    </tr>\n",
       "  </thead>\n",
       "  <tbody>\n",
       "    <tr>\n",
       "      <th>0</th>\n",
       "      <td>Logistic Regression</td>\n",
       "      <td>94.850417</td>\n",
       "    </tr>\n",
       "    <tr>\n",
       "      <th>1</th>\n",
       "      <td>K-Nearest Neighbour</td>\n",
       "      <td>92.251103</td>\n",
       "    </tr>\n",
       "    <tr>\n",
       "      <th>2</th>\n",
       "      <td>Random Forest</td>\n",
       "      <td>94.850417</td>\n",
       "    </tr>\n",
       "    <tr>\n",
       "      <th>3</th>\n",
       "      <td>Decision Tree</td>\n",
       "      <td>91.956842</td>\n",
       "    </tr>\n",
       "    <tr>\n",
       "      <th>4</th>\n",
       "      <td>Gradient Boosting</td>\n",
       "      <td>94.359980</td>\n",
       "    </tr>\n",
       "  </tbody>\n",
       "</table>\n",
       "</div>"
      ],
      "text/plain": [
       "                 Model   Accuracy\n",
       "0  Logistic Regression  94.850417\n",
       "1  K-Nearest Neighbour  92.251103\n",
       "2        Random Forest  94.850417\n",
       "3        Decision Tree  91.956842\n",
       "4    Gradient Boosting  94.359980"
      ]
     },
     "execution_count": 36,
     "metadata": {},
     "output_type": "execute_result"
    }
   ],
   "source": [
    "model_ev = pd.DataFrame({'Model': ['Logistic Regression','K-Nearest Neighbour','Random Forest',\n",
    "                                   'Decision Tree','Gradient Boosting'], 'Accuracy': [lr_acc_score*100, knn_acc_score*100, \n",
    "                                                                                      rf_acc_score*100, dt_acc_score*100,gvc_acc_score*100]})\n",
    "model_ev"
   ]
  },
  {
   "cell_type": "code",
   "execution_count": null,
   "id": "cad81897",
   "metadata": {
    "papermill": {
     "duration": 0.018507,
     "end_time": "2022-09-16T07:41:27.864416",
     "exception": false,
     "start_time": "2022-09-16T07:41:27.845909",
     "status": "completed"
    },
    "tags": []
   },
   "outputs": [],
   "source": []
  }
 ],
 "metadata": {
  "kernelspec": {
   "display_name": "Python 3",
   "language": "python",
   "name": "python3"
  },
  "language_info": {
   "codemirror_mode": {
    "name": "ipython",
    "version": 3
   },
   "file_extension": ".py",
   "mimetype": "text/x-python",
   "name": "python",
   "nbconvert_exporter": "python",
   "pygments_lexer": "ipython3",
   "version": "3.7.12"
  },
  "papermill": {
   "default_parameters": {},
   "duration": 19.730958,
   "end_time": "2022-09-16T07:41:28.706627",
   "environment_variables": {},
   "exception": null,
   "input_path": "__notebook__.ipynb",
   "output_path": "__notebook__.ipynb",
   "parameters": {},
   "start_time": "2022-09-16T07:41:08.975669",
   "version": "2.3.4"
  }
 },
 "nbformat": 4,
 "nbformat_minor": 5
}

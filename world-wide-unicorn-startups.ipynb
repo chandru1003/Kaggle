{
 "cells": [
  {
   "cell_type": "code",
   "execution_count": 1,
   "id": "14108b5c",
   "metadata": {
    "_cell_guid": "b1076dfc-b9ad-4769-8c92-a6c4dae69d19",
    "_uuid": "8f2839f25d086af736a60e9eeb907d3b93b6e0e5",
    "execution": {
     "iopub.execute_input": "2022-09-08T08:05:35.411594Z",
     "iopub.status.busy": "2022-09-08T08:05:35.410940Z",
     "iopub.status.idle": "2022-09-08T08:05:35.428224Z",
     "shell.execute_reply": "2022-09-08T08:05:35.427168Z"
    },
    "papermill": {
     "duration": 0.031915,
     "end_time": "2022-09-08T08:05:35.430656",
     "exception": false,
     "start_time": "2022-09-08T08:05:35.398741",
     "status": "completed"
    },
    "tags": []
   },
   "outputs": [
    {
     "name": "stdout",
     "output_type": "stream",
     "text": [
      "/kaggle/input/world-wide-unicorn-startups/World_Wide_Unicorn_Startups.csv\n"
     ]
    }
   ],
   "source": [
    "# This Python 3 environment comes with many helpful analytics libraries installed\n",
    "# It is defined by the kaggle/python Docker image: https://github.com/kaggle/docker-python\n",
    "# For example, here's several helpful packages to load\n",
    "\n",
    "import numpy as np # linear algebra\n",
    "import pandas as pd # data processing, CSV file I/O (e.g. pd.read_csv)\n",
    "\n",
    "# Input data files are available in the read-only \"../input/\" directory\n",
    "# For example, running this (by clicking run or pressing Shift+Enter) will list all files under the input directory\n",
    "\n",
    "import os\n",
    "for dirname, _, filenames in os.walk('/kaggle/input'):\n",
    "    for filename in filenames:\n",
    "        print(os.path.join(dirname, filename))\n",
    "\n",
    "# You can write up to 20GB to the current directory (/kaggle/working/) that gets preserved as output when you create a version using \"Save & Run All\" \n",
    "# You can also write temporary files to /kaggle/temp/, but they won't be saved outside of the current session"
   ]
  },
  {
   "cell_type": "markdown",
   "id": "a68fd548",
   "metadata": {
    "papermill": {
     "duration": 0.008344,
     "end_time": "2022-09-08T08:05:35.448296",
     "exception": false,
     "start_time": "2022-09-08T08:05:35.439952",
     "status": "completed"
    },
    "tags": []
   },
   "source": [
    "# Reading Dataset "
   ]
  },
  {
   "cell_type": "code",
   "execution_count": 2,
   "id": "90c41397",
   "metadata": {
    "execution": {
     "iopub.execute_input": "2022-09-08T08:05:35.467817Z",
     "iopub.status.busy": "2022-09-08T08:05:35.467084Z",
     "iopub.status.idle": "2022-09-08T08:05:36.252759Z",
     "shell.execute_reply": "2022-09-08T08:05:36.251548Z"
    },
    "papermill": {
     "duration": 0.79866,
     "end_time": "2022-09-08T08:05:36.255615",
     "exception": false,
     "start_time": "2022-09-08T08:05:35.456955",
     "status": "completed"
    },
    "tags": []
   },
   "outputs": [],
   "source": [
    "data=pd.read_csv('/kaggle/input/world-wide-unicorn-startups/World_Wide_Unicorn_Startups.csv')"
   ]
  },
  {
   "cell_type": "code",
   "execution_count": 3,
   "id": "0afb1c9f",
   "metadata": {
    "execution": {
     "iopub.execute_input": "2022-09-08T08:05:36.279845Z",
     "iopub.status.busy": "2022-09-08T08:05:36.279148Z",
     "iopub.status.idle": "2022-09-08T08:05:36.291842Z",
     "shell.execute_reply": "2022-09-08T08:05:36.289585Z"
    },
    "papermill": {
     "duration": 0.027603,
     "end_time": "2022-09-08T08:05:36.294773",
     "exception": false,
     "start_time": "2022-09-08T08:05:36.267170",
     "status": "completed"
    },
    "tags": []
   },
   "outputs": [
    {
     "data": {
      "text/plain": [
       "(936, 10)"
      ]
     },
     "execution_count": 3,
     "metadata": {},
     "output_type": "execute_result"
    }
   ],
   "source": [
    "data.shape"
   ]
  },
  {
   "cell_type": "code",
   "execution_count": 4,
   "id": "a780c957",
   "metadata": {
    "execution": {
     "iopub.execute_input": "2022-09-08T08:05:36.321180Z",
     "iopub.status.busy": "2022-09-08T08:05:36.319614Z",
     "iopub.status.idle": "2022-09-08T08:05:36.355674Z",
     "shell.execute_reply": "2022-09-08T08:05:36.354588Z"
    },
    "papermill": {
     "duration": 0.052706,
     "end_time": "2022-09-08T08:05:36.358216",
     "exception": false,
     "start_time": "2022-09-08T08:05:36.305510",
     "status": "completed"
    },
    "tags": []
   },
   "outputs": [
    {
     "data": {
      "text/html": [
       "<div>\n",
       "<style scoped>\n",
       "    .dataframe tbody tr th:only-of-type {\n",
       "        vertical-align: middle;\n",
       "    }\n",
       "\n",
       "    .dataframe tbody tr th {\n",
       "        vertical-align: top;\n",
       "    }\n",
       "\n",
       "    .dataframe thead th {\n",
       "        text-align: right;\n",
       "    }\n",
       "</style>\n",
       "<table border=\"1\" class=\"dataframe\">\n",
       "  <thead>\n",
       "    <tr style=\"text-align: right;\">\n",
       "      <th></th>\n",
       "      <th>Company</th>\n",
       "      <th>Valuation</th>\n",
       "      <th>Date</th>\n",
       "      <th>Country</th>\n",
       "      <th>City</th>\n",
       "      <th>Industry</th>\n",
       "      <th>Investors</th>\n",
       "      <th>year</th>\n",
       "      <th>month</th>\n",
       "      <th>day</th>\n",
       "    </tr>\n",
       "  </thead>\n",
       "  <tbody>\n",
       "    <tr>\n",
       "      <th>0</th>\n",
       "      <td>Bytedance</td>\n",
       "      <td>140.0</td>\n",
       "      <td>4/7/2017</td>\n",
       "      <td>China</td>\n",
       "      <td>Beijing</td>\n",
       "      <td>Artificial intelligence</td>\n",
       "      <td>0      Sequoia Capital China, SIG Asia Investm...</td>\n",
       "      <td>2017</td>\n",
       "      <td>7</td>\n",
       "      <td>4</td>\n",
       "    </tr>\n",
       "    <tr>\n",
       "      <th>1</th>\n",
       "      <td>SpaceX</td>\n",
       "      <td>100.3</td>\n",
       "      <td>12/1/2012</td>\n",
       "      <td>United States</td>\n",
       "      <td>Hawthorne</td>\n",
       "      <td>Other</td>\n",
       "      <td>0      Sequoia Capital China, SIG Asia Investm...</td>\n",
       "      <td>2012</td>\n",
       "      <td>1</td>\n",
       "      <td>12</td>\n",
       "    </tr>\n",
       "    <tr>\n",
       "      <th>2</th>\n",
       "      <td>Stripe</td>\n",
       "      <td>95.0</td>\n",
       "      <td>1/23/2014</td>\n",
       "      <td>United States</td>\n",
       "      <td>San Francisco</td>\n",
       "      <td>Fintech</td>\n",
       "      <td>0      Sequoia Capital China, SIG Asia Investm...</td>\n",
       "      <td>2014</td>\n",
       "      <td>23</td>\n",
       "      <td>1</td>\n",
       "    </tr>\n",
       "    <tr>\n",
       "      <th>3</th>\n",
       "      <td>Klarna</td>\n",
       "      <td>45.6</td>\n",
       "      <td>12/12/2011</td>\n",
       "      <td>Sweden</td>\n",
       "      <td>Stockholm</td>\n",
       "      <td>Fintech</td>\n",
       "      <td>0      Sequoia Capital China, SIG Asia Investm...</td>\n",
       "      <td>2011</td>\n",
       "      <td>12</td>\n",
       "      <td>12</td>\n",
       "    </tr>\n",
       "    <tr>\n",
       "      <th>4</th>\n",
       "      <td>Canva</td>\n",
       "      <td>40.0</td>\n",
       "      <td>1/8/2018</td>\n",
       "      <td>Australia</td>\n",
       "      <td>Surry Hills</td>\n",
       "      <td>Internet software &amp; services</td>\n",
       "      <td>0      Sequoia Capital China, SIG Asia Investm...</td>\n",
       "      <td>2018</td>\n",
       "      <td>8</td>\n",
       "      <td>1</td>\n",
       "    </tr>\n",
       "  </tbody>\n",
       "</table>\n",
       "</div>"
      ],
      "text/plain": [
       "     Company  Valuation        Date        Country           City  \\\n",
       "0  Bytedance      140.0    4/7/2017          China        Beijing   \n",
       "1     SpaceX      100.3   12/1/2012  United States      Hawthorne   \n",
       "2     Stripe       95.0   1/23/2014  United States  San Francisco   \n",
       "3     Klarna       45.6  12/12/2011         Sweden      Stockholm   \n",
       "4      Canva       40.0    1/8/2018      Australia    Surry Hills   \n",
       "\n",
       "                       Industry  \\\n",
       "0       Artificial intelligence   \n",
       "1                         Other   \n",
       "2                       Fintech   \n",
       "3                       Fintech   \n",
       "4  Internet software & services   \n",
       "\n",
       "                                           Investors  year  month  day  \n",
       "0  0      Sequoia Capital China, SIG Asia Investm...  2017      7    4  \n",
       "1  0      Sequoia Capital China, SIG Asia Investm...  2012      1   12  \n",
       "2  0      Sequoia Capital China, SIG Asia Investm...  2014     23    1  \n",
       "3  0      Sequoia Capital China, SIG Asia Investm...  2011     12   12  \n",
       "4  0      Sequoia Capital China, SIG Asia Investm...  2018      8    1  "
      ]
     },
     "execution_count": 4,
     "metadata": {},
     "output_type": "execute_result"
    }
   ],
   "source": [
    "data.head(5)\n"
   ]
  },
  {
   "cell_type": "code",
   "execution_count": 5,
   "id": "af2537b4",
   "metadata": {
    "execution": {
     "iopub.execute_input": "2022-09-08T08:05:36.381854Z",
     "iopub.status.busy": "2022-09-08T08:05:36.381051Z",
     "iopub.status.idle": "2022-09-08T08:05:36.388502Z",
     "shell.execute_reply": "2022-09-08T08:05:36.387450Z"
    },
    "papermill": {
     "duration": 0.022548,
     "end_time": "2022-09-08T08:05:36.390772",
     "exception": false,
     "start_time": "2022-09-08T08:05:36.368224",
     "status": "completed"
    },
    "tags": []
   },
   "outputs": [
    {
     "data": {
      "text/plain": [
       "Index(['Company', 'Valuation', 'Date', 'Country', 'City', 'Industry',\n",
       "       'Investors', 'year', 'month', 'day'],\n",
       "      dtype='object')"
      ]
     },
     "execution_count": 5,
     "metadata": {},
     "output_type": "execute_result"
    }
   ],
   "source": [
    "data.columns"
   ]
  },
  {
   "cell_type": "code",
   "execution_count": 6,
   "id": "5c043bd0",
   "metadata": {
    "execution": {
     "iopub.execute_input": "2022-09-08T08:05:36.412572Z",
     "iopub.status.busy": "2022-09-08T08:05:36.411706Z",
     "iopub.status.idle": "2022-09-08T08:05:36.441298Z",
     "shell.execute_reply": "2022-09-08T08:05:36.440122Z"
    },
    "papermill": {
     "duration": 0.044188,
     "end_time": "2022-09-08T08:05:36.444713",
     "exception": false,
     "start_time": "2022-09-08T08:05:36.400525",
     "status": "completed"
    },
    "tags": []
   },
   "outputs": [
    {
     "name": "stdout",
     "output_type": "stream",
     "text": [
      "<class 'pandas.core.frame.DataFrame'>\n",
      "RangeIndex: 936 entries, 0 to 935\n",
      "Data columns (total 10 columns):\n",
      " #   Column     Non-Null Count  Dtype  \n",
      "---  ------     --------------  -----  \n",
      " 0   Company    936 non-null    object \n",
      " 1   Valuation  936 non-null    float64\n",
      " 2   Date       936 non-null    object \n",
      " 3   Country    936 non-null    object \n",
      " 4   City       921 non-null    object \n",
      " 5   Industry   936 non-null    object \n",
      " 6   Investors  936 non-null    object \n",
      " 7   year       936 non-null    int64  \n",
      " 8   month      936 non-null    int64  \n",
      " 9   day        936 non-null    int64  \n",
      "dtypes: float64(1), int64(3), object(6)\n",
      "memory usage: 73.2+ KB\n"
     ]
    }
   ],
   "source": [
    "data.info()"
   ]
  },
  {
   "cell_type": "markdown",
   "id": "851315e4",
   "metadata": {
    "papermill": {
     "duration": 0.010421,
     "end_time": "2022-09-08T08:05:36.468875",
     "exception": false,
     "start_time": "2022-09-08T08:05:36.458454",
     "status": "completed"
    },
    "tags": []
   },
   "source": [
    "# Data Inspecting and Cleaning "
   ]
  },
  {
   "cell_type": "code",
   "execution_count": 7,
   "id": "e3def8cf",
   "metadata": {
    "execution": {
     "iopub.execute_input": "2022-09-08T08:05:36.497090Z",
     "iopub.status.busy": "2022-09-08T08:05:36.495835Z",
     "iopub.status.idle": "2022-09-08T08:05:36.507440Z",
     "shell.execute_reply": "2022-09-08T08:05:36.506149Z"
    },
    "papermill": {
     "duration": 0.028252,
     "end_time": "2022-09-08T08:05:36.509856",
     "exception": false,
     "start_time": "2022-09-08T08:05:36.481604",
     "status": "completed"
    },
    "tags": []
   },
   "outputs": [
    {
     "data": {
      "text/plain": [
       "Company       0\n",
       "Valuation     0\n",
       "Date          0\n",
       "Country       0\n",
       "City         15\n",
       "Industry      0\n",
       "Investors     0\n",
       "year          0\n",
       "month         0\n",
       "day           0\n",
       "dtype: int64"
      ]
     },
     "execution_count": 7,
     "metadata": {},
     "output_type": "execute_result"
    }
   ],
   "source": [
    "data.isnull().sum()"
   ]
  },
  {
   "cell_type": "code",
   "execution_count": 8,
   "id": "72107603",
   "metadata": {
    "execution": {
     "iopub.execute_input": "2022-09-08T08:05:36.530738Z",
     "iopub.status.busy": "2022-09-08T08:05:36.530323Z",
     "iopub.status.idle": "2022-09-08T08:05:36.610401Z",
     "shell.execute_reply": "2022-09-08T08:05:36.609138Z"
    },
    "papermill": {
     "duration": 0.093975,
     "end_time": "2022-09-08T08:05:36.613614",
     "exception": false,
     "start_time": "2022-09-08T08:05:36.519639",
     "status": "completed"
    },
    "tags": []
   },
   "outputs": [
    {
     "data": {
      "text/plain": [
       "0"
      ]
     },
     "execution_count": 8,
     "metadata": {},
     "output_type": "execute_result"
    }
   ],
   "source": [
    "data.duplicated().sum()"
   ]
  },
  {
   "cell_type": "code",
   "execution_count": 9,
   "id": "f5401658",
   "metadata": {
    "execution": {
     "iopub.execute_input": "2022-09-08T08:05:36.645118Z",
     "iopub.status.busy": "2022-09-08T08:05:36.643845Z",
     "iopub.status.idle": "2022-09-08T08:05:36.659688Z",
     "shell.execute_reply": "2022-09-08T08:05:36.658823Z"
    },
    "papermill": {
     "duration": 0.034165,
     "end_time": "2022-09-08T08:05:36.662510",
     "exception": false,
     "start_time": "2022-09-08T08:05:36.628345",
     "status": "completed"
    },
    "tags": []
   },
   "outputs": [
    {
     "data": {
      "text/plain": [
       "Company      0\n",
       "Valuation    0\n",
       "Date         0\n",
       "Country      0\n",
       "City         0\n",
       "Industry     0\n",
       "Investors    0\n",
       "year         0\n",
       "month        0\n",
       "day          0\n",
       "dtype: int64"
      ]
     },
     "execution_count": 9,
     "metadata": {},
     "output_type": "execute_result"
    }
   ],
   "source": [
    "data.dropna(inplace=True)\n",
    "data.isnull().sum()"
   ]
  },
  {
   "cell_type": "code",
   "execution_count": 10,
   "id": "599d876e",
   "metadata": {
    "execution": {
     "iopub.execute_input": "2022-09-08T08:05:36.694137Z",
     "iopub.status.busy": "2022-09-08T08:05:36.692627Z",
     "iopub.status.idle": "2022-09-08T08:05:36.700556Z",
     "shell.execute_reply": "2022-09-08T08:05:36.699487Z"
    },
    "papermill": {
     "duration": 0.025789,
     "end_time": "2022-09-08T08:05:36.702766",
     "exception": false,
     "start_time": "2022-09-08T08:05:36.676977",
     "status": "completed"
    },
    "tags": []
   },
   "outputs": [
    {
     "data": {
      "text/plain": [
       "(921, 10)"
      ]
     },
     "execution_count": 10,
     "metadata": {},
     "output_type": "execute_result"
    }
   ],
   "source": [
    "data.shape"
   ]
  },
  {
   "cell_type": "code",
   "execution_count": 11,
   "id": "d2b21ad4",
   "metadata": {
    "execution": {
     "iopub.execute_input": "2022-09-08T08:05:36.727140Z",
     "iopub.status.busy": "2022-09-08T08:05:36.725910Z",
     "iopub.status.idle": "2022-09-08T08:05:38.062888Z",
     "shell.execute_reply": "2022-09-08T08:05:38.061590Z"
    },
    "papermill": {
     "duration": 1.353229,
     "end_time": "2022-09-08T08:05:38.065929",
     "exception": false,
     "start_time": "2022-09-08T08:05:36.712700",
     "status": "completed"
    },
    "tags": []
   },
   "outputs": [
    {
     "data": {
      "image/png": "[encoded data removed]",
      "text/plain": [
       "<Figure size 1440x720 with 1 Axes>"
      ]
     },
     "metadata": {},
     "output_type": "display_data"
    }
   ],
   "source": [
    "import seaborn as sns\n",
    "import matplotlib.pyplot as plt\n",
    "plt.figure(figsize=(20,10), facecolor='w')\n",
    "sns.boxplot(data=data)\n",
    "plt.show()"
   ]
  },
  {
   "cell_type": "markdown",
   "id": "a770bc9b",
   "metadata": {
    "papermill": {
     "duration": 0.009655,
     "end_time": "2022-09-08T08:05:38.085882",
     "exception": false,
     "start_time": "2022-09-08T08:05:38.076227",
     "status": "completed"
    },
    "tags": []
   },
   "source": [
    "no outlier is present"
   ]
  },
  {
   "cell_type": "markdown",
   "id": "de446390",
   "metadata": {
    "papermill": {
     "duration": 0.010303,
     "end_time": "2022-09-08T08:05:38.106164",
     "exception": false,
     "start_time": "2022-09-08T08:05:38.095861",
     "status": "completed"
    },
    "tags": []
   },
   "source": [
    "# Exploratory Data Analysis"
   ]
  },
  {
   "cell_type": "code",
   "execution_count": 12,
   "id": "348e6a78",
   "metadata": {
    "execution": {
     "iopub.execute_input": "2022-09-08T08:05:38.128370Z",
     "iopub.status.busy": "2022-09-08T08:05:38.127947Z",
     "iopub.status.idle": "2022-09-08T08:05:38.154035Z",
     "shell.execute_reply": "2022-09-08T08:05:38.152875Z"
    },
    "papermill": {
     "duration": 0.040117,
     "end_time": "2022-09-08T08:05:38.156565",
     "exception": false,
     "start_time": "2022-09-08T08:05:38.116448",
     "status": "completed"
    },
    "tags": []
   },
   "outputs": [
    {
     "data": {
      "text/html": [
       "<div>\n",
       "<style scoped>\n",
       "    .dataframe tbody tr th:only-of-type {\n",
       "        vertical-align: middle;\n",
       "    }\n",
       "\n",
       "    .dataframe tbody tr th {\n",
       "        vertical-align: top;\n",
       "    }\n",
       "\n",
       "    .dataframe thead th {\n",
       "        text-align: right;\n",
       "    }\n",
       "</style>\n",
       "<table border=\"1\" class=\"dataframe\">\n",
       "  <thead>\n",
       "    <tr style=\"text-align: right;\">\n",
       "      <th></th>\n",
       "      <th>Valuation</th>\n",
       "      <th>year</th>\n",
       "      <th>month</th>\n",
       "      <th>day</th>\n",
       "    </tr>\n",
       "  </thead>\n",
       "  <tbody>\n",
       "    <tr>\n",
       "      <th>count</th>\n",
       "      <td>921.000000</td>\n",
       "      <td>921.000000</td>\n",
       "      <td>921.000000</td>\n",
       "      <td>921.000000</td>\n",
       "    </tr>\n",
       "    <tr>\n",
       "      <th>mean</th>\n",
       "      <td>3.287904</td>\n",
       "      <td>2019.527687</td>\n",
       "      <td>15.704669</td>\n",
       "      <td>6.735071</td>\n",
       "    </tr>\n",
       "    <tr>\n",
       "      <th>std</th>\n",
       "      <td>7.495255</td>\n",
       "      <td>2.027942</td>\n",
       "      <td>8.646290</td>\n",
       "      <td>3.264659</td>\n",
       "    </tr>\n",
       "    <tr>\n",
       "      <th>min</th>\n",
       "      <td>1.000000</td>\n",
       "      <td>2007.000000</td>\n",
       "      <td>1.000000</td>\n",
       "      <td>1.000000</td>\n",
       "    </tr>\n",
       "    <tr>\n",
       "      <th>25%</th>\n",
       "      <td>1.080000</td>\n",
       "      <td>2018.000000</td>\n",
       "      <td>8.000000</td>\n",
       "      <td>4.000000</td>\n",
       "    </tr>\n",
       "    <tr>\n",
       "      <th>50%</th>\n",
       "      <td>1.600000</td>\n",
       "      <td>2021.000000</td>\n",
       "      <td>16.000000</td>\n",
       "      <td>7.000000</td>\n",
       "    </tr>\n",
       "    <tr>\n",
       "      <th>75%</th>\n",
       "      <td>3.000000</td>\n",
       "      <td>2021.000000</td>\n",
       "      <td>23.000000</td>\n",
       "      <td>10.000000</td>\n",
       "    </tr>\n",
       "    <tr>\n",
       "      <th>max</th>\n",
       "      <td>140.000000</td>\n",
       "      <td>2021.000000</td>\n",
       "      <td>31.000000</td>\n",
       "      <td>12.000000</td>\n",
       "    </tr>\n",
       "  </tbody>\n",
       "</table>\n",
       "</div>"
      ],
      "text/plain": [
       "        Valuation         year       month         day\n",
       "count  921.000000   921.000000  921.000000  921.000000\n",
       "mean     3.287904  2019.527687   15.704669    6.735071\n",
       "std      7.495255     2.027942    8.646290    3.264659\n",
       "min      1.000000  2007.000000    1.000000    1.000000\n",
       "25%      1.080000  2018.000000    8.000000    4.000000\n",
       "50%      1.600000  2021.000000   16.000000    7.000000\n",
       "75%      3.000000  2021.000000   23.000000   10.000000\n",
       "max    140.000000  2021.000000   31.000000   12.000000"
      ]
     },
     "execution_count": 12,
     "metadata": {},
     "output_type": "execute_result"
    }
   ],
   "source": [
    "data.describe()"
   ]
  },
  {
   "cell_type": "code",
   "execution_count": 13,
   "id": "a016cd2a",
   "metadata": {
    "execution": {
     "iopub.execute_input": "2022-09-08T08:05:38.179280Z",
     "iopub.status.busy": "2022-09-08T08:05:38.178865Z",
     "iopub.status.idle": "2022-09-08T08:05:38.186185Z",
     "shell.execute_reply": "2022-09-08T08:05:38.185247Z"
    },
    "papermill": {
     "duration": 0.021236,
     "end_time": "2022-09-08T08:05:38.188400",
     "exception": false,
     "start_time": "2022-09-08T08:05:38.167164",
     "status": "completed"
    },
    "tags": []
   },
   "outputs": [
    {
     "data": {
      "text/plain": [
       "array(['Artificial intelligence', 'Other', 'Fintech',\n",
       "       'Internet software & services',\n",
       "       'Supply chain, logistics, & delivery',\n",
       "       'Data management & analytics', 'Edtech',\n",
       "       'E-commerce & direct-to-consumer', 'Hardware', 'Health',\n",
       "       'Consumer & retail', 'Auto & transportation', 'Finttech',\n",
       "       'Cybersecurity', 'Mobile & telecommunications', 'Travel',\n",
       "       'Artificial Intelligence'], dtype=object)"
      ]
     },
     "execution_count": 13,
     "metadata": {},
     "output_type": "execute_result"
    }
   ],
   "source": [
    "data.Industry.unique()"
   ]
  },
  {
   "cell_type": "code",
   "execution_count": 14,
   "id": "325949c6",
   "metadata": {
    "execution": {
     "iopub.execute_input": "2022-09-08T08:05:38.211168Z",
     "iopub.status.busy": "2022-09-08T08:05:38.210750Z",
     "iopub.status.idle": "2022-09-08T08:05:38.218511Z",
     "shell.execute_reply": "2022-09-08T08:05:38.217248Z"
    },
    "papermill": {
     "duration": 0.021783,
     "end_time": "2022-09-08T08:05:38.220981",
     "exception": false,
     "start_time": "2022-09-08T08:05:38.199198",
     "status": "completed"
    },
    "tags": []
   },
   "outputs": [],
   "source": [
    "data[\"Industry\"]=data[\"Industry\"].apply(lambda x: \"Fintech\" if x==\"Finttech\" else x)\n",
    "data[\"Industry\"]=data[\"Industry\"].apply(lambda x: \"Artificial Intelligence\" if x==\"Artificial intelligence\" else x)"
   ]
  },
  {
   "cell_type": "code",
   "execution_count": 15,
   "id": "79db0ea9",
   "metadata": {
    "execution": {
     "iopub.execute_input": "2022-09-08T08:05:38.244198Z",
     "iopub.status.busy": "2022-09-08T08:05:38.243392Z",
     "iopub.status.idle": "2022-09-08T08:05:38.593932Z",
     "shell.execute_reply": "2022-09-08T08:05:38.593056Z"
    },
    "papermill": {
     "duration": 0.364685,
     "end_time": "2022-09-08T08:05:38.596276",
     "exception": false,
     "start_time": "2022-09-08T08:05:38.231591",
     "status": "completed"
    },
    "tags": []
   },
   "outputs": [
    {
     "data": {
      "text/plain": [
       "Text(0.5, 1.0, 'Industry with their Unicorn Stauts')"
      ]
     },
     "execution_count": 15,
     "metadata": {},
     "output_type": "execute_result"
    },
    {
     "data": {
      "image/png": "[encoded data removed]",
      "text/plain": [
       "<Figure size 1440x216 with 1 Axes>"
      ]
     },
     "metadata": {
      "needs_background": "light"
     },
     "output_type": "display_data"
    }
   ],
   "source": [
    "data.Industry.value_counts().plot(kind=\"bar\",figsize=(20,3))\n",
    "plt.title(\"Industry with their Unicorn Stauts\", fontdict={\"fontsize\":20})"
   ]
  },
  {
   "cell_type": "code",
   "execution_count": 16,
   "id": "6c06d74c",
   "metadata": {
    "execution": {
     "iopub.execute_input": "2022-09-08T08:05:38.621703Z",
     "iopub.status.busy": "2022-09-08T08:05:38.620799Z",
     "iopub.status.idle": "2022-09-08T08:05:38.873637Z",
     "shell.execute_reply": "2022-09-08T08:05:38.872630Z"
    },
    "papermill": {
     "duration": 0.268649,
     "end_time": "2022-09-08T08:05:38.876097",
     "exception": false,
     "start_time": "2022-09-08T08:05:38.607448",
     "status": "completed"
    },
    "tags": []
   },
   "outputs": [
    {
     "data": {
      "text/plain": [
       "Text(0.5, 1.0, 'Yearly companies joined unicorn club')"
      ]
     },
     "execution_count": 16,
     "metadata": {},
     "output_type": "execute_result"
    },
    {
     "data": {
      "image/png": "[encoded data removed]",
      "text/plain": [
       "<Figure size 1440x216 with 1 Axes>"
      ]
     },
     "metadata": {
      "needs_background": "light"
     },
     "output_type": "display_data"
    }
   ],
   "source": [
    "data.year.value_counts().plot(kind=\"bar\",figsize=(20,3))\n",
    "\n",
    "plt.title(\"Yearly companies joined unicorn club\", fontdict={\"fontsize\":20})"
   ]
  },
  {
   "cell_type": "markdown",
   "id": "52e19566",
   "metadata": {
    "papermill": {
     "duration": 0.011595,
     "end_time": "2022-09-08T08:05:38.899280",
     "exception": false,
     "start_time": "2022-09-08T08:05:38.887685",
     "status": "completed"
    },
    "tags": []
   },
   "source": [
    "**Line graph - US Based Companies**"
   ]
  },
  {
   "cell_type": "code",
   "execution_count": 17,
   "id": "e9d2ae94",
   "metadata": {
    "execution": {
     "iopub.execute_input": "2022-09-08T08:05:38.924695Z",
     "iopub.status.busy": "2022-09-08T08:05:38.924082Z",
     "iopub.status.idle": "2022-09-08T08:05:38.946737Z",
     "shell.execute_reply": "2022-09-08T08:05:38.945683Z"
    },
    "papermill": {
     "duration": 0.037968,
     "end_time": "2022-09-08T08:05:38.948979",
     "exception": false,
     "start_time": "2022-09-08T08:05:38.911011",
     "status": "completed"
    },
    "tags": []
   },
   "outputs": [
    {
     "data": {
      "text/html": [
       "<div>\n",
       "<style scoped>\n",
       "    .dataframe tbody tr th:only-of-type {\n",
       "        vertical-align: middle;\n",
       "    }\n",
       "\n",
       "    .dataframe tbody tr th {\n",
       "        vertical-align: top;\n",
       "    }\n",
       "\n",
       "    .dataframe thead th {\n",
       "        text-align: right;\n",
       "    }\n",
       "</style>\n",
       "<table border=\"1\" class=\"dataframe\">\n",
       "  <thead>\n",
       "    <tr style=\"text-align: right;\">\n",
       "      <th></th>\n",
       "      <th>Company</th>\n",
       "      <th>Valuation</th>\n",
       "      <th>Date</th>\n",
       "      <th>Country</th>\n",
       "      <th>City</th>\n",
       "      <th>Industry</th>\n",
       "      <th>Investors</th>\n",
       "      <th>year</th>\n",
       "      <th>month</th>\n",
       "      <th>day</th>\n",
       "    </tr>\n",
       "  </thead>\n",
       "  <tbody>\n",
       "    <tr>\n",
       "      <th>1</th>\n",
       "      <td>SpaceX</td>\n",
       "      <td>100.3</td>\n",
       "      <td>12/1/2012</td>\n",
       "      <td>United States</td>\n",
       "      <td>Hawthorne</td>\n",
       "      <td>Other</td>\n",
       "      <td>0      Sequoia Capital China, SIG Asia Investm...</td>\n",
       "      <td>2012</td>\n",
       "      <td>1</td>\n",
       "      <td>12</td>\n",
       "    </tr>\n",
       "    <tr>\n",
       "      <th>2</th>\n",
       "      <td>Stripe</td>\n",
       "      <td>95.0</td>\n",
       "      <td>1/23/2014</td>\n",
       "      <td>United States</td>\n",
       "      <td>San Francisco</td>\n",
       "      <td>Fintech</td>\n",
       "      <td>0      Sequoia Capital China, SIG Asia Investm...</td>\n",
       "      <td>2014</td>\n",
       "      <td>23</td>\n",
       "      <td>1</td>\n",
       "    </tr>\n",
       "    <tr>\n",
       "      <th>5</th>\n",
       "      <td>Instacart</td>\n",
       "      <td>39.0</td>\n",
       "      <td>12/30/2014</td>\n",
       "      <td>United States</td>\n",
       "      <td>San Francisco</td>\n",
       "      <td>Supply chain, logistics, &amp; delivery</td>\n",
       "      <td>0      Sequoia Capital China, SIG Asia Investm...</td>\n",
       "      <td>2014</td>\n",
       "      <td>30</td>\n",
       "      <td>12</td>\n",
       "    </tr>\n",
       "    <tr>\n",
       "      <th>6</th>\n",
       "      <td>Databricks</td>\n",
       "      <td>38.0</td>\n",
       "      <td>2/5/2019</td>\n",
       "      <td>United States</td>\n",
       "      <td>San Francisco</td>\n",
       "      <td>Data management &amp; analytics</td>\n",
       "      <td>0      Sequoia Capital China, SIG Asia Investm...</td>\n",
       "      <td>2019</td>\n",
       "      <td>5</td>\n",
       "      <td>2</td>\n",
       "    </tr>\n",
       "    <tr>\n",
       "      <th>9</th>\n",
       "      <td>Epic Games</td>\n",
       "      <td>28.7</td>\n",
       "      <td>10/26/2018</td>\n",
       "      <td>United States</td>\n",
       "      <td>Cary</td>\n",
       "      <td>Other</td>\n",
       "      <td>0      Sequoia Capital China, SIG Asia Investm...</td>\n",
       "      <td>2018</td>\n",
       "      <td>26</td>\n",
       "      <td>10</td>\n",
       "    </tr>\n",
       "    <tr>\n",
       "      <th>10</th>\n",
       "      <td>Chime</td>\n",
       "      <td>25.0</td>\n",
       "      <td>3/5/2019</td>\n",
       "      <td>United States</td>\n",
       "      <td>San Francisco</td>\n",
       "      <td>Fintech</td>\n",
       "      <td>0      Sequoia Capital China, SIG Asia Investm...</td>\n",
       "      <td>2019</td>\n",
       "      <td>5</td>\n",
       "      <td>3</td>\n",
       "    </tr>\n",
       "    <tr>\n",
       "      <th>15</th>\n",
       "      <td>Fanatics</td>\n",
       "      <td>18.0</td>\n",
       "      <td>6/6/2012</td>\n",
       "      <td>United States</td>\n",
       "      <td>Jacksonville</td>\n",
       "      <td>E-commerce &amp; direct-to-consumer</td>\n",
       "      <td>0      Sequoia Capital China, SIG Asia Investm...</td>\n",
       "      <td>2012</td>\n",
       "      <td>6</td>\n",
       "      <td>6</td>\n",
       "    </tr>\n",
       "    <tr>\n",
       "      <th>20</th>\n",
       "      <td>goPuff</td>\n",
       "      <td>15.0</td>\n",
       "      <td>10/8/2020</td>\n",
       "      <td>United States</td>\n",
       "      <td>Philadelphia</td>\n",
       "      <td>E-commerce &amp; direct-to-consumer</td>\n",
       "      <td>0      Sequoia Capital China, SIG Asia Investm...</td>\n",
       "      <td>2020</td>\n",
       "      <td>8</td>\n",
       "      <td>10</td>\n",
       "    </tr>\n",
       "    <tr>\n",
       "      <th>21</th>\n",
       "      <td>Plaid Technologies</td>\n",
       "      <td>13.4</td>\n",
       "      <td>12/11/2018</td>\n",
       "      <td>United States</td>\n",
       "      <td>San Francisco</td>\n",
       "      <td>Fintech</td>\n",
       "      <td>0      Sequoia Capital China, SIG Asia Investm...</td>\n",
       "      <td>2018</td>\n",
       "      <td>11</td>\n",
       "      <td>12</td>\n",
       "    </tr>\n",
       "    <tr>\n",
       "      <th>22</th>\n",
       "      <td>Grammarly</td>\n",
       "      <td>13.0</td>\n",
       "      <td>10/10/2019</td>\n",
       "      <td>United States</td>\n",
       "      <td>San Francisco</td>\n",
       "      <td>Internet software &amp; services</td>\n",
       "      <td>0      Sequoia Capital China, SIG Asia Investm...</td>\n",
       "      <td>2019</td>\n",
       "      <td>10</td>\n",
       "      <td>10</td>\n",
       "    </tr>\n",
       "  </tbody>\n",
       "</table>\n",
       "</div>"
      ],
      "text/plain": [
       "               Company  Valuation        Date        Country           City  \\\n",
       "1               SpaceX      100.3   12/1/2012  United States      Hawthorne   \n",
       "2               Stripe       95.0   1/23/2014  United States  San Francisco   \n",
       "5            Instacart       39.0  12/30/2014  United States  San Francisco   \n",
       "6           Databricks       38.0    2/5/2019  United States  San Francisco   \n",
       "9           Epic Games       28.7  10/26/2018  United States           Cary   \n",
       "10               Chime       25.0    3/5/2019  United States  San Francisco   \n",
       "15            Fanatics       18.0    6/6/2012  United States   Jacksonville   \n",
       "20              goPuff       15.0   10/8/2020  United States   Philadelphia   \n",
       "21  Plaid Technologies       13.4  12/11/2018  United States  San Francisco   \n",
       "22           Grammarly       13.0  10/10/2019  United States  San Francisco   \n",
       "\n",
       "                               Industry  \\\n",
       "1                                 Other   \n",
       "2                               Fintech   \n",
       "5   Supply chain, logistics, & delivery   \n",
       "6           Data management & analytics   \n",
       "9                                 Other   \n",
       "10                              Fintech   \n",
       "15      E-commerce & direct-to-consumer   \n",
       "20      E-commerce & direct-to-consumer   \n",
       "21                              Fintech   \n",
       "22         Internet software & services   \n",
       "\n",
       "                                            Investors  year  month  day  \n",
       "1   0      Sequoia Capital China, SIG Asia Investm...  2012      1   12  \n",
       "2   0      Sequoia Capital China, SIG Asia Investm...  2014     23    1  \n",
       "5   0      Sequoia Capital China, SIG Asia Investm...  2014     30   12  \n",
       "6   0      Sequoia Capital China, SIG Asia Investm...  2019      5    2  \n",
       "9   0      Sequoia Capital China, SIG Asia Investm...  2018     26   10  \n",
       "10  0      Sequoia Capital China, SIG Asia Investm...  2019      5    3  \n",
       "15  0      Sequoia Capital China, SIG Asia Investm...  2012      6    6  \n",
       "20  0      Sequoia Capital China, SIG Asia Investm...  2020      8   10  \n",
       "21  0      Sequoia Capital China, SIG Asia Investm...  2018     11   12  \n",
       "22  0      Sequoia Capital China, SIG Asia Investm...  2019     10   10  "
      ]
     },
     "execution_count": 17,
     "metadata": {},
     "output_type": "execute_result"
    }
   ],
   "source": [
    "USData = data[data['Country']==\"United States\"]\n",
    "USData.head(10)"
   ]
  },
  {
   "cell_type": "code",
   "execution_count": 18,
   "id": "1a03a0cb",
   "metadata": {
    "execution": {
     "iopub.execute_input": "2022-09-08T08:05:38.975405Z",
     "iopub.status.busy": "2022-09-08T08:05:38.974375Z",
     "iopub.status.idle": "2022-09-08T08:05:38.982622Z",
     "shell.execute_reply": "2022-09-08T08:05:38.981725Z"
    },
    "papermill": {
     "duration": 0.023348,
     "end_time": "2022-09-08T08:05:38.984681",
     "exception": false,
     "start_time": "2022-09-08T08:05:38.961333",
     "status": "completed"
    },
    "tags": []
   },
   "outputs": [
    {
     "name": "stdout",
     "output_type": "stream",
     "text": [
      "Number of US startups count is:\n"
     ]
    },
    {
     "data": {
      "text/plain": [
       "477"
      ]
     },
     "execution_count": 18,
     "metadata": {},
     "output_type": "execute_result"
    }
   ],
   "source": [
    "print(\"Number of US startups count is:\")\n",
    "USData[\"Company\"].count()"
   ]
  },
  {
   "cell_type": "code",
   "execution_count": 19,
   "id": "9593b116",
   "metadata": {
    "execution": {
     "iopub.execute_input": "2022-09-08T08:05:39.010953Z",
     "iopub.status.busy": "2022-09-08T08:05:39.010502Z",
     "iopub.status.idle": "2022-09-08T08:05:39.265093Z",
     "shell.execute_reply": "2022-09-08T08:05:39.263937Z"
    },
    "papermill": {
     "duration": 0.271305,
     "end_time": "2022-09-08T08:05:39.268066",
     "exception": false,
     "start_time": "2022-09-08T08:05:38.996761",
     "status": "completed"
    },
    "tags": []
   },
   "outputs": [
    {
     "data": {
      "text/plain": [
       "<AxesSubplot:>"
      ]
     },
     "execution_count": 19,
     "metadata": {},
     "output_type": "execute_result"
    },
    {
     "data": {
      "image/png": "[encoded data removed]",
      "text/plain": [
       "<Figure size 432x288 with 1 Axes>"
      ]
     },
     "metadata": {
      "needs_background": "light"
     },
     "output_type": "display_data"
    }
   ],
   "source": [
    "\n",
    "USData.plot(kind=\"line\")\n"
   ]
  },
  {
   "cell_type": "markdown",
   "id": "05117bba",
   "metadata": {
    "papermill": {
     "duration": 0.012107,
     "end_time": "2022-09-08T08:05:39.292669",
     "exception": false,
     "start_time": "2022-09-08T08:05:39.280562",
     "status": "completed"
    },
    "tags": []
   },
   "source": [
    "Line takes numeric only only"
   ]
  },
  {
   "cell_type": "markdown",
   "id": "b847ab9d",
   "metadata": {
    "papermill": {
     "duration": 0.011823,
     "end_time": "2022-09-08T08:05:39.316706",
     "exception": false,
     "start_time": "2022-09-08T08:05:39.304883",
     "status": "completed"
    },
    "tags": []
   },
   "source": [
    "**How many fintech comapny in ths US**"
   ]
  },
  {
   "cell_type": "code",
   "execution_count": 20,
   "id": "46ccc571",
   "metadata": {
    "execution": {
     "iopub.execute_input": "2022-09-08T08:05:39.343743Z",
     "iopub.status.busy": "2022-09-08T08:05:39.342619Z",
     "iopub.status.idle": "2022-09-08T08:05:39.350739Z",
     "shell.execute_reply": "2022-09-08T08:05:39.349384Z"
    },
    "papermill": {
     "duration": 0.02414,
     "end_time": "2022-09-08T08:05:39.353120",
     "exception": false,
     "start_time": "2022-09-08T08:05:39.328980",
     "status": "completed"
    },
    "tags": []
   },
   "outputs": [
    {
     "name": "stdout",
     "output_type": "stream",
     "text": [
      "Number of fintech comapny in ths US: 99\n"
     ]
    }
   ],
   "source": [
    "print(\"Number of fintech comapny in ths US:\",USData[\"Industry\"].value_counts().Fintech)"
   ]
  },
  {
   "cell_type": "markdown",
   "id": "a5ec698b",
   "metadata": {
    "papermill": {
     "duration": 0.01205,
     "end_time": "2022-09-08T08:05:39.377751",
     "exception": false,
     "start_time": "2022-09-08T08:05:39.365701",
     "status": "completed"
    },
    "tags": []
   },
   "source": []
  },
  {
   "cell_type": "markdown",
   "id": "c49c9770",
   "metadata": {
    "papermill": {
     "duration": 0.012022,
     "end_time": "2022-09-08T08:05:39.402532",
     "exception": false,
     "start_time": "2022-09-08T08:05:39.390510",
     "status": "completed"
    },
    "tags": []
   },
   "source": [
    "**Most valued unicorn based country**"
   ]
  },
  {
   "cell_type": "code",
   "execution_count": 21,
   "id": "27d295fc",
   "metadata": {
    "execution": {
     "iopub.execute_input": "2022-09-08T08:05:39.429833Z",
     "iopub.status.busy": "2022-09-08T08:05:39.428585Z",
     "iopub.status.idle": "2022-09-08T08:05:39.444305Z",
     "shell.execute_reply": "2022-09-08T08:05:39.442918Z"
    },
    "papermill": {
     "duration": 0.031557,
     "end_time": "2022-09-08T08:05:39.446528",
     "exception": false,
     "start_time": "2022-09-08T08:05:39.414971",
     "status": "completed"
    },
    "tags": []
   },
   "outputs": [
    {
     "name": "stdout",
     "output_type": "stream",
     "text": [
      " top 10 most valued unicorn based country \n"
     ]
    },
    {
     "data": {
      "text/html": [
       "<div>\n",
       "<style scoped>\n",
       "    .dataframe tbody tr th:only-of-type {\n",
       "        vertical-align: middle;\n",
       "    }\n",
       "\n",
       "    .dataframe tbody tr th {\n",
       "        vertical-align: top;\n",
       "    }\n",
       "\n",
       "    .dataframe thead th {\n",
       "        text-align: right;\n",
       "    }\n",
       "</style>\n",
       "<table border=\"1\" class=\"dataframe\">\n",
       "  <thead>\n",
       "    <tr style=\"text-align: right;\">\n",
       "      <th></th>\n",
       "      <th>Country</th>\n",
       "      <th>Valuation</th>\n",
       "    </tr>\n",
       "  </thead>\n",
       "  <tbody>\n",
       "    <tr>\n",
       "      <th>43</th>\n",
       "      <td>United States</td>\n",
       "      <td>477</td>\n",
       "    </tr>\n",
       "    <tr>\n",
       "      <th>8</th>\n",
       "      <td>China</td>\n",
       "      <td>169</td>\n",
       "    </tr>\n",
       "    <tr>\n",
       "      <th>18</th>\n",
       "      <td>India</td>\n",
       "      <td>51</td>\n",
       "    </tr>\n",
       "    <tr>\n",
       "      <th>42</th>\n",
       "      <td>United Kingdom</td>\n",
       "      <td>37</td>\n",
       "    </tr>\n",
       "    <tr>\n",
       "      <th>16</th>\n",
       "      <td>Germany</td>\n",
       "      <td>23</td>\n",
       "    </tr>\n",
       "    <tr>\n",
       "      <th>22</th>\n",
       "      <td>Israel</td>\n",
       "      <td>21</td>\n",
       "    </tr>\n",
       "    <tr>\n",
       "      <th>15</th>\n",
       "      <td>France</td>\n",
       "      <td>19</td>\n",
       "    </tr>\n",
       "    <tr>\n",
       "      <th>5</th>\n",
       "      <td>Brazil</td>\n",
       "      <td>15</td>\n",
       "    </tr>\n",
       "    <tr>\n",
       "      <th>6</th>\n",
       "      <td>Canada</td>\n",
       "      <td>15</td>\n",
       "    </tr>\n",
       "    <tr>\n",
       "      <th>35</th>\n",
       "      <td>South Korea</td>\n",
       "      <td>11</td>\n",
       "    </tr>\n",
       "  </tbody>\n",
       "</table>\n",
       "</div>"
      ],
      "text/plain": [
       "           Country  Valuation\n",
       "43   United States        477\n",
       "8            China        169\n",
       "18           India         51\n",
       "42  United Kingdom         37\n",
       "16         Germany         23\n",
       "22          Israel         21\n",
       "15          France         19\n",
       "5           Brazil         15\n",
       "6           Canada         15\n",
       "35     South Korea         11"
      ]
     },
     "execution_count": 21,
     "metadata": {},
     "output_type": "execute_result"
    }
   ],
   "source": [
    "dfvalued=data.groupby(\"Country\", as_index=False).Valuation.count()\n",
    "print(\" top 10 most valued unicorn based country \")\n",
    "dfvalued.sort_values(by=\"Valuation\",ascending=False).head(10)"
   ]
  },
  {
   "cell_type": "markdown",
   "id": "7b746105",
   "metadata": {
    "papermill": {
     "duration": 0.012771,
     "end_time": "2022-09-08T08:05:39.472051",
     "exception": false,
     "start_time": "2022-09-08T08:05:39.459280",
     "status": "completed"
    },
    "tags": []
   },
   "source": [
    "**Based on valuation which company has most valuation**"
   ]
  },
  {
   "cell_type": "code",
   "execution_count": 22,
   "id": "0fdbf6a4",
   "metadata": {
    "execution": {
     "iopub.execute_input": "2022-09-08T08:05:39.499206Z",
     "iopub.status.busy": "2022-09-08T08:05:39.498760Z",
     "iopub.status.idle": "2022-09-08T08:05:39.517060Z",
     "shell.execute_reply": "2022-09-08T08:05:39.516099Z"
    },
    "papermill": {
     "duration": 0.034363,
     "end_time": "2022-09-08T08:05:39.519119",
     "exception": false,
     "start_time": "2022-09-08T08:05:39.484756",
     "status": "completed"
    },
    "tags": []
   },
   "outputs": [
    {
     "name": "stdout",
     "output_type": "stream",
     "text": [
      "Based on valuation which company has most valuation\n"
     ]
    },
    {
     "data": {
      "text/html": [
       "<div>\n",
       "<style scoped>\n",
       "    .dataframe tbody tr th:only-of-type {\n",
       "        vertical-align: middle;\n",
       "    }\n",
       "\n",
       "    .dataframe tbody tr th {\n",
       "        vertical-align: top;\n",
       "    }\n",
       "\n",
       "    .dataframe thead th {\n",
       "        text-align: right;\n",
       "    }\n",
       "</style>\n",
       "<table border=\"1\" class=\"dataframe\">\n",
       "  <thead>\n",
       "    <tr style=\"text-align: right;\">\n",
       "      <th></th>\n",
       "      <th>Company</th>\n",
       "      <th>Valuation</th>\n",
       "    </tr>\n",
       "  </thead>\n",
       "  <tbody>\n",
       "    <tr>\n",
       "      <th>113</th>\n",
       "      <td>Bytedance</td>\n",
       "      <td>140.0</td>\n",
       "    </tr>\n",
       "  </tbody>\n",
       "</table>\n",
       "</div>"
      ],
      "text/plain": [
       "       Company  Valuation\n",
       "113  Bytedance      140.0"
      ]
     },
     "execution_count": 22,
     "metadata": {},
     "output_type": "execute_result"
    }
   ],
   "source": [
    "dfcom=data.groupby(\"Company\", as_index=False).Valuation.max()\n",
    "print(\"Based on valuation which company has most valuation\")\n",
    "dfcom.sort_values(by=\"Valuation\",ascending=False).head(1)"
   ]
  },
  {
   "cell_type": "markdown",
   "id": "c3b8c899",
   "metadata": {
    "papermill": {
     "duration": 0.012527,
     "end_time": "2022-09-08T08:05:39.544540",
     "exception": false,
     "start_time": "2022-09-08T08:05:39.532013",
     "status": "completed"
    },
    "tags": []
   },
   "source": [
    "**Which city has most valuation startups in world?**"
   ]
  },
  {
   "cell_type": "code",
   "execution_count": 23,
   "id": "37d8a0d3",
   "metadata": {
    "execution": {
     "iopub.execute_input": "2022-09-08T08:05:39.572528Z",
     "iopub.status.busy": "2022-09-08T08:05:39.571733Z",
     "iopub.status.idle": "2022-09-08T08:05:39.586671Z",
     "shell.execute_reply": "2022-09-08T08:05:39.585162Z"
    },
    "papermill": {
     "duration": 0.031987,
     "end_time": "2022-09-08T08:05:39.589401",
     "exception": false,
     "start_time": "2022-09-08T08:05:39.557414",
     "status": "completed"
    },
    "tags": []
   },
   "outputs": [
    {
     "name": "stdout",
     "output_type": "stream",
     "text": [
      "Based on valuation Which city has most valuation startups in world\n"
     ]
    },
    {
     "data": {
      "text/html": [
       "<div>\n",
       "<style scoped>\n",
       "    .dataframe tbody tr th:only-of-type {\n",
       "        vertical-align: middle;\n",
       "    }\n",
       "\n",
       "    .dataframe tbody tr th {\n",
       "        vertical-align: top;\n",
       "    }\n",
       "\n",
       "    .dataframe thead th {\n",
       "        text-align: right;\n",
       "    }\n",
       "</style>\n",
       "<table border=\"1\" class=\"dataframe\">\n",
       "  <thead>\n",
       "    <tr style=\"text-align: right;\">\n",
       "      <th></th>\n",
       "      <th>City</th>\n",
       "      <th>Valuation</th>\n",
       "    </tr>\n",
       "  </thead>\n",
       "  <tbody>\n",
       "    <tr>\n",
       "      <th>183</th>\n",
       "      <td>San Francisco</td>\n",
       "      <td>134</td>\n",
       "    </tr>\n",
       "  </tbody>\n",
       "</table>\n",
       "</div>"
      ],
      "text/plain": [
       "              City  Valuation\n",
       "183  San Francisco        134"
      ]
     },
     "execution_count": 23,
     "metadata": {},
     "output_type": "execute_result"
    }
   ],
   "source": [
    "dfcity=data.groupby(\"City\", as_index=False).Valuation.count()\n",
    "print(\"Based on valuation Which city has most valuation startups in world\")\n",
    "dfcity.sort_values(by=\"Valuation\",ascending=False).head(1)"
   ]
  },
  {
   "cell_type": "markdown",
   "id": "6f2b1c03",
   "metadata": {
    "papermill": {
     "duration": 0.012742,
     "end_time": "2022-09-08T08:05:39.615695",
     "exception": false,
     "start_time": "2022-09-08T08:05:39.602953",
     "status": "completed"
    },
    "tags": []
   },
   "source": [
    "**Total number of valuation startups in all cities**"
   ]
  },
  {
   "cell_type": "code",
   "execution_count": 24,
   "id": "3f17370d",
   "metadata": {
    "execution": {
     "iopub.execute_input": "2022-09-08T08:05:39.645033Z",
     "iopub.status.busy": "2022-09-08T08:05:39.644181Z",
     "iopub.status.idle": "2022-09-08T08:05:39.661732Z",
     "shell.execute_reply": "2022-09-08T08:05:39.659986Z"
    },
    "papermill": {
     "duration": 0.035318,
     "end_time": "2022-09-08T08:05:39.664807",
     "exception": false,
     "start_time": "2022-09-08T08:05:39.629489",
     "status": "completed"
    },
    "tags": []
   },
   "outputs": [
    {
     "name": "stdout",
     "output_type": "stream",
     "text": [
      "Total number of valuation startups in all cities\n"
     ]
    },
    {
     "data": {
      "text/html": [
       "<div>\n",
       "<style scoped>\n",
       "    .dataframe tbody tr th:only-of-type {\n",
       "        vertical-align: middle;\n",
       "    }\n",
       "\n",
       "    .dataframe tbody tr th {\n",
       "        vertical-align: top;\n",
       "    }\n",
       "\n",
       "    .dataframe thead th {\n",
       "        text-align: right;\n",
       "    }\n",
       "</style>\n",
       "<table border=\"1\" class=\"dataframe\">\n",
       "  <thead>\n",
       "    <tr style=\"text-align: right;\">\n",
       "      <th></th>\n",
       "      <th>City</th>\n",
       "      <th>Valuation</th>\n",
       "    </tr>\n",
       "  </thead>\n",
       "  <tbody>\n",
       "    <tr>\n",
       "      <th>0</th>\n",
       "      <td>Aarhus</td>\n",
       "      <td>1</td>\n",
       "    </tr>\n",
       "    <tr>\n",
       "      <th>131</th>\n",
       "      <td>Maharashtra</td>\n",
       "      <td>1</td>\n",
       "    </tr>\n",
       "    <tr>\n",
       "      <th>132</th>\n",
       "      <td>Manila</td>\n",
       "      <td>1</td>\n",
       "    </tr>\n",
       "    <tr>\n",
       "      <th>133</th>\n",
       "      <td>Marina del Rey</td>\n",
       "      <td>1</td>\n",
       "    </tr>\n",
       "    <tr>\n",
       "      <th>134</th>\n",
       "      <td>McLean</td>\n",
       "      <td>1</td>\n",
       "    </tr>\n",
       "    <tr>\n",
       "      <th>...</th>\n",
       "      <td>...</td>\n",
       "      <td>...</td>\n",
       "    </tr>\n",
       "    <tr>\n",
       "      <th>121</th>\n",
       "      <td>London</td>\n",
       "      <td>28</td>\n",
       "    </tr>\n",
       "    <tr>\n",
       "      <th>198</th>\n",
       "      <td>Shanghai</td>\n",
       "      <td>45</td>\n",
       "    </tr>\n",
       "    <tr>\n",
       "      <th>13</th>\n",
       "      <td>Beijing</td>\n",
       "      <td>62</td>\n",
       "    </tr>\n",
       "    <tr>\n",
       "      <th>150</th>\n",
       "      <td>New York</td>\n",
       "      <td>81</td>\n",
       "    </tr>\n",
       "    <tr>\n",
       "      <th>183</th>\n",
       "      <td>San Francisco</td>\n",
       "      <td>134</td>\n",
       "    </tr>\n",
       "  </tbody>\n",
       "</table>\n",
       "<p>239 rows × 2 columns</p>\n",
       "</div>"
      ],
      "text/plain": [
       "               City  Valuation\n",
       "0            Aarhus          1\n",
       "131     Maharashtra          1\n",
       "132          Manila          1\n",
       "133  Marina del Rey          1\n",
       "134          McLean          1\n",
       "..              ...        ...\n",
       "121          London         28\n",
       "198        Shanghai         45\n",
       "13          Beijing         62\n",
       "150        New York         81\n",
       "183   San Francisco        134\n",
       "\n",
       "[239 rows x 2 columns]"
      ]
     },
     "execution_count": 24,
     "metadata": {},
     "output_type": "execute_result"
    }
   ],
   "source": [
    "dfcity=data.groupby(\"City\", as_index=False).Valuation.count()\n",
    "print(\"Total number of valuation startups in all cities\")\n",
    "dfcity.sort_values(by=\"Valuation\",ascending=True)"
   ]
  },
  {
   "cell_type": "markdown",
   "id": "2dd74a8b",
   "metadata": {
    "papermill": {
     "duration": 0.014555,
     "end_time": "2022-09-08T08:05:39.693517",
     "exception": false,
     "start_time": "2022-09-08T08:05:39.678962",
     "status": "completed"
    },
    "tags": []
   },
   "source": [
    "**Check unicorn startups in San Francisco**"
   ]
  },
  {
   "cell_type": "code",
   "execution_count": 25,
   "id": "8fedc9c7",
   "metadata": {
    "execution": {
     "iopub.execute_input": "2022-09-08T08:05:39.723248Z",
     "iopub.status.busy": "2022-09-08T08:05:39.722320Z",
     "iopub.status.idle": "2022-09-08T08:05:39.745955Z",
     "shell.execute_reply": "2022-09-08T08:05:39.744497Z"
    },
    "papermill": {
     "duration": 0.041238,
     "end_time": "2022-09-08T08:05:39.748405",
     "exception": false,
     "start_time": "2022-09-08T08:05:39.707167",
     "status": "completed"
    },
    "tags": []
   },
   "outputs": [
    {
     "data": {
      "text/html": [
       "<div>\n",
       "<style scoped>\n",
       "    .dataframe tbody tr th:only-of-type {\n",
       "        vertical-align: middle;\n",
       "    }\n",
       "\n",
       "    .dataframe tbody tr th {\n",
       "        vertical-align: top;\n",
       "    }\n",
       "\n",
       "    .dataframe thead th {\n",
       "        text-align: right;\n",
       "    }\n",
       "</style>\n",
       "<table border=\"1\" class=\"dataframe\">\n",
       "  <thead>\n",
       "    <tr style=\"text-align: right;\">\n",
       "      <th></th>\n",
       "      <th>Company</th>\n",
       "      <th>Valuation</th>\n",
       "      <th>Date</th>\n",
       "      <th>Country</th>\n",
       "      <th>City</th>\n",
       "      <th>Industry</th>\n",
       "      <th>Investors</th>\n",
       "      <th>year</th>\n",
       "      <th>month</th>\n",
       "      <th>day</th>\n",
       "    </tr>\n",
       "  </thead>\n",
       "  <tbody>\n",
       "    <tr>\n",
       "      <th>2</th>\n",
       "      <td>Stripe</td>\n",
       "      <td>95.0</td>\n",
       "      <td>1/23/2014</td>\n",
       "      <td>United States</td>\n",
       "      <td>San Francisco</td>\n",
       "      <td>Fintech</td>\n",
       "      <td>0      Sequoia Capital China, SIG Asia Investm...</td>\n",
       "      <td>2014</td>\n",
       "      <td>23</td>\n",
       "      <td>1</td>\n",
       "    </tr>\n",
       "    <tr>\n",
       "      <th>5</th>\n",
       "      <td>Instacart</td>\n",
       "      <td>39.0</td>\n",
       "      <td>12/30/2014</td>\n",
       "      <td>United States</td>\n",
       "      <td>San Francisco</td>\n",
       "      <td>Supply chain, logistics, &amp; delivery</td>\n",
       "      <td>0      Sequoia Capital China, SIG Asia Investm...</td>\n",
       "      <td>2014</td>\n",
       "      <td>30</td>\n",
       "      <td>12</td>\n",
       "    </tr>\n",
       "    <tr>\n",
       "      <th>6</th>\n",
       "      <td>Databricks</td>\n",
       "      <td>38.0</td>\n",
       "      <td>2/5/2019</td>\n",
       "      <td>United States</td>\n",
       "      <td>San Francisco</td>\n",
       "      <td>Data management &amp; analytics</td>\n",
       "      <td>0      Sequoia Capital China, SIG Asia Investm...</td>\n",
       "      <td>2019</td>\n",
       "      <td>5</td>\n",
       "      <td>2</td>\n",
       "    </tr>\n",
       "    <tr>\n",
       "      <th>10</th>\n",
       "      <td>Chime</td>\n",
       "      <td>25.0</td>\n",
       "      <td>3/5/2019</td>\n",
       "      <td>United States</td>\n",
       "      <td>San Francisco</td>\n",
       "      <td>Fintech</td>\n",
       "      <td>0      Sequoia Capital China, SIG Asia Investm...</td>\n",
       "      <td>2019</td>\n",
       "      <td>5</td>\n",
       "      <td>3</td>\n",
       "    </tr>\n",
       "    <tr>\n",
       "      <th>21</th>\n",
       "      <td>Plaid Technologies</td>\n",
       "      <td>13.4</td>\n",
       "      <td>12/11/2018</td>\n",
       "      <td>United States</td>\n",
       "      <td>San Francisco</td>\n",
       "      <td>Fintech</td>\n",
       "      <td>0      Sequoia Capital China, SIG Asia Investm...</td>\n",
       "      <td>2018</td>\n",
       "      <td>11</td>\n",
       "      <td>12</td>\n",
       "    </tr>\n",
       "    <tr>\n",
       "      <th>22</th>\n",
       "      <td>Grammarly</td>\n",
       "      <td>13.0</td>\n",
       "      <td>10/10/2019</td>\n",
       "      <td>United States</td>\n",
       "      <td>San Francisco</td>\n",
       "      <td>Internet software &amp; services</td>\n",
       "      <td>0      Sequoia Capital China, SIG Asia Investm...</td>\n",
       "      <td>2019</td>\n",
       "      <td>10</td>\n",
       "      <td>10</td>\n",
       "    </tr>\n",
       "    <tr>\n",
       "      <th>24</th>\n",
       "      <td>Faire</td>\n",
       "      <td>12.4</td>\n",
       "      <td>10/30/2019</td>\n",
       "      <td>United States</td>\n",
       "      <td>San Francisco</td>\n",
       "      <td>Artificial Intelligence</td>\n",
       "      <td>0      Sequoia Capital China, SIG Asia Investm...</td>\n",
       "      <td>2019</td>\n",
       "      <td>30</td>\n",
       "      <td>10</td>\n",
       "    </tr>\n",
       "    <tr>\n",
       "      <th>25</th>\n",
       "      <td>Brex</td>\n",
       "      <td>12.3</td>\n",
       "      <td>10/5/2018</td>\n",
       "      <td>United States</td>\n",
       "      <td>San Francisco</td>\n",
       "      <td>Fintech</td>\n",
       "      <td>0      Sequoia Capital China, SIG Asia Investm...</td>\n",
       "      <td>2018</td>\n",
       "      <td>5</td>\n",
       "      <td>10</td>\n",
       "    </tr>\n",
       "    <tr>\n",
       "      <th>27</th>\n",
       "      <td>JUUL Labs</td>\n",
       "      <td>12.0</td>\n",
       "      <td>12/20/2017</td>\n",
       "      <td>United States</td>\n",
       "      <td>San Francisco</td>\n",
       "      <td>Consumer &amp; retail</td>\n",
       "      <td>0      Sequoia Capital China, SIG Asia Investm...</td>\n",
       "      <td>2017</td>\n",
       "      <td>20</td>\n",
       "      <td>12</td>\n",
       "    </tr>\n",
       "    <tr>\n",
       "      <th>36</th>\n",
       "      <td>Ripple</td>\n",
       "      <td>10.0</td>\n",
       "      <td>12/20/2019</td>\n",
       "      <td>United States</td>\n",
       "      <td>San Francisco</td>\n",
       "      <td>Fintech</td>\n",
       "      <td>0      Sequoia Capital China, SIG Asia Investm...</td>\n",
       "      <td>2019</td>\n",
       "      <td>20</td>\n",
       "      <td>12</td>\n",
       "    </tr>\n",
       "  </tbody>\n",
       "</table>\n",
       "</div>"
      ],
      "text/plain": [
       "               Company  Valuation        Date        Country           City  \\\n",
       "2               Stripe       95.0   1/23/2014  United States  San Francisco   \n",
       "5            Instacart       39.0  12/30/2014  United States  San Francisco   \n",
       "6           Databricks       38.0    2/5/2019  United States  San Francisco   \n",
       "10               Chime       25.0    3/5/2019  United States  San Francisco   \n",
       "21  Plaid Technologies       13.4  12/11/2018  United States  San Francisco   \n",
       "22           Grammarly       13.0  10/10/2019  United States  San Francisco   \n",
       "24               Faire       12.4  10/30/2019  United States  San Francisco   \n",
       "25                Brex       12.3   10/5/2018  United States  San Francisco   \n",
       "27           JUUL Labs       12.0  12/20/2017  United States  San Francisco   \n",
       "36              Ripple       10.0  12/20/2019  United States  San Francisco   \n",
       "\n",
       "                               Industry  \\\n",
       "2                               Fintech   \n",
       "5   Supply chain, logistics, & delivery   \n",
       "6           Data management & analytics   \n",
       "10                              Fintech   \n",
       "21                              Fintech   \n",
       "22         Internet software & services   \n",
       "24              Artificial Intelligence   \n",
       "25                              Fintech   \n",
       "27                    Consumer & retail   \n",
       "36                              Fintech   \n",
       "\n",
       "                                            Investors  year  month  day  \n",
       "2   0      Sequoia Capital China, SIG Asia Investm...  2014     23    1  \n",
       "5   0      Sequoia Capital China, SIG Asia Investm...  2014     30   12  \n",
       "6   0      Sequoia Capital China, SIG Asia Investm...  2019      5    2  \n",
       "10  0      Sequoia Capital China, SIG Asia Investm...  2019      5    3  \n",
       "21  0      Sequoia Capital China, SIG Asia Investm...  2018     11   12  \n",
       "22  0      Sequoia Capital China, SIG Asia Investm...  2019     10   10  \n",
       "24  0      Sequoia Capital China, SIG Asia Investm...  2019     30   10  \n",
       "25  0      Sequoia Capital China, SIG Asia Investm...  2018      5   10  \n",
       "27  0      Sequoia Capital China, SIG Asia Investm...  2017     20   12  \n",
       "36  0      Sequoia Capital China, SIG Asia Investm...  2019     20   12  "
      ]
     },
     "execution_count": 25,
     "metadata": {},
     "output_type": "execute_result"
    }
   ],
   "source": [
    "SFData = data[data['City']==\"San Francisco\"]\n",
    "SFData.head(10)"
   ]
  },
  {
   "cell_type": "markdown",
   "id": "6a1aeb0d",
   "metadata": {
    "papermill": {
     "duration": 0.013492,
     "end_time": "2022-09-08T08:05:39.775543",
     "exception": false,
     "start_time": "2022-09-08T08:05:39.762051",
     "status": "completed"
    },
    "tags": []
   },
   "source": [
    "**Total number of companies in all cities**"
   ]
  },
  {
   "cell_type": "code",
   "execution_count": 26,
   "id": "824554b4",
   "metadata": {
    "execution": {
     "iopub.execute_input": "2022-09-08T08:05:39.806907Z",
     "iopub.status.busy": "2022-09-08T08:05:39.805455Z",
     "iopub.status.idle": "2022-09-08T08:05:39.822751Z",
     "shell.execute_reply": "2022-09-08T08:05:39.821527Z"
    },
    "papermill": {
     "duration": 0.03522,
     "end_time": "2022-09-08T08:05:39.825257",
     "exception": false,
     "start_time": "2022-09-08T08:05:39.790037",
     "status": "completed"
    },
    "tags": []
   },
   "outputs": [
    {
     "name": "stdout",
     "output_type": "stream",
     "text": [
      "Total number of companies in all cities\n"
     ]
    },
    {
     "data": {
      "text/html": [
       "<div>\n",
       "<style scoped>\n",
       "    .dataframe tbody tr th:only-of-type {\n",
       "        vertical-align: middle;\n",
       "    }\n",
       "\n",
       "    .dataframe tbody tr th {\n",
       "        vertical-align: top;\n",
       "    }\n",
       "\n",
       "    .dataframe thead th {\n",
       "        text-align: right;\n",
       "    }\n",
       "</style>\n",
       "<table border=\"1\" class=\"dataframe\">\n",
       "  <thead>\n",
       "    <tr style=\"text-align: right;\">\n",
       "      <th></th>\n",
       "      <th>City</th>\n",
       "      <th>Valuation</th>\n",
       "    </tr>\n",
       "  </thead>\n",
       "  <tbody>\n",
       "    <tr>\n",
       "      <th>0</th>\n",
       "      <td>Aarhus</td>\n",
       "      <td>1</td>\n",
       "    </tr>\n",
       "    <tr>\n",
       "      <th>1</th>\n",
       "      <td>Aberdeen</td>\n",
       "      <td>1</td>\n",
       "    </tr>\n",
       "    <tr>\n",
       "      <th>2</th>\n",
       "      <td>Alameda</td>\n",
       "      <td>1</td>\n",
       "    </tr>\n",
       "    <tr>\n",
       "      <th>3</th>\n",
       "      <td>Alexandria</td>\n",
       "      <td>1</td>\n",
       "    </tr>\n",
       "    <tr>\n",
       "      <th>4</th>\n",
       "      <td>Altrincham</td>\n",
       "      <td>1</td>\n",
       "    </tr>\n",
       "    <tr>\n",
       "      <th>...</th>\n",
       "      <td>...</td>\n",
       "      <td>...</td>\n",
       "    </tr>\n",
       "    <tr>\n",
       "      <th>234</th>\n",
       "      <td>Wuhan</td>\n",
       "      <td>2</td>\n",
       "    </tr>\n",
       "    <tr>\n",
       "      <th>235</th>\n",
       "      <td>Wuxi</td>\n",
       "      <td>1</td>\n",
       "    </tr>\n",
       "    <tr>\n",
       "      <th>236</th>\n",
       "      <td>Zephyr Cove</td>\n",
       "      <td>1</td>\n",
       "    </tr>\n",
       "    <tr>\n",
       "      <th>237</th>\n",
       "      <td>Zhuhai</td>\n",
       "      <td>1</td>\n",
       "    </tr>\n",
       "    <tr>\n",
       "      <th>238</th>\n",
       "      <td>Zurich</td>\n",
       "      <td>1</td>\n",
       "    </tr>\n",
       "  </tbody>\n",
       "</table>\n",
       "<p>239 rows × 2 columns</p>\n",
       "</div>"
      ],
      "text/plain": [
       "            City  Valuation\n",
       "0         Aarhus          1\n",
       "1       Aberdeen          1\n",
       "2        Alameda          1\n",
       "3     Alexandria          1\n",
       "4     Altrincham          1\n",
       "..           ...        ...\n",
       "234        Wuhan          2\n",
       "235         Wuxi          1\n",
       "236  Zephyr Cove          1\n",
       "237       Zhuhai          1\n",
       "238       Zurich          1\n",
       "\n",
       "[239 rows x 2 columns]"
      ]
     },
     "execution_count": 26,
     "metadata": {},
     "output_type": "execute_result"
    }
   ],
   "source": [
    "print(\"Total number of companies in all cities\")\n",
    "data.groupby(\"City\", as_index=False).Valuation.count()"
   ]
  },
  {
   "cell_type": "code",
   "execution_count": null,
   "id": "d6a45767",
   "metadata": {
    "papermill": {
     "duration": 0.014294,
     "end_time": "2022-09-08T08:05:39.853844",
     "exception": false,
     "start_time": "2022-09-08T08:05:39.839550",
     "status": "completed"
    },
    "tags": []
   },
   "outputs": [],
   "source": []
  }
 ],
 "metadata": {
  "kernelspec": {
   "display_name": "Python 3",
   "language": "python",
   "name": "python3"
  },
  "language_info": {
   "codemirror_mode": {
    "name": "ipython",
    "version": 3
   },
   "file_extension": ".py",
   "mimetype": "text/x-python",
   "name": "python",
   "nbconvert_exporter": "python",
   "pygments_lexer": "ipython3",
   "version": "3.7.12"
  },
  "papermill": {
   "default_parameters": {},
   "duration": 14.153311,
   "end_time": "2022-09-08T08:05:40.590648",
   "environment_variables": {},
   "exception": null,
   "input_path": "__notebook__.ipynb",
   "output_path": "__notebook__.ipynb",
   "parameters": {},
   "start_time": "2022-09-08T08:05:26.437337",
   "version": "2.3.4"
  }
 },
 "nbformat": 4,
 "nbformat_minor": 5
}
